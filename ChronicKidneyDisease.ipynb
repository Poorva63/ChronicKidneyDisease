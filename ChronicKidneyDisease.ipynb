{
 "cells": [
  {
   "cell_type": "markdown",
   "id": "6791ddbf",
   "metadata": {},
   "source": [
    "# CHRONIC KIDNEY DISEASE PROJECT"
   ]
  },
  {
   "cell_type": "markdown",
   "id": "ef71e924",
   "metadata": {},
   "source": [
    "# IMPORT LIBRARIES"
   ]
  },
  {
   "cell_type": "code",
   "execution_count": 1,
   "id": "9ae307bb",
   "metadata": {},
   "outputs": [],
   "source": [
    "import pandas as pd\n",
    "import numpy as np\n",
    "import matplotlib.pyplot as plt\n",
    "import seaborn as sns\n",
    "import warnings\n",
    "warnings.filterwarnings(\"ignore\")"
   ]
  },
  {
   "cell_type": "code",
   "execution_count": 2,
   "id": "5898d987",
   "metadata": {},
   "outputs": [],
   "source": [
    "df = pd.read_csv(\"Chronic_Kidney_Disease.csv\",na_values=[\"\\t?\",\"\\t43\",\"\\t6200\",\"\\t8400\",\"\\t84\",\"?\"])"
   ]
  },
  {
   "cell_type": "code",
   "execution_count": 3,
   "id": "fde2fea7",
   "metadata": {},
   "outputs": [
    {
     "data": {
      "text/html": [
       "<div>\n",
       "<style scoped>\n",
       "    .dataframe tbody tr th:only-of-type {\n",
       "        vertical-align: middle;\n",
       "    }\n",
       "\n",
       "    .dataframe tbody tr th {\n",
       "        vertical-align: top;\n",
       "    }\n",
       "\n",
       "    .dataframe thead th {\n",
       "        text-align: right;\n",
       "    }\n",
       "</style>\n",
       "<table border=\"1\" class=\"dataframe\">\n",
       "  <thead>\n",
       "    <tr style=\"text-align: right;\">\n",
       "      <th></th>\n",
       "      <th>Age</th>\n",
       "      <th>Blood_Pressure</th>\n",
       "      <th>Specific_Gravity</th>\n",
       "      <th>Albumin</th>\n",
       "      <th>Sugar</th>\n",
       "      <th>Red_Blood_Cells</th>\n",
       "      <th>Pus_Cell</th>\n",
       "      <th>Pus_Cell_clumps</th>\n",
       "      <th>Bacteria</th>\n",
       "      <th>Blood_Glucose_Random</th>\n",
       "      <th>...</th>\n",
       "      <th>Packed_Cell_Volume</th>\n",
       "      <th>White_Blood_Cell_Count</th>\n",
       "      <th>Red_Blood_Cell_Count</th>\n",
       "      <th>Hypertension</th>\n",
       "      <th>Diabetes</th>\n",
       "      <th>Coronary_Artery_Disease</th>\n",
       "      <th>Appetite</th>\n",
       "      <th>Pedal_Edema</th>\n",
       "      <th>Anemia</th>\n",
       "      <th>Class</th>\n",
       "    </tr>\n",
       "  </thead>\n",
       "  <tbody>\n",
       "    <tr>\n",
       "      <th>0</th>\n",
       "      <td>48.0</td>\n",
       "      <td>80.0</td>\n",
       "      <td>1.020</td>\n",
       "      <td>1.0</td>\n",
       "      <td>0.0</td>\n",
       "      <td>NaN</td>\n",
       "      <td>normal</td>\n",
       "      <td>notpresent</td>\n",
       "      <td>notpresent</td>\n",
       "      <td>121.0</td>\n",
       "      <td>...</td>\n",
       "      <td>44.0</td>\n",
       "      <td>7800.0</td>\n",
       "      <td>5.2</td>\n",
       "      <td>yes</td>\n",
       "      <td>yes</td>\n",
       "      <td>no</td>\n",
       "      <td>good</td>\n",
       "      <td>no</td>\n",
       "      <td>no</td>\n",
       "      <td>ckd</td>\n",
       "    </tr>\n",
       "    <tr>\n",
       "      <th>1</th>\n",
       "      <td>7.0</td>\n",
       "      <td>50.0</td>\n",
       "      <td>1.020</td>\n",
       "      <td>4.0</td>\n",
       "      <td>0.0</td>\n",
       "      <td>NaN</td>\n",
       "      <td>normal</td>\n",
       "      <td>notpresent</td>\n",
       "      <td>notpresent</td>\n",
       "      <td>NaN</td>\n",
       "      <td>...</td>\n",
       "      <td>38.0</td>\n",
       "      <td>6000.0</td>\n",
       "      <td>NaN</td>\n",
       "      <td>no</td>\n",
       "      <td>no</td>\n",
       "      <td>no</td>\n",
       "      <td>good</td>\n",
       "      <td>no</td>\n",
       "      <td>no</td>\n",
       "      <td>ckd</td>\n",
       "    </tr>\n",
       "    <tr>\n",
       "      <th>2</th>\n",
       "      <td>62.0</td>\n",
       "      <td>80.0</td>\n",
       "      <td>1.010</td>\n",
       "      <td>2.0</td>\n",
       "      <td>3.0</td>\n",
       "      <td>normal</td>\n",
       "      <td>normal</td>\n",
       "      <td>notpresent</td>\n",
       "      <td>notpresent</td>\n",
       "      <td>423.0</td>\n",
       "      <td>...</td>\n",
       "      <td>31.0</td>\n",
       "      <td>7500.0</td>\n",
       "      <td>NaN</td>\n",
       "      <td>no</td>\n",
       "      <td>yes</td>\n",
       "      <td>no</td>\n",
       "      <td>poor</td>\n",
       "      <td>no</td>\n",
       "      <td>yes</td>\n",
       "      <td>ckd</td>\n",
       "    </tr>\n",
       "    <tr>\n",
       "      <th>3</th>\n",
       "      <td>48.0</td>\n",
       "      <td>70.0</td>\n",
       "      <td>1.005</td>\n",
       "      <td>4.0</td>\n",
       "      <td>0.0</td>\n",
       "      <td>normal</td>\n",
       "      <td>abnormal</td>\n",
       "      <td>present</td>\n",
       "      <td>notpresent</td>\n",
       "      <td>117.0</td>\n",
       "      <td>...</td>\n",
       "      <td>32.0</td>\n",
       "      <td>6700.0</td>\n",
       "      <td>3.9</td>\n",
       "      <td>yes</td>\n",
       "      <td>no</td>\n",
       "      <td>no</td>\n",
       "      <td>poor</td>\n",
       "      <td>yes</td>\n",
       "      <td>yes</td>\n",
       "      <td>ckd</td>\n",
       "    </tr>\n",
       "    <tr>\n",
       "      <th>4</th>\n",
       "      <td>51.0</td>\n",
       "      <td>80.0</td>\n",
       "      <td>1.010</td>\n",
       "      <td>2.0</td>\n",
       "      <td>0.0</td>\n",
       "      <td>normal</td>\n",
       "      <td>normal</td>\n",
       "      <td>notpresent</td>\n",
       "      <td>notpresent</td>\n",
       "      <td>106.0</td>\n",
       "      <td>...</td>\n",
       "      <td>35.0</td>\n",
       "      <td>7300.0</td>\n",
       "      <td>4.6</td>\n",
       "      <td>no</td>\n",
       "      <td>no</td>\n",
       "      <td>no</td>\n",
       "      <td>good</td>\n",
       "      <td>no</td>\n",
       "      <td>no</td>\n",
       "      <td>ckd</td>\n",
       "    </tr>\n",
       "    <tr>\n",
       "      <th>...</th>\n",
       "      <td>...</td>\n",
       "      <td>...</td>\n",
       "      <td>...</td>\n",
       "      <td>...</td>\n",
       "      <td>...</td>\n",
       "      <td>...</td>\n",
       "      <td>...</td>\n",
       "      <td>...</td>\n",
       "      <td>...</td>\n",
       "      <td>...</td>\n",
       "      <td>...</td>\n",
       "      <td>...</td>\n",
       "      <td>...</td>\n",
       "      <td>...</td>\n",
       "      <td>...</td>\n",
       "      <td>...</td>\n",
       "      <td>...</td>\n",
       "      <td>...</td>\n",
       "      <td>...</td>\n",
       "      <td>...</td>\n",
       "      <td>...</td>\n",
       "    </tr>\n",
       "    <tr>\n",
       "      <th>395</th>\n",
       "      <td>55.0</td>\n",
       "      <td>80.0</td>\n",
       "      <td>1.020</td>\n",
       "      <td>0.0</td>\n",
       "      <td>0.0</td>\n",
       "      <td>normal</td>\n",
       "      <td>normal</td>\n",
       "      <td>notpresent</td>\n",
       "      <td>notpresent</td>\n",
       "      <td>140.0</td>\n",
       "      <td>...</td>\n",
       "      <td>47.0</td>\n",
       "      <td>6700.0</td>\n",
       "      <td>4.9</td>\n",
       "      <td>no</td>\n",
       "      <td>no</td>\n",
       "      <td>no</td>\n",
       "      <td>good</td>\n",
       "      <td>no</td>\n",
       "      <td>no</td>\n",
       "      <td>notckd</td>\n",
       "    </tr>\n",
       "    <tr>\n",
       "      <th>396</th>\n",
       "      <td>42.0</td>\n",
       "      <td>70.0</td>\n",
       "      <td>1.025</td>\n",
       "      <td>0.0</td>\n",
       "      <td>0.0</td>\n",
       "      <td>normal</td>\n",
       "      <td>normal</td>\n",
       "      <td>notpresent</td>\n",
       "      <td>notpresent</td>\n",
       "      <td>75.0</td>\n",
       "      <td>...</td>\n",
       "      <td>54.0</td>\n",
       "      <td>7800.0</td>\n",
       "      <td>6.2</td>\n",
       "      <td>no</td>\n",
       "      <td>no</td>\n",
       "      <td>no</td>\n",
       "      <td>good</td>\n",
       "      <td>no</td>\n",
       "      <td>no</td>\n",
       "      <td>notckd</td>\n",
       "    </tr>\n",
       "    <tr>\n",
       "      <th>397</th>\n",
       "      <td>12.0</td>\n",
       "      <td>80.0</td>\n",
       "      <td>1.020</td>\n",
       "      <td>0.0</td>\n",
       "      <td>0.0</td>\n",
       "      <td>normal</td>\n",
       "      <td>normal</td>\n",
       "      <td>notpresent</td>\n",
       "      <td>notpresent</td>\n",
       "      <td>100.0</td>\n",
       "      <td>...</td>\n",
       "      <td>49.0</td>\n",
       "      <td>6600.0</td>\n",
       "      <td>5.4</td>\n",
       "      <td>no</td>\n",
       "      <td>no</td>\n",
       "      <td>no</td>\n",
       "      <td>good</td>\n",
       "      <td>no</td>\n",
       "      <td>no</td>\n",
       "      <td>notckd</td>\n",
       "    </tr>\n",
       "    <tr>\n",
       "      <th>398</th>\n",
       "      <td>17.0</td>\n",
       "      <td>60.0</td>\n",
       "      <td>1.025</td>\n",
       "      <td>0.0</td>\n",
       "      <td>0.0</td>\n",
       "      <td>normal</td>\n",
       "      <td>normal</td>\n",
       "      <td>notpresent</td>\n",
       "      <td>notpresent</td>\n",
       "      <td>114.0</td>\n",
       "      <td>...</td>\n",
       "      <td>51.0</td>\n",
       "      <td>7200.0</td>\n",
       "      <td>5.9</td>\n",
       "      <td>no</td>\n",
       "      <td>no</td>\n",
       "      <td>no</td>\n",
       "      <td>good</td>\n",
       "      <td>no</td>\n",
       "      <td>no</td>\n",
       "      <td>notckd</td>\n",
       "    </tr>\n",
       "    <tr>\n",
       "      <th>399</th>\n",
       "      <td>58.0</td>\n",
       "      <td>80.0</td>\n",
       "      <td>1.025</td>\n",
       "      <td>0.0</td>\n",
       "      <td>0.0</td>\n",
       "      <td>normal</td>\n",
       "      <td>normal</td>\n",
       "      <td>notpresent</td>\n",
       "      <td>notpresent</td>\n",
       "      <td>131.0</td>\n",
       "      <td>...</td>\n",
       "      <td>53.0</td>\n",
       "      <td>6800.0</td>\n",
       "      <td>6.1</td>\n",
       "      <td>no</td>\n",
       "      <td>no</td>\n",
       "      <td>no</td>\n",
       "      <td>good</td>\n",
       "      <td>no</td>\n",
       "      <td>no</td>\n",
       "      <td>notckd</td>\n",
       "    </tr>\n",
       "  </tbody>\n",
       "</table>\n",
       "<p>400 rows × 25 columns</p>\n",
       "</div>"
      ],
      "text/plain": [
       "      Age  Blood_Pressure  Specific_Gravity  Albumin  Sugar Red_Blood_Cells  \\\n",
       "0    48.0            80.0             1.020      1.0    0.0             NaN   \n",
       "1     7.0            50.0             1.020      4.0    0.0             NaN   \n",
       "2    62.0            80.0             1.010      2.0    3.0          normal   \n",
       "3    48.0            70.0             1.005      4.0    0.0          normal   \n",
       "4    51.0            80.0             1.010      2.0    0.0          normal   \n",
       "..    ...             ...               ...      ...    ...             ...   \n",
       "395  55.0            80.0             1.020      0.0    0.0          normal   \n",
       "396  42.0            70.0             1.025      0.0    0.0          normal   \n",
       "397  12.0            80.0             1.020      0.0    0.0          normal   \n",
       "398  17.0            60.0             1.025      0.0    0.0          normal   \n",
       "399  58.0            80.0             1.025      0.0    0.0          normal   \n",
       "\n",
       "     Pus_Cell Pus_Cell_clumps    Bacteria  Blood_Glucose_Random  ...  \\\n",
       "0      normal      notpresent  notpresent                 121.0  ...   \n",
       "1      normal      notpresent  notpresent                   NaN  ...   \n",
       "2      normal      notpresent  notpresent                 423.0  ...   \n",
       "3    abnormal         present  notpresent                 117.0  ...   \n",
       "4      normal      notpresent  notpresent                 106.0  ...   \n",
       "..        ...             ...         ...                   ...  ...   \n",
       "395    normal      notpresent  notpresent                 140.0  ...   \n",
       "396    normal      notpresent  notpresent                  75.0  ...   \n",
       "397    normal      notpresent  notpresent                 100.0  ...   \n",
       "398    normal      notpresent  notpresent                 114.0  ...   \n",
       "399    normal      notpresent  notpresent                 131.0  ...   \n",
       "\n",
       "     Packed_Cell_Volume  White_Blood_Cell_Count  Red_Blood_Cell_Count  \\\n",
       "0                  44.0                  7800.0                   5.2   \n",
       "1                  38.0                  6000.0                   NaN   \n",
       "2                  31.0                  7500.0                   NaN   \n",
       "3                  32.0                  6700.0                   3.9   \n",
       "4                  35.0                  7300.0                   4.6   \n",
       "..                  ...                     ...                   ...   \n",
       "395                47.0                  6700.0                   4.9   \n",
       "396                54.0                  7800.0                   6.2   \n",
       "397                49.0                  6600.0                   5.4   \n",
       "398                51.0                  7200.0                   5.9   \n",
       "399                53.0                  6800.0                   6.1   \n",
       "\n",
       "     Hypertension  Diabetes  Coronary_Artery_Disease  Appetite  Pedal_Edema  \\\n",
       "0             yes       yes                       no      good           no   \n",
       "1              no        no                       no      good           no   \n",
       "2              no       yes                       no      poor           no   \n",
       "3             yes        no                       no      poor          yes   \n",
       "4              no        no                       no      good           no   \n",
       "..            ...       ...                      ...       ...          ...   \n",
       "395            no        no                       no      good           no   \n",
       "396            no        no                       no      good           no   \n",
       "397            no        no                       no      good           no   \n",
       "398            no        no                       no      good           no   \n",
       "399            no        no                       no      good           no   \n",
       "\n",
       "    Anemia   Class  \n",
       "0       no     ckd  \n",
       "1       no     ckd  \n",
       "2      yes     ckd  \n",
       "3      yes     ckd  \n",
       "4       no     ckd  \n",
       "..     ...     ...  \n",
       "395     no  notckd  \n",
       "396     no  notckd  \n",
       "397     no  notckd  \n",
       "398     no  notckd  \n",
       "399     no  notckd  \n",
       "\n",
       "[400 rows x 25 columns]"
      ]
     },
     "execution_count": 3,
     "metadata": {},
     "output_type": "execute_result"
    }
   ],
   "source": [
    "df"
   ]
  },
  {
   "cell_type": "markdown",
   "id": "ddbc66ec",
   "metadata": {},
   "source": [
    "# INFORMATION OF DATA"
   ]
  },
  {
   "cell_type": "code",
   "execution_count": 4,
   "id": "79d1dc0e",
   "metadata": {},
   "outputs": [
    {
     "name": "stdout",
     "output_type": "stream",
     "text": [
      "<class 'pandas.core.frame.DataFrame'>\n",
      "RangeIndex: 400 entries, 0 to 399\n",
      "Data columns (total 25 columns):\n",
      " #   Column                   Non-Null Count  Dtype  \n",
      "---  ------                   --------------  -----  \n",
      " 0   Age                      385 non-null    float64\n",
      " 1   Blood_Pressure           388 non-null    float64\n",
      " 2   Specific_Gravity         353 non-null    float64\n",
      " 3   Albumin                  354 non-null    float64\n",
      " 4   Sugar                    351 non-null    float64\n",
      " 5   Red_Blood_Cells          248 non-null    object \n",
      " 6   Pus_Cell                 335 non-null    object \n",
      " 7   Pus_Cell_clumps          396 non-null    object \n",
      " 8   Bacteria                 396 non-null    object \n",
      " 9   Blood_Glucose_Random     355 non-null    float64\n",
      " 10  Blood_Urea               381 non-null    float64\n",
      " 11  Serum_Creatinine         383 non-null    float64\n",
      " 12  Sodium                   313 non-null    float64\n",
      " 13  Potassium                312 non-null    float64\n",
      " 14  Hemoglobin               348 non-null    float64\n",
      " 15  Packed_Cell_Volume       314 non-null    float64\n",
      " 16  White_Blood_Cell_Count   285 non-null    float64\n",
      " 17  Red_Blood_Cell_Count     269 non-null    float64\n",
      " 18  Hypertension             398 non-null    object \n",
      " 19  Diabetes                 398 non-null    object \n",
      " 20  Coronary_Artery_Disease  398 non-null    object \n",
      " 21  Appetite                 399 non-null    object \n",
      " 22  Pedal_Edema              399 non-null    object \n",
      " 23  Anemia                   399 non-null    object \n",
      " 24  Class                    400 non-null    object \n",
      "dtypes: float64(14), object(11)\n",
      "memory usage: 78.2+ KB\n"
     ]
    }
   ],
   "source": [
    "df.info()"
   ]
  },
  {
   "cell_type": "markdown",
   "id": "5f112114",
   "metadata": {},
   "source": [
    "# Checked null values"
   ]
  },
  {
   "cell_type": "code",
   "execution_count": 5,
   "id": "783b674e",
   "metadata": {
    "scrolled": true
   },
   "outputs": [
    {
     "data": {
      "text/plain": [
       "array([48.,  7., 62., 51., 60., 68., 24., 52., 53., 50., 63., 40., 47.,\n",
       "       61., 21., 42., 75., 69., nan, 73., 70., 65., 76., 72., 82., 46.,\n",
       "       45., 35., 54., 11., 59., 67., 15., 55., 44., 26., 64., 56.,  5.,\n",
       "       74., 38., 58., 71., 34., 17., 12., 41., 57.,  8., 39., 66., 81.,\n",
       "       14., 27., 83., 30.,  4.,  3.,  6., 32., 80., 49., 90., 78., 19.,\n",
       "        2., 33., 36., 37., 23., 25., 20., 29., 28., 22., 79.])"
      ]
     },
     "execution_count": 5,
     "metadata": {},
     "output_type": "execute_result"
    }
   ],
   "source": [
    "df.Age.unique()"
   ]
  },
  {
   "cell_type": "code",
   "execution_count": 6,
   "id": "83dca608",
   "metadata": {},
   "outputs": [
    {
     "data": {
      "text/plain": [
       "array([ 80.,  50.,  70.,  90.,  nan, 100.,  60., 110., 140., 180., 120.])"
      ]
     },
     "execution_count": 6,
     "metadata": {},
     "output_type": "execute_result"
    }
   ],
   "source": [
    "df.Blood_Pressure.unique()"
   ]
  },
  {
   "cell_type": "code",
   "execution_count": 7,
   "id": "f869db31",
   "metadata": {},
   "outputs": [
    {
     "data": {
      "text/plain": [
       "array([1.02 , 1.01 , 1.005, 1.015,   nan, 1.025])"
      ]
     },
     "execution_count": 7,
     "metadata": {},
     "output_type": "execute_result"
    }
   ],
   "source": [
    "df.Specific_Gravity.unique()"
   ]
  },
  {
   "cell_type": "code",
   "execution_count": 8,
   "id": "7a2e7e91",
   "metadata": {},
   "outputs": [
    {
     "data": {
      "text/plain": [
       "array([ 1.,  4.,  2.,  3.,  0., nan,  5.])"
      ]
     },
     "execution_count": 8,
     "metadata": {},
     "output_type": "execute_result"
    }
   ],
   "source": [
    "df.Albumin.unique()"
   ]
  },
  {
   "cell_type": "code",
   "execution_count": 9,
   "id": "4dc09aef",
   "metadata": {},
   "outputs": [
    {
     "data": {
      "text/plain": [
       "array([ 0.,  3.,  4.,  1., nan,  2.,  5.])"
      ]
     },
     "execution_count": 9,
     "metadata": {},
     "output_type": "execute_result"
    }
   ],
   "source": [
    "df.Sugar.unique()"
   ]
  },
  {
   "cell_type": "code",
   "execution_count": 10,
   "id": "97f0904f",
   "metadata": {},
   "outputs": [
    {
     "data": {
      "text/plain": [
       "array([nan, 'normal', 'abnormal'], dtype=object)"
      ]
     },
     "execution_count": 10,
     "metadata": {},
     "output_type": "execute_result"
    }
   ],
   "source": [
    "df.Red_Blood_Cells.unique()"
   ]
  },
  {
   "cell_type": "code",
   "execution_count": 11,
   "id": "8f5ac7cf",
   "metadata": {},
   "outputs": [
    {
     "data": {
      "text/plain": [
       "array(['normal', 'abnormal', nan], dtype=object)"
      ]
     },
     "execution_count": 11,
     "metadata": {},
     "output_type": "execute_result"
    }
   ],
   "source": [
    "df.Pus_Cell.unique()"
   ]
  },
  {
   "cell_type": "code",
   "execution_count": 12,
   "id": "dfed2ce3",
   "metadata": {},
   "outputs": [
    {
     "data": {
      "text/plain": [
       "array(['notpresent', 'present', nan], dtype=object)"
      ]
     },
     "execution_count": 12,
     "metadata": {},
     "output_type": "execute_result"
    }
   ],
   "source": [
    "df.Pus_Cell_clumps.unique()"
   ]
  },
  {
   "cell_type": "code",
   "execution_count": 13,
   "id": "b5933389",
   "metadata": {},
   "outputs": [
    {
     "data": {
      "text/plain": [
       "array(['notpresent', 'present', nan], dtype=object)"
      ]
     },
     "execution_count": 13,
     "metadata": {},
     "output_type": "execute_result"
    }
   ],
   "source": [
    "df.Bacteria.unique()"
   ]
  },
  {
   "cell_type": "code",
   "execution_count": 14,
   "id": "5ea2c240",
   "metadata": {},
   "outputs": [
    {
     "data": {
      "text/plain": [
       "array([121.,  nan, 423., 117., 106.,  74., 100., 410., 138.,  70., 490.,\n",
       "       380., 208.,  98., 157.,  76.,  99., 114., 263., 173.,  95., 108.,\n",
       "       156., 264., 123.,  93., 107., 159., 140., 171., 270.,  92., 137.,\n",
       "       204.,  79., 207., 124., 144.,  91., 162., 246., 253., 141., 182.,\n",
       "        86., 150., 146., 425., 112., 250., 360., 163., 129., 133., 102.,\n",
       "       158., 165., 132., 104., 127., 415., 169., 251., 109., 280., 210.,\n",
       "       219., 295.,  94., 172., 101., 298., 153.,  88., 226., 143., 115.,\n",
       "        89., 297., 233., 294., 323., 125.,  90., 308., 118., 224., 128.,\n",
       "       122., 214., 213., 268., 256., 105., 288., 139.,  78., 273., 242.,\n",
       "       424., 303., 148., 160., 192., 307., 220., 447., 309.,  22., 111.,\n",
       "       261., 215., 234., 131., 352.,  80., 239., 110., 130., 184., 252.,\n",
       "       113., 230., 341., 255., 103., 238., 248., 120., 241., 269., 201.,\n",
       "       203., 463., 176.,  82., 119.,  97.,  96.,  81., 116., 134.,  85.,\n",
       "        83.,  87.,  75.])"
      ]
     },
     "execution_count": 14,
     "metadata": {},
     "output_type": "execute_result"
    }
   ],
   "source": [
    "df.Blood_Glucose_Random.unique()"
   ]
  },
  {
   "cell_type": "code",
   "execution_count": 15,
   "id": "c3f26212",
   "metadata": {},
   "outputs": [
    {
     "data": {
      "text/plain": [
       "array([44., 38., 31., 32., 35., 39., 36., 33., 29., 28., nan, 16., 24.,\n",
       "       37., 30., 34., 40., 45., 27., 48., 52., 14., 22., 18., 42., 17.,\n",
       "       46., 23., 19., 25., 41., 26., 15., 21., 20., 47.,  9., 49., 50.,\n",
       "       53., 51., 54.])"
      ]
     },
     "execution_count": 15,
     "metadata": {},
     "output_type": "execute_result"
    }
   ],
   "source": [
    "df.Packed_Cell_Volume.unique()"
   ]
  },
  {
   "cell_type": "code",
   "execution_count": 16,
   "id": "daf66cbb",
   "metadata": {},
   "outputs": [
    {
     "data": {
      "text/plain": [
       "array([ 7800.,  6000.,  7500.,  6700.,  7300.,    nan,  6900.,  9600.,\n",
       "       12100.,  4500., 12200., 11000.,  3800., 11400.,  5300.,  9200.,\n",
       "        8300., 10300.,  9800.,  9100.,  7900.,  6400.,  8600., 18900.,\n",
       "       21600.,  4300.,  8500., 11300.,  7200.,  7700., 14600.,  6300.,\n",
       "        7100., 11800.,  9400.,  5500.,  5800., 13200., 12500.,  5600.,\n",
       "        7000., 11900., 10400., 10700., 12700.,  6800.,  6500., 13600.,\n",
       "       10200.,  9000., 14900.,  8200., 15200.,  5000., 16300., 12400.,\n",
       "       10500.,  4200.,  4700., 10900.,  8100.,  9500.,  2200., 12800.,\n",
       "       11200., 19100., 12300., 16700.,  2600., 26400.,  8800.,  7400.,\n",
       "        4900.,  8000., 12000., 15700.,  4100.,  5700., 11500.,  5400.,\n",
       "       10800.,  9900.,  5200.,  5900.,  9300.,  9700.,  5100.,  6600.])"
      ]
     },
     "execution_count": 16,
     "metadata": {},
     "output_type": "execute_result"
    }
   ],
   "source": [
    "df.White_Blood_Cell_Count.unique()"
   ]
  },
  {
   "cell_type": "code",
   "execution_count": 17,
   "id": "ece75b67",
   "metadata": {},
   "outputs": [
    {
     "data": {
      "text/plain": [
       "array([5.2, nan, 3.9, 4.6, 4.4, 5. , 4. , 3.7, 3.8, 3.4, 2.6, 2.8, 4.3,\n",
       "       3.2, 3.6, 4.1, 4.9, 2.5, 4.2, 4.5, 3.1, 4.7, 3.5, 6. , 2.1, 5.6,\n",
       "       2.3, 2.9, 2.7, 8. , 3.3, 3. , 2.4, 4.8, 5.4, 6.1, 6.2, 6.3, 5.1,\n",
       "       5.8, 5.5, 5.3, 6.4, 5.7, 5.9, 6.5])"
      ]
     },
     "execution_count": 17,
     "metadata": {},
     "output_type": "execute_result"
    }
   ],
   "source": [
    "df.Red_Blood_Cell_Count.unique()"
   ]
  },
  {
   "cell_type": "code",
   "execution_count": 18,
   "id": "f854ed74",
   "metadata": {},
   "outputs": [
    {
     "data": {
      "text/plain": [
       "array(['yes', 'no', nan], dtype=object)"
      ]
     },
     "execution_count": 18,
     "metadata": {},
     "output_type": "execute_result"
    }
   ],
   "source": [
    "df.Hypertension.unique()"
   ]
  },
  {
   "cell_type": "code",
   "execution_count": 19,
   "id": "8a461741",
   "metadata": {
    "scrolled": true
   },
   "outputs": [
    {
     "data": {
      "text/plain": [
       "array(['yes', 'no', '\\tno', '\\tyes', nan], dtype=object)"
      ]
     },
     "execution_count": 19,
     "metadata": {},
     "output_type": "execute_result"
    }
   ],
   "source": [
    "df.Diabetes.unique()"
   ]
  },
  {
   "cell_type": "code",
   "execution_count": 20,
   "id": "3aa37481",
   "metadata": {
    "scrolled": true
   },
   "outputs": [
    {
     "data": {
      "text/plain": [
       "no       260\n",
       "yes      133\n",
       "\\tno       3\n",
       "\\tyes      2\n",
       "Name: Diabetes, dtype: int64"
      ]
     },
     "execution_count": 20,
     "metadata": {},
     "output_type": "execute_result"
    }
   ],
   "source": [
    "df.Diabetes.value_counts()"
   ]
  },
  {
   "cell_type": "code",
   "execution_count": 21,
   "id": "2c995d50",
   "metadata": {},
   "outputs": [],
   "source": [
    "df.replace(\"\\tno\",\"no\",inplace=True)\n",
    "df.replace(\"\\tyes\",\"yes\",inplace=True)"
   ]
  },
  {
   "cell_type": "code",
   "execution_count": 22,
   "id": "29096350",
   "metadata": {},
   "outputs": [
    {
     "data": {
      "text/plain": [
       "no     263\n",
       "yes    135\n",
       "Name: Diabetes, dtype: int64"
      ]
     },
     "execution_count": 22,
     "metadata": {},
     "output_type": "execute_result"
    }
   ],
   "source": [
    "df.Diabetes.value_counts()"
   ]
  },
  {
   "cell_type": "code",
   "execution_count": 23,
   "id": "f77374d5",
   "metadata": {},
   "outputs": [
    {
     "data": {
      "text/plain": [
       "array(['no', 'yes', nan], dtype=object)"
      ]
     },
     "execution_count": 23,
     "metadata": {},
     "output_type": "execute_result"
    }
   ],
   "source": [
    "df.Coronary_Artery_Disease.unique()"
   ]
  },
  {
   "cell_type": "code",
   "execution_count": 24,
   "id": "31abf554",
   "metadata": {},
   "outputs": [
    {
     "data": {
      "text/plain": [
       "array(['good', 'poor', nan], dtype=object)"
      ]
     },
     "execution_count": 24,
     "metadata": {},
     "output_type": "execute_result"
    }
   ],
   "source": [
    "df.Appetite.unique()"
   ]
  },
  {
   "cell_type": "code",
   "execution_count": 25,
   "id": "3735c67d",
   "metadata": {},
   "outputs": [
    {
     "data": {
      "text/plain": [
       "array(['no', 'yes', nan], dtype=object)"
      ]
     },
     "execution_count": 25,
     "metadata": {},
     "output_type": "execute_result"
    }
   ],
   "source": [
    "df.Pedal_Edema.unique()"
   ]
  },
  {
   "cell_type": "code",
   "execution_count": 26,
   "id": "6a867873",
   "metadata": {},
   "outputs": [
    {
     "data": {
      "text/plain": [
       "array(['no', 'yes', nan], dtype=object)"
      ]
     },
     "execution_count": 26,
     "metadata": {},
     "output_type": "execute_result"
    }
   ],
   "source": [
    "df.\tAnemia.unique()"
   ]
  },
  {
   "cell_type": "code",
   "execution_count": 27,
   "id": "6f99fa67",
   "metadata": {},
   "outputs": [
    {
     "data": {
      "text/plain": [
       "array(['ckd', 'ckd\\t', 'notckd'], dtype=object)"
      ]
     },
     "execution_count": 27,
     "metadata": {},
     "output_type": "execute_result"
    }
   ],
   "source": [
    "df.Class.unique()"
   ]
  },
  {
   "cell_type": "code",
   "execution_count": 28,
   "id": "f05468bc",
   "metadata": {},
   "outputs": [],
   "source": [
    "df.replace(\"ckd\\t\",\"ckd\",inplace=True)"
   ]
  },
  {
   "cell_type": "code",
   "execution_count": 29,
   "id": "010d4124",
   "metadata": {
    "scrolled": true
   },
   "outputs": [
    {
     "data": {
      "text/plain": [
       "array(['ckd', 'notckd'], dtype=object)"
      ]
     },
     "execution_count": 29,
     "metadata": {},
     "output_type": "execute_result"
    }
   ],
   "source": [
    "df.Class.unique()"
   ]
  },
  {
   "cell_type": "markdown",
   "id": "0cd8d0b8",
   "metadata": {},
   "source": [
    "# FILLED MISSING VALUES OF NUMERIC COLUMN"
   ]
  },
  {
   "cell_type": "code",
   "execution_count": 30,
   "id": "0d17b347",
   "metadata": {},
   "outputs": [],
   "source": [
    "from sklearn.impute import SimpleImputer"
   ]
  },
  {
   "cell_type": "code",
   "execution_count": 31,
   "id": "22970650",
   "metadata": {},
   "outputs": [],
   "source": [
    "si = SimpleImputer(missing_values=np.nan,strategy=\"mean\")"
   ]
  },
  {
   "cell_type": "code",
   "execution_count": 32,
   "id": "84fca4f8",
   "metadata": {},
   "outputs": [],
   "source": [
    "df[[\"Age\",\"Blood_Pressure\",\"Specific_Gravity\",\"Albumin\",\"Sugar\",\"Blood_Glucose_Random\",\"Blood_Urea\",\"Serum_Creatinine\",\"Sodium\",\"Potassium\",\"Hemoglobin\",\"Packed_Cell_Volume\",\"White_Blood_Cell_Count\",\"Red_Blood_Cell_Count\"]]=si.fit_transform(df[[\"Age\",\"Blood_Pressure\",\"Specific_Gravity\",\"Albumin\",\"Sugar\",\"Blood_Glucose_Random\",\"Blood_Urea\",\"Serum_Creatinine\",\"Sodium\",\"Potassium\",\"Hemoglobin\",\"Packed_Cell_Volume\",\"White_Blood_Cell_Count\",\"Red_Blood_Cell_Count\"]])"
   ]
  },
  {
   "cell_type": "code",
   "execution_count": 33,
   "id": "28ad9f03",
   "metadata": {},
   "outputs": [
    {
     "name": "stdout",
     "output_type": "stream",
     "text": [
      "<class 'pandas.core.frame.DataFrame'>\n",
      "RangeIndex: 400 entries, 0 to 399\n",
      "Data columns (total 25 columns):\n",
      " #   Column                   Non-Null Count  Dtype  \n",
      "---  ------                   --------------  -----  \n",
      " 0   Age                      400 non-null    float64\n",
      " 1   Blood_Pressure           400 non-null    float64\n",
      " 2   Specific_Gravity         400 non-null    float64\n",
      " 3   Albumin                  400 non-null    float64\n",
      " 4   Sugar                    400 non-null    float64\n",
      " 5   Red_Blood_Cells          248 non-null    object \n",
      " 6   Pus_Cell                 335 non-null    object \n",
      " 7   Pus_Cell_clumps          396 non-null    object \n",
      " 8   Bacteria                 396 non-null    object \n",
      " 9   Blood_Glucose_Random     400 non-null    float64\n",
      " 10  Blood_Urea               400 non-null    float64\n",
      " 11  Serum_Creatinine         400 non-null    float64\n",
      " 12  Sodium                   400 non-null    float64\n",
      " 13  Potassium                400 non-null    float64\n",
      " 14  Hemoglobin               400 non-null    float64\n",
      " 15  Packed_Cell_Volume       400 non-null    float64\n",
      " 16  White_Blood_Cell_Count   400 non-null    float64\n",
      " 17  Red_Blood_Cell_Count     400 non-null    float64\n",
      " 18  Hypertension             398 non-null    object \n",
      " 19  Diabetes                 398 non-null    object \n",
      " 20  Coronary_Artery_Disease  398 non-null    object \n",
      " 21  Appetite                 399 non-null    object \n",
      " 22  Pedal_Edema              399 non-null    object \n",
      " 23  Anemia                   399 non-null    object \n",
      " 24  Class                    400 non-null    object \n",
      "dtypes: float64(14), object(11)\n",
      "memory usage: 78.2+ KB\n"
     ]
    }
   ],
   "source": [
    "df.info()"
   ]
  },
  {
   "cell_type": "markdown",
   "id": "81d7ca91",
   "metadata": {},
   "source": [
    "# FILLED MISSING VALUES OF CATEGORICAL COLUMN"
   ]
  },
  {
   "cell_type": "code",
   "execution_count": 34,
   "id": "f6dd9462",
   "metadata": {},
   "outputs": [],
   "source": [
    "si2 = SimpleImputer(missing_values=np.nan,strategy=\"most_frequent\")"
   ]
  },
  {
   "cell_type": "code",
   "execution_count": 35,
   "id": "02a7512c",
   "metadata": {},
   "outputs": [],
   "source": [
    "df[[\"Red_Blood_Cells\",\"Pus_Cell\",\"Pus_Cell_clumps\",\"Bacteria\",\"Hypertension\",\"Diabetes\",\"Coronary_Artery_Disease\",\"Appetite\",\"Pedal_Edema\",\"Anemia\"]] = si2.fit_transform(df[[\"Red_Blood_Cells\",\"Pus_Cell\",\"Pus_Cell_clumps\",\"Bacteria\",\"Hypertension\",\"Diabetes\",\"Coronary_Artery_Disease\",\"Appetite\",\"Pedal_Edema\",\"Anemia\"]])"
   ]
  },
  {
   "cell_type": "code",
   "execution_count": 36,
   "id": "0da8e476",
   "metadata": {},
   "outputs": [
    {
     "name": "stdout",
     "output_type": "stream",
     "text": [
      "<class 'pandas.core.frame.DataFrame'>\n",
      "RangeIndex: 400 entries, 0 to 399\n",
      "Data columns (total 25 columns):\n",
      " #   Column                   Non-Null Count  Dtype  \n",
      "---  ------                   --------------  -----  \n",
      " 0   Age                      400 non-null    float64\n",
      " 1   Blood_Pressure           400 non-null    float64\n",
      " 2   Specific_Gravity         400 non-null    float64\n",
      " 3   Albumin                  400 non-null    float64\n",
      " 4   Sugar                    400 non-null    float64\n",
      " 5   Red_Blood_Cells          400 non-null    object \n",
      " 6   Pus_Cell                 400 non-null    object \n",
      " 7   Pus_Cell_clumps          400 non-null    object \n",
      " 8   Bacteria                 400 non-null    object \n",
      " 9   Blood_Glucose_Random     400 non-null    float64\n",
      " 10  Blood_Urea               400 non-null    float64\n",
      " 11  Serum_Creatinine         400 non-null    float64\n",
      " 12  Sodium                   400 non-null    float64\n",
      " 13  Potassium                400 non-null    float64\n",
      " 14  Hemoglobin               400 non-null    float64\n",
      " 15  Packed_Cell_Volume       400 non-null    float64\n",
      " 16  White_Blood_Cell_Count   400 non-null    float64\n",
      " 17  Red_Blood_Cell_Count     400 non-null    float64\n",
      " 18  Hypertension             400 non-null    object \n",
      " 19  Diabetes                 400 non-null    object \n",
      " 20  Coronary_Artery_Disease  400 non-null    object \n",
      " 21  Appetite                 400 non-null    object \n",
      " 22  Pedal_Edema              400 non-null    object \n",
      " 23  Anemia                   400 non-null    object \n",
      " 24  Class                    400 non-null    object \n",
      "dtypes: float64(14), object(11)\n",
      "memory usage: 78.2+ KB\n"
     ]
    }
   ],
   "source": [
    "df.info()"
   ]
  },
  {
   "cell_type": "code",
   "execution_count": 37,
   "id": "e85e20aa",
   "metadata": {
    "scrolled": true
   },
   "outputs": [
    {
     "data": {
      "text/html": [
       "<div>\n",
       "<style scoped>\n",
       "    .dataframe tbody tr th:only-of-type {\n",
       "        vertical-align: middle;\n",
       "    }\n",
       "\n",
       "    .dataframe tbody tr th {\n",
       "        vertical-align: top;\n",
       "    }\n",
       "\n",
       "    .dataframe thead th {\n",
       "        text-align: right;\n",
       "    }\n",
       "</style>\n",
       "<table border=\"1\" class=\"dataframe\">\n",
       "  <thead>\n",
       "    <tr style=\"text-align: right;\">\n",
       "      <th></th>\n",
       "      <th>Age</th>\n",
       "      <th>Blood_Pressure</th>\n",
       "      <th>Specific_Gravity</th>\n",
       "      <th>Albumin</th>\n",
       "      <th>Sugar</th>\n",
       "      <th>Blood_Glucose_Random</th>\n",
       "      <th>Blood_Urea</th>\n",
       "      <th>Serum_Creatinine</th>\n",
       "      <th>Sodium</th>\n",
       "      <th>Potassium</th>\n",
       "      <th>Hemoglobin</th>\n",
       "      <th>Packed_Cell_Volume</th>\n",
       "      <th>White_Blood_Cell_Count</th>\n",
       "      <th>Red_Blood_Cell_Count</th>\n",
       "    </tr>\n",
       "  </thead>\n",
       "  <tbody>\n",
       "    <tr>\n",
       "      <th>count</th>\n",
       "      <td>400.000000</td>\n",
       "      <td>400.000000</td>\n",
       "      <td>400.000000</td>\n",
       "      <td>400.000000</td>\n",
       "      <td>400.000000</td>\n",
       "      <td>400.000000</td>\n",
       "      <td>400.000000</td>\n",
       "      <td>400.000000</td>\n",
       "      <td>400.000000</td>\n",
       "      <td>400.000000</td>\n",
       "      <td>400.000000</td>\n",
       "      <td>400.000000</td>\n",
       "      <td>400.000000</td>\n",
       "      <td>400.000000</td>\n",
       "    </tr>\n",
       "    <tr>\n",
       "      <th>mean</th>\n",
       "      <td>51.615584</td>\n",
       "      <td>76.469072</td>\n",
       "      <td>1.017408</td>\n",
       "      <td>1.016949</td>\n",
       "      <td>0.450142</td>\n",
       "      <td>148.216901</td>\n",
       "      <td>57.425722</td>\n",
       "      <td>3.072454</td>\n",
       "      <td>137.528754</td>\n",
       "      <td>4.627244</td>\n",
       "      <td>12.526437</td>\n",
       "      <td>38.687898</td>\n",
       "      <td>8444.912281</td>\n",
       "      <td>4.707435</td>\n",
       "    </tr>\n",
       "    <tr>\n",
       "      <th>std</th>\n",
       "      <td>16.942562</td>\n",
       "      <td>13.476298</td>\n",
       "      <td>0.005369</td>\n",
       "      <td>1.272318</td>\n",
       "      <td>1.029487</td>\n",
       "      <td>74.713694</td>\n",
       "      <td>49.285887</td>\n",
       "      <td>5.617490</td>\n",
       "      <td>9.204273</td>\n",
       "      <td>2.819783</td>\n",
       "      <td>2.716171</td>\n",
       "      <td>8.110053</td>\n",
       "      <td>2510.891125</td>\n",
       "      <td>0.840314</td>\n",
       "    </tr>\n",
       "    <tr>\n",
       "      <th>min</th>\n",
       "      <td>2.000000</td>\n",
       "      <td>50.000000</td>\n",
       "      <td>1.005000</td>\n",
       "      <td>0.000000</td>\n",
       "      <td>0.000000</td>\n",
       "      <td>22.000000</td>\n",
       "      <td>1.500000</td>\n",
       "      <td>0.400000</td>\n",
       "      <td>4.500000</td>\n",
       "      <td>2.500000</td>\n",
       "      <td>3.100000</td>\n",
       "      <td>9.000000</td>\n",
       "      <td>2200.000000</td>\n",
       "      <td>2.100000</td>\n",
       "    </tr>\n",
       "    <tr>\n",
       "      <th>25%</th>\n",
       "      <td>42.000000</td>\n",
       "      <td>70.000000</td>\n",
       "      <td>1.015000</td>\n",
       "      <td>0.000000</td>\n",
       "      <td>0.000000</td>\n",
       "      <td>101.750000</td>\n",
       "      <td>27.000000</td>\n",
       "      <td>0.900000</td>\n",
       "      <td>135.000000</td>\n",
       "      <td>4.000000</td>\n",
       "      <td>10.875000</td>\n",
       "      <td>34.000000</td>\n",
       "      <td>7000.000000</td>\n",
       "      <td>4.500000</td>\n",
       "    </tr>\n",
       "    <tr>\n",
       "      <th>50%</th>\n",
       "      <td>54.000000</td>\n",
       "      <td>78.234536</td>\n",
       "      <td>1.017408</td>\n",
       "      <td>1.000000</td>\n",
       "      <td>0.000000</td>\n",
       "      <td>127.000000</td>\n",
       "      <td>44.000000</td>\n",
       "      <td>1.400000</td>\n",
       "      <td>137.528754</td>\n",
       "      <td>4.627244</td>\n",
       "      <td>12.526437</td>\n",
       "      <td>38.687898</td>\n",
       "      <td>8444.912281</td>\n",
       "      <td>4.707435</td>\n",
       "    </tr>\n",
       "    <tr>\n",
       "      <th>75%</th>\n",
       "      <td>64.000000</td>\n",
       "      <td>80.000000</td>\n",
       "      <td>1.020000</td>\n",
       "      <td>2.000000</td>\n",
       "      <td>0.450142</td>\n",
       "      <td>150.000000</td>\n",
       "      <td>61.750000</td>\n",
       "      <td>3.072454</td>\n",
       "      <td>141.000000</td>\n",
       "      <td>4.800000</td>\n",
       "      <td>14.625000</td>\n",
       "      <td>44.000000</td>\n",
       "      <td>9400.000000</td>\n",
       "      <td>5.100000</td>\n",
       "    </tr>\n",
       "    <tr>\n",
       "      <th>max</th>\n",
       "      <td>90.000000</td>\n",
       "      <td>180.000000</td>\n",
       "      <td>1.025000</td>\n",
       "      <td>5.000000</td>\n",
       "      <td>5.000000</td>\n",
       "      <td>490.000000</td>\n",
       "      <td>391.000000</td>\n",
       "      <td>76.000000</td>\n",
       "      <td>163.000000</td>\n",
       "      <td>47.000000</td>\n",
       "      <td>17.800000</td>\n",
       "      <td>54.000000</td>\n",
       "      <td>26400.000000</td>\n",
       "      <td>8.000000</td>\n",
       "    </tr>\n",
       "  </tbody>\n",
       "</table>\n",
       "</div>"
      ],
      "text/plain": [
       "              Age  Blood_Pressure  Specific_Gravity     Albumin       Sugar  \\\n",
       "count  400.000000      400.000000        400.000000  400.000000  400.000000   \n",
       "mean    51.615584       76.469072          1.017408    1.016949    0.450142   \n",
       "std     16.942562       13.476298          0.005369    1.272318    1.029487   \n",
       "min      2.000000       50.000000          1.005000    0.000000    0.000000   \n",
       "25%     42.000000       70.000000          1.015000    0.000000    0.000000   \n",
       "50%     54.000000       78.234536          1.017408    1.000000    0.000000   \n",
       "75%     64.000000       80.000000          1.020000    2.000000    0.450142   \n",
       "max     90.000000      180.000000          1.025000    5.000000    5.000000   \n",
       "\n",
       "       Blood_Glucose_Random  Blood_Urea  Serum_Creatinine      Sodium  \\\n",
       "count            400.000000  400.000000        400.000000  400.000000   \n",
       "mean             148.216901   57.425722          3.072454  137.528754   \n",
       "std               74.713694   49.285887          5.617490    9.204273   \n",
       "min               22.000000    1.500000          0.400000    4.500000   \n",
       "25%              101.750000   27.000000          0.900000  135.000000   \n",
       "50%              127.000000   44.000000          1.400000  137.528754   \n",
       "75%              150.000000   61.750000          3.072454  141.000000   \n",
       "max              490.000000  391.000000         76.000000  163.000000   \n",
       "\n",
       "        Potassium  Hemoglobin  Packed_Cell_Volume  White_Blood_Cell_Count  \\\n",
       "count  400.000000  400.000000          400.000000              400.000000   \n",
       "mean     4.627244   12.526437           38.687898             8444.912281   \n",
       "std      2.819783    2.716171            8.110053             2510.891125   \n",
       "min      2.500000    3.100000            9.000000             2200.000000   \n",
       "25%      4.000000   10.875000           34.000000             7000.000000   \n",
       "50%      4.627244   12.526437           38.687898             8444.912281   \n",
       "75%      4.800000   14.625000           44.000000             9400.000000   \n",
       "max     47.000000   17.800000           54.000000            26400.000000   \n",
       "\n",
       "       Red_Blood_Cell_Count  \n",
       "count            400.000000  \n",
       "mean               4.707435  \n",
       "std                0.840314  \n",
       "min                2.100000  \n",
       "25%                4.500000  \n",
       "50%                4.707435  \n",
       "75%                5.100000  \n",
       "max                8.000000  "
      ]
     },
     "execution_count": 37,
     "metadata": {},
     "output_type": "execute_result"
    }
   ],
   "source": [
    "df.describe()"
   ]
  },
  {
   "cell_type": "code",
   "execution_count": 38,
   "id": "6e1c50f4",
   "metadata": {},
   "outputs": [
    {
     "data": {
      "text/plain": [
       "Index(['Age', 'Blood_Pressure', 'Specific_Gravity', 'Albumin', 'Sugar',\n",
       "       'Red_Blood_Cells', 'Pus_Cell', 'Pus_Cell_clumps', 'Bacteria',\n",
       "       'Blood_Glucose_Random', 'Blood_Urea', 'Serum_Creatinine', 'Sodium',\n",
       "       'Potassium', 'Hemoglobin', 'Packed_Cell_Volume',\n",
       "       'White_Blood_Cell_Count', 'Red_Blood_Cell_Count', 'Hypertension',\n",
       "       'Diabetes', 'Coronary_Artery_Disease', 'Appetite', 'Pedal_Edema',\n",
       "       'Anemia', 'Class'],\n",
       "      dtype='object')"
      ]
     },
     "execution_count": 38,
     "metadata": {},
     "output_type": "execute_result"
    }
   ],
   "source": [
    "df.columns"
   ]
  },
  {
   "cell_type": "markdown",
   "id": "c12c58e9",
   "metadata": {},
   "source": [
    "# DATA SPLITING INTO FEATURES AND TARGET"
   ]
  },
  {
   "cell_type": "code",
   "execution_count": 39,
   "id": "86d97b03",
   "metadata": {
    "scrolled": true
   },
   "outputs": [],
   "source": [
    "x = df.iloc[:,[0,1,4,8,14,16,17,18,19,20,21,23]]"
   ]
  },
  {
   "cell_type": "code",
   "execution_count": 40,
   "id": "131dadf7",
   "metadata": {},
   "outputs": [
    {
     "data": {
      "text/html": [
       "<div>\n",
       "<style scoped>\n",
       "    .dataframe tbody tr th:only-of-type {\n",
       "        vertical-align: middle;\n",
       "    }\n",
       "\n",
       "    .dataframe tbody tr th {\n",
       "        vertical-align: top;\n",
       "    }\n",
       "\n",
       "    .dataframe thead th {\n",
       "        text-align: right;\n",
       "    }\n",
       "</style>\n",
       "<table border=\"1\" class=\"dataframe\">\n",
       "  <thead>\n",
       "    <tr style=\"text-align: right;\">\n",
       "      <th></th>\n",
       "      <th>Age</th>\n",
       "      <th>Blood_Pressure</th>\n",
       "      <th>Sugar</th>\n",
       "      <th>Bacteria</th>\n",
       "      <th>Hemoglobin</th>\n",
       "      <th>White_Blood_Cell_Count</th>\n",
       "      <th>Red_Blood_Cell_Count</th>\n",
       "      <th>Hypertension</th>\n",
       "      <th>Diabetes</th>\n",
       "      <th>Coronary_Artery_Disease</th>\n",
       "      <th>Appetite</th>\n",
       "      <th>Anemia</th>\n",
       "    </tr>\n",
       "  </thead>\n",
       "  <tbody>\n",
       "    <tr>\n",
       "      <th>0</th>\n",
       "      <td>48.0</td>\n",
       "      <td>80.0</td>\n",
       "      <td>0.0</td>\n",
       "      <td>notpresent</td>\n",
       "      <td>15.4</td>\n",
       "      <td>7800.0</td>\n",
       "      <td>5.200000</td>\n",
       "      <td>yes</td>\n",
       "      <td>yes</td>\n",
       "      <td>no</td>\n",
       "      <td>good</td>\n",
       "      <td>no</td>\n",
       "    </tr>\n",
       "    <tr>\n",
       "      <th>1</th>\n",
       "      <td>7.0</td>\n",
       "      <td>50.0</td>\n",
       "      <td>0.0</td>\n",
       "      <td>notpresent</td>\n",
       "      <td>11.3</td>\n",
       "      <td>6000.0</td>\n",
       "      <td>4.707435</td>\n",
       "      <td>no</td>\n",
       "      <td>no</td>\n",
       "      <td>no</td>\n",
       "      <td>good</td>\n",
       "      <td>no</td>\n",
       "    </tr>\n",
       "    <tr>\n",
       "      <th>2</th>\n",
       "      <td>62.0</td>\n",
       "      <td>80.0</td>\n",
       "      <td>3.0</td>\n",
       "      <td>notpresent</td>\n",
       "      <td>9.6</td>\n",
       "      <td>7500.0</td>\n",
       "      <td>4.707435</td>\n",
       "      <td>no</td>\n",
       "      <td>yes</td>\n",
       "      <td>no</td>\n",
       "      <td>poor</td>\n",
       "      <td>yes</td>\n",
       "    </tr>\n",
       "    <tr>\n",
       "      <th>3</th>\n",
       "      <td>48.0</td>\n",
       "      <td>70.0</td>\n",
       "      <td>0.0</td>\n",
       "      <td>notpresent</td>\n",
       "      <td>11.2</td>\n",
       "      <td>6700.0</td>\n",
       "      <td>3.900000</td>\n",
       "      <td>yes</td>\n",
       "      <td>no</td>\n",
       "      <td>no</td>\n",
       "      <td>poor</td>\n",
       "      <td>yes</td>\n",
       "    </tr>\n",
       "    <tr>\n",
       "      <th>4</th>\n",
       "      <td>51.0</td>\n",
       "      <td>80.0</td>\n",
       "      <td>0.0</td>\n",
       "      <td>notpresent</td>\n",
       "      <td>11.6</td>\n",
       "      <td>7300.0</td>\n",
       "      <td>4.600000</td>\n",
       "      <td>no</td>\n",
       "      <td>no</td>\n",
       "      <td>no</td>\n",
       "      <td>good</td>\n",
       "      <td>no</td>\n",
       "    </tr>\n",
       "    <tr>\n",
       "      <th>...</th>\n",
       "      <td>...</td>\n",
       "      <td>...</td>\n",
       "      <td>...</td>\n",
       "      <td>...</td>\n",
       "      <td>...</td>\n",
       "      <td>...</td>\n",
       "      <td>...</td>\n",
       "      <td>...</td>\n",
       "      <td>...</td>\n",
       "      <td>...</td>\n",
       "      <td>...</td>\n",
       "      <td>...</td>\n",
       "    </tr>\n",
       "    <tr>\n",
       "      <th>395</th>\n",
       "      <td>55.0</td>\n",
       "      <td>80.0</td>\n",
       "      <td>0.0</td>\n",
       "      <td>notpresent</td>\n",
       "      <td>15.7</td>\n",
       "      <td>6700.0</td>\n",
       "      <td>4.900000</td>\n",
       "      <td>no</td>\n",
       "      <td>no</td>\n",
       "      <td>no</td>\n",
       "      <td>good</td>\n",
       "      <td>no</td>\n",
       "    </tr>\n",
       "    <tr>\n",
       "      <th>396</th>\n",
       "      <td>42.0</td>\n",
       "      <td>70.0</td>\n",
       "      <td>0.0</td>\n",
       "      <td>notpresent</td>\n",
       "      <td>16.5</td>\n",
       "      <td>7800.0</td>\n",
       "      <td>6.200000</td>\n",
       "      <td>no</td>\n",
       "      <td>no</td>\n",
       "      <td>no</td>\n",
       "      <td>good</td>\n",
       "      <td>no</td>\n",
       "    </tr>\n",
       "    <tr>\n",
       "      <th>397</th>\n",
       "      <td>12.0</td>\n",
       "      <td>80.0</td>\n",
       "      <td>0.0</td>\n",
       "      <td>notpresent</td>\n",
       "      <td>15.8</td>\n",
       "      <td>6600.0</td>\n",
       "      <td>5.400000</td>\n",
       "      <td>no</td>\n",
       "      <td>no</td>\n",
       "      <td>no</td>\n",
       "      <td>good</td>\n",
       "      <td>no</td>\n",
       "    </tr>\n",
       "    <tr>\n",
       "      <th>398</th>\n",
       "      <td>17.0</td>\n",
       "      <td>60.0</td>\n",
       "      <td>0.0</td>\n",
       "      <td>notpresent</td>\n",
       "      <td>14.2</td>\n",
       "      <td>7200.0</td>\n",
       "      <td>5.900000</td>\n",
       "      <td>no</td>\n",
       "      <td>no</td>\n",
       "      <td>no</td>\n",
       "      <td>good</td>\n",
       "      <td>no</td>\n",
       "    </tr>\n",
       "    <tr>\n",
       "      <th>399</th>\n",
       "      <td>58.0</td>\n",
       "      <td>80.0</td>\n",
       "      <td>0.0</td>\n",
       "      <td>notpresent</td>\n",
       "      <td>15.8</td>\n",
       "      <td>6800.0</td>\n",
       "      <td>6.100000</td>\n",
       "      <td>no</td>\n",
       "      <td>no</td>\n",
       "      <td>no</td>\n",
       "      <td>good</td>\n",
       "      <td>no</td>\n",
       "    </tr>\n",
       "  </tbody>\n",
       "</table>\n",
       "<p>400 rows × 12 columns</p>\n",
       "</div>"
      ],
      "text/plain": [
       "      Age  Blood_Pressure  Sugar    Bacteria  Hemoglobin  \\\n",
       "0    48.0            80.0    0.0  notpresent        15.4   \n",
       "1     7.0            50.0    0.0  notpresent        11.3   \n",
       "2    62.0            80.0    3.0  notpresent         9.6   \n",
       "3    48.0            70.0    0.0  notpresent        11.2   \n",
       "4    51.0            80.0    0.0  notpresent        11.6   \n",
       "..    ...             ...    ...         ...         ...   \n",
       "395  55.0            80.0    0.0  notpresent        15.7   \n",
       "396  42.0            70.0    0.0  notpresent        16.5   \n",
       "397  12.0            80.0    0.0  notpresent        15.8   \n",
       "398  17.0            60.0    0.0  notpresent        14.2   \n",
       "399  58.0            80.0    0.0  notpresent        15.8   \n",
       "\n",
       "     White_Blood_Cell_Count  Red_Blood_Cell_Count Hypertension Diabetes  \\\n",
       "0                    7800.0              5.200000          yes      yes   \n",
       "1                    6000.0              4.707435           no       no   \n",
       "2                    7500.0              4.707435           no      yes   \n",
       "3                    6700.0              3.900000          yes       no   \n",
       "4                    7300.0              4.600000           no       no   \n",
       "..                      ...                   ...          ...      ...   \n",
       "395                  6700.0              4.900000           no       no   \n",
       "396                  7800.0              6.200000           no       no   \n",
       "397                  6600.0              5.400000           no       no   \n",
       "398                  7200.0              5.900000           no       no   \n",
       "399                  6800.0              6.100000           no       no   \n",
       "\n",
       "    Coronary_Artery_Disease Appetite Anemia  \n",
       "0                        no     good     no  \n",
       "1                        no     good     no  \n",
       "2                        no     poor    yes  \n",
       "3                        no     poor    yes  \n",
       "4                        no     good     no  \n",
       "..                      ...      ...    ...  \n",
       "395                      no     good     no  \n",
       "396                      no     good     no  \n",
       "397                      no     good     no  \n",
       "398                      no     good     no  \n",
       "399                      no     good     no  \n",
       "\n",
       "[400 rows x 12 columns]"
      ]
     },
     "execution_count": 40,
     "metadata": {},
     "output_type": "execute_result"
    }
   ],
   "source": [
    "x"
   ]
  },
  {
   "cell_type": "code",
   "execution_count": 41,
   "id": "0acdb811",
   "metadata": {},
   "outputs": [],
   "source": [
    "y = df.iloc[:,-1]"
   ]
  },
  {
   "cell_type": "code",
   "execution_count": 42,
   "id": "4860e6a8",
   "metadata": {},
   "outputs": [
    {
     "data": {
      "text/plain": [
       "0         ckd\n",
       "1         ckd\n",
       "2         ckd\n",
       "3         ckd\n",
       "4         ckd\n",
       "        ...  \n",
       "395    notckd\n",
       "396    notckd\n",
       "397    notckd\n",
       "398    notckd\n",
       "399    notckd\n",
       "Name: Class, Length: 400, dtype: object"
      ]
     },
     "execution_count": 42,
     "metadata": {},
     "output_type": "execute_result"
    }
   ],
   "source": [
    "y"
   ]
  },
  {
   "cell_type": "markdown",
   "id": "50c175f0",
   "metadata": {},
   "source": [
    "# OUTLIERS OF FEATURES"
   ]
  },
  {
   "cell_type": "code",
   "execution_count": 43,
   "id": "df7a22dc",
   "metadata": {},
   "outputs": [],
   "source": [
    "colname = x.select_dtypes(\"float64\").columns"
   ]
  },
  {
   "cell_type": "code",
   "execution_count": 44,
   "id": "8d2b7857",
   "metadata": {},
   "outputs": [
    {
     "data": {
      "image/png": "[encoded data removed]",
      "text/plain": [
       "<Figure size 432x288 with 1 Axes>"
      ]
     },
     "metadata": {
      "needs_background": "light"
     },
     "output_type": "display_data"
    },
    {
     "data": {
      "image/png": "[encoded data removed]",
      "text/plain": [
       "<Figure size 432x288 with 1 Axes>"
      ]
     },
     "metadata": {
      "needs_background": "light"
     },
     "output_type": "display_data"
    },
    {
     "data": {
      "image/png": "[encoded data removed]",
      "text/plain": [
       "<Figure size 432x288 with 1 Axes>"
      ]
     },
     "metadata": {
      "needs_background": "light"
     },
     "output_type": "display_data"
    },
    {
     "data": {
      "image/png": "[encoded data removed]",
      "text/plain": [
       "<Figure size 432x288 with 1 Axes>"
      ]
     },
     "metadata": {
      "needs_background": "light"
     },
     "output_type": "display_data"
    },
    {
     "data": {
      "image/png": "[encoded data removed]",
      "text/plain": [
       "<Figure size 432x288 with 1 Axes>"
      ]
     },
     "metadata": {
      "needs_background": "light"
     },
     "output_type": "display_data"
    },
    {
     "data": {
      "image/png": "[encoded data removed]",
      "text/plain": [
       "<Figure size 432x288 with 1 Axes>"
      ]
     },
     "metadata": {
      "needs_background": "light"
     },
     "output_type": "display_data"
    }
   ],
   "source": [
    "for col in colname:\n",
    "    plt.figure()\n",
    "    sns.boxplot(data=df,x=col)\n",
    "    plt.show()"
   ]
  },
  {
   "cell_type": "markdown",
   "id": "468c5c60",
   "metadata": {},
   "source": [
    "# SKEWNESS"
   ]
  },
  {
   "cell_type": "code",
   "execution_count": 45,
   "id": "ccf26caf",
   "metadata": {},
   "outputs": [],
   "source": [
    "colname = x.select_dtypes(\"float64\").columns"
   ]
  },
  {
   "cell_type": "code",
   "execution_count": 46,
   "id": "f00f173b",
   "metadata": {},
   "outputs": [
    {
     "data": {
      "text/plain": [
       "Index(['Age', 'Blood_Pressure', 'Sugar', 'Hemoglobin',\n",
       "       'White_Blood_Cell_Count', 'Red_Blood_Cell_Count'],\n",
       "      dtype='object')"
      ]
     },
     "execution_count": 46,
     "metadata": {},
     "output_type": "execute_result"
    }
   ],
   "source": [
    "colname"
   ]
  },
  {
   "cell_type": "code",
   "execution_count": 47,
   "id": "28663a1c",
   "metadata": {},
   "outputs": [],
   "source": [
    "from scipy.stats import skew"
   ]
  },
  {
   "cell_type": "code",
   "execution_count": 48,
   "id": "6d6aa744",
   "metadata": {},
   "outputs": [
    {
     "name": "stdout",
     "output_type": "stream",
     "text": [
      "Age\n",
      "-0.6987313258428666\n"
     ]
    },
    {
     "data": {
      "image/png": "[encoded data removed]",
      "text/plain": [
       "<Figure size 432x288 with 1 Axes>"
      ]
     },
     "metadata": {
      "needs_background": "light"
     },
     "output_type": "display_data"
    },
    {
     "name": "stdout",
     "output_type": "stream",
     "text": [
      "Blood_Pressure\n",
      "1.6237575531596693\n"
     ]
    },
    {
     "data": {
      "image/png": "[encoded data removed]",
      "text/plain": [
       "<Figure size 432x288 with 1 Axes>"
      ]
     },
     "metadata": {
      "needs_background": "light"
     },
     "output_type": "display_data"
    },
    {
     "name": "stdout",
     "output_type": "stream",
     "text": [
      "Sugar\n",
      "2.6193958368804546\n"
     ]
    },
    {
     "data": {
      "image/png": "[encoded data removed]",
      "text/plain": [
       "<Figure size 432x288 with 1 Axes>"
      ]
     },
     "metadata": {
      "needs_background": "light"
     },
     "output_type": "display_data"
    },
    {
     "name": "stdout",
     "output_type": "stream",
     "text": [
      "Hemoglobin\n",
      "-0.3577088170020545\n"
     ]
    },
    {
     "data": {
      "image/png": "[encoded data removed]",
      "text/plain": [
       "<Figure size 432x288 with 1 Axes>"
      ]
     },
     "metadata": {
      "needs_background": "light"
     },
     "output_type": "display_data"
    },
    {
     "name": "stdout",
     "output_type": "stream",
     "text": [
      "White_Blood_Cell_Count\n",
      "1.8717560169836573\n"
     ]
    },
    {
     "data": {
      "image/png": "[encoded data removed]",
      "text/plain": [
       "<Figure size 432x288 with 1 Axes>"
      ]
     },
     "metadata": {
      "needs_background": "light"
     },
     "output_type": "display_data"
    },
    {
     "name": "stdout",
     "output_type": "stream",
     "text": [
      "Red_Blood_Cell_Count\n",
      "-0.22230719010677968\n"
     ]
    },
    {
     "data": {
      "image/png": "[encoded data removed]",
      "text/plain": [
       "<Figure size 432x288 with 1 Axes>"
      ]
     },
     "metadata": {
      "needs_background": "light"
     },
     "output_type": "display_data"
    }
   ],
   "source": [
    "for col in x[colname]:\n",
    "    print(col)\n",
    "    print(skew(x[col]))\n",
    "    plt.figure()\n",
    "    sns.distplot(x[col])\n",
    "    plt.show()"
   ]
  },
  {
   "cell_type": "code",
   "execution_count": 50,
   "id": "4c78cf80",
   "metadata": {
    "scrolled": false
   },
   "outputs": [
    {
     "data": {
      "text/plain": [
       "ckd       250\n",
       "notckd    150\n",
       "Name: Class, dtype: int64"
      ]
     },
     "execution_count": 50,
     "metadata": {},
     "output_type": "execute_result"
    }
   ],
   "source": [
    "df[\"Class\"].value_counts()"
   ]
  },
  {
   "cell_type": "code",
   "execution_count": 51,
   "id": "ab5f1e09",
   "metadata": {},
   "outputs": [
    {
     "data": {
      "text/plain": [
       "0         ckd\n",
       "1         ckd\n",
       "2         ckd\n",
       "3         ckd\n",
       "4         ckd\n",
       "        ...  \n",
       "395    notckd\n",
       "396    notckd\n",
       "397    notckd\n",
       "398    notckd\n",
       "399    notckd\n",
       "Name: Class, Length: 400, dtype: object"
      ]
     },
     "execution_count": 51,
     "metadata": {},
     "output_type": "execute_result"
    }
   ],
   "source": [
    "df[\"Class\"]"
   ]
  },
  {
   "cell_type": "markdown",
   "id": "da6e544f",
   "metadata": {},
   "source": [
    "# GRAPHICAL REPRESENTATION"
   ]
  },
  {
   "cell_type": "code",
   "execution_count": 52,
   "id": "a4155da2",
   "metadata": {},
   "outputs": [
    {
     "data": {
      "text/plain": [
       "no     253\n",
       "yes    147\n",
       "Name: Hypertension, dtype: int64"
      ]
     },
     "execution_count": 52,
     "metadata": {},
     "output_type": "execute_result"
    }
   ],
   "source": [
    "df['Hypertension'].value_counts()"
   ]
  },
  {
   "cell_type": "code",
   "execution_count": 53,
   "id": "50e4688a",
   "metadata": {
    "scrolled": false
   },
   "outputs": [
    {
     "data": {
      "text/plain": [
       "<AxesSubplot:xlabel='Hypertension', ylabel='count'>"
      ]
     },
     "execution_count": 53,
     "metadata": {},
     "output_type": "execute_result"
    },
    {
     "data": {
      "image/png": "[encoded data removed]",
      "text/plain": [
       "<Figure size 432x288 with 1 Axes>"
      ]
     },
     "metadata": {
      "needs_background": "light"
     },
     "output_type": "display_data"
    }
   ],
   "source": [
    "sns.countplot(df['Hypertension'],hue=df['Class'],color=\"red\")"
   ]
  },
  {
   "cell_type": "code",
   "execution_count": 54,
   "id": "35b7b5ed",
   "metadata": {
    "scrolled": false
   },
   "outputs": [
    {
     "data": {
      "text/plain": [
       "<AxesSubplot:xlabel='Diabetes', ylabel='count'>"
      ]
     },
     "execution_count": 54,
     "metadata": {},
     "output_type": "execute_result"
    },
    {
     "data": {
      "image/png": "[encoded data removed]",
      "text/plain": [
       "<Figure size 432x288 with 1 Axes>"
      ]
     },
     "metadata": {
      "needs_background": "light"
     },
     "output_type": "display_data"
    }
   ],
   "source": [
    "sns.countplot(df['Diabetes'],hue=df['Class'])"
   ]
  },
  {
   "cell_type": "code",
   "execution_count": 55,
   "id": "f30135ac",
   "metadata": {},
   "outputs": [
    {
     "data": {
      "text/plain": [
       "<AxesSubplot:xlabel='Anemia', ylabel='count'>"
      ]
     },
     "execution_count": 55,
     "metadata": {},
     "output_type": "execute_result"
    },
    {
     "data": {
      "image/png": "[encoded data removed]",
      "text/plain": [
       "<Figure size 432x288 with 1 Axes>"
      ]
     },
     "metadata": {
      "needs_background": "light"
     },
     "output_type": "display_data"
    }
   ],
   "source": [
    "sns.countplot(df['Anemia'],hue=df['Class'])"
   ]
  },
  {
   "cell_type": "code",
   "execution_count": 56,
   "id": "5d453a89",
   "metadata": {
    "scrolled": true
   },
   "outputs": [
    {
     "data": {
      "text/plain": [
       "<AxesSubplot:xlabel='Appetite', ylabel='count'>"
      ]
     },
     "execution_count": 56,
     "metadata": {},
     "output_type": "execute_result"
    },
    {
     "data": {
      "image/png": "[encoded data removed]",
      "text/plain": [
       "<Figure size 432x288 with 1 Axes>"
      ]
     },
     "metadata": {
      "needs_background": "light"
     },
     "output_type": "display_data"
    }
   ],
   "source": [
    "sns.countplot(df['Appetite'],hue=df['Class'])"
   ]
  },
  {
   "cell_type": "code",
   "execution_count": 57,
   "id": "edd47dc2",
   "metadata": {
    "scrolled": true
   },
   "outputs": [
    {
     "data": {
      "image/png": "[encoded data removed]",
      "text/plain": [
       "<Figure size 720x720 with 2 Axes>"
      ]
     },
     "metadata": {
      "needs_background": "light"
     },
     "output_type": "display_data"
    }
   ],
   "source": [
    "plt.figure(figsize=(10,10))\n",
    "sns.heatmap(df.corr(),annot=True,cmap=\"Reds\")\n",
    "plt.show()"
   ]
  },
  {
   "cell_type": "code",
   "execution_count": 58,
   "id": "cc7eee8e",
   "metadata": {
    "scrolled": true
   },
   "outputs": [
    {
     "data": {
      "image/png": "[encoded data removed]",
      "text/plain": [
       "<Figure size 432x288 with 1 Axes>"
      ]
     },
     "metadata": {},
     "output_type": "display_data"
    }
   ],
   "source": [
    "plt.pie(df[\"Class\"].value_counts(), labels=[\"CKD\",\"NotCKD\"], colors=[\"red\",\"green\"], autopct=\"%1.1f%%\",radius=1.5)\n",
    "plt.show()"
   ]
  },
  {
   "cell_type": "code",
   "execution_count": 59,
   "id": "eef8cac4",
   "metadata": {},
   "outputs": [
    {
     "data": {
      "text/plain": [
       "<AxesSubplot:xlabel='Class', ylabel='count'>"
      ]
     },
     "execution_count": 59,
     "metadata": {},
     "output_type": "execute_result"
    },
    {
     "data": {
      "image/png": "[encoded data removed]",
      "text/plain": [
       "<Figure size 432x288 with 1 Axes>"
      ]
     },
     "metadata": {
      "needs_background": "light"
     },
     "output_type": "display_data"
    }
   ],
   "source": [
    "sns.countplot(data=df, x=\"Class\", palette=\"RdBu_r\")"
   ]
  },
  {
   "cell_type": "code",
   "execution_count": 60,
   "id": "280e20af",
   "metadata": {},
   "outputs": [
    {
     "data": {
      "text/html": [
       "<div>\n",
       "<style scoped>\n",
       "    .dataframe tbody tr th:only-of-type {\n",
       "        vertical-align: middle;\n",
       "    }\n",
       "\n",
       "    .dataframe tbody tr th {\n",
       "        vertical-align: top;\n",
       "    }\n",
       "\n",
       "    .dataframe thead th {\n",
       "        text-align: right;\n",
       "    }\n",
       "</style>\n",
       "<table border=\"1\" class=\"dataframe\">\n",
       "  <thead>\n",
       "    <tr style=\"text-align: right;\">\n",
       "      <th></th>\n",
       "      <th>Bacteria</th>\n",
       "      <th>Hypertension</th>\n",
       "      <th>Diabetes</th>\n",
       "      <th>Coronary_Artery_Disease</th>\n",
       "      <th>Appetite</th>\n",
       "      <th>Anemia</th>\n",
       "    </tr>\n",
       "  </thead>\n",
       "  <tbody>\n",
       "    <tr>\n",
       "      <th>0</th>\n",
       "      <td>notpresent</td>\n",
       "      <td>yes</td>\n",
       "      <td>yes</td>\n",
       "      <td>no</td>\n",
       "      <td>good</td>\n",
       "      <td>no</td>\n",
       "    </tr>\n",
       "    <tr>\n",
       "      <th>1</th>\n",
       "      <td>notpresent</td>\n",
       "      <td>no</td>\n",
       "      <td>no</td>\n",
       "      <td>no</td>\n",
       "      <td>good</td>\n",
       "      <td>no</td>\n",
       "    </tr>\n",
       "    <tr>\n",
       "      <th>2</th>\n",
       "      <td>notpresent</td>\n",
       "      <td>no</td>\n",
       "      <td>yes</td>\n",
       "      <td>no</td>\n",
       "      <td>poor</td>\n",
       "      <td>yes</td>\n",
       "    </tr>\n",
       "    <tr>\n",
       "      <th>3</th>\n",
       "      <td>notpresent</td>\n",
       "      <td>yes</td>\n",
       "      <td>no</td>\n",
       "      <td>no</td>\n",
       "      <td>poor</td>\n",
       "      <td>yes</td>\n",
       "    </tr>\n",
       "    <tr>\n",
       "      <th>4</th>\n",
       "      <td>notpresent</td>\n",
       "      <td>no</td>\n",
       "      <td>no</td>\n",
       "      <td>no</td>\n",
       "      <td>good</td>\n",
       "      <td>no</td>\n",
       "    </tr>\n",
       "    <tr>\n",
       "      <th>...</th>\n",
       "      <td>...</td>\n",
       "      <td>...</td>\n",
       "      <td>...</td>\n",
       "      <td>...</td>\n",
       "      <td>...</td>\n",
       "      <td>...</td>\n",
       "    </tr>\n",
       "    <tr>\n",
       "      <th>395</th>\n",
       "      <td>notpresent</td>\n",
       "      <td>no</td>\n",
       "      <td>no</td>\n",
       "      <td>no</td>\n",
       "      <td>good</td>\n",
       "      <td>no</td>\n",
       "    </tr>\n",
       "    <tr>\n",
       "      <th>396</th>\n",
       "      <td>notpresent</td>\n",
       "      <td>no</td>\n",
       "      <td>no</td>\n",
       "      <td>no</td>\n",
       "      <td>good</td>\n",
       "      <td>no</td>\n",
       "    </tr>\n",
       "    <tr>\n",
       "      <th>397</th>\n",
       "      <td>notpresent</td>\n",
       "      <td>no</td>\n",
       "      <td>no</td>\n",
       "      <td>no</td>\n",
       "      <td>good</td>\n",
       "      <td>no</td>\n",
       "    </tr>\n",
       "    <tr>\n",
       "      <th>398</th>\n",
       "      <td>notpresent</td>\n",
       "      <td>no</td>\n",
       "      <td>no</td>\n",
       "      <td>no</td>\n",
       "      <td>good</td>\n",
       "      <td>no</td>\n",
       "    </tr>\n",
       "    <tr>\n",
       "      <th>399</th>\n",
       "      <td>notpresent</td>\n",
       "      <td>no</td>\n",
       "      <td>no</td>\n",
       "      <td>no</td>\n",
       "      <td>good</td>\n",
       "      <td>no</td>\n",
       "    </tr>\n",
       "  </tbody>\n",
       "</table>\n",
       "<p>400 rows × 6 columns</p>\n",
       "</div>"
      ],
      "text/plain": [
       "       Bacteria Hypertension Diabetes Coronary_Artery_Disease Appetite Anemia\n",
       "0    notpresent          yes      yes                      no     good     no\n",
       "1    notpresent           no       no                      no     good     no\n",
       "2    notpresent           no      yes                      no     poor    yes\n",
       "3    notpresent          yes       no                      no     poor    yes\n",
       "4    notpresent           no       no                      no     good     no\n",
       "..          ...          ...      ...                     ...      ...    ...\n",
       "395  notpresent           no       no                      no     good     no\n",
       "396  notpresent           no       no                      no     good     no\n",
       "397  notpresent           no       no                      no     good     no\n",
       "398  notpresent           no       no                      no     good     no\n",
       "399  notpresent           no       no                      no     good     no\n",
       "\n",
       "[400 rows x 6 columns]"
      ]
     },
     "execution_count": 60,
     "metadata": {},
     "output_type": "execute_result"
    }
   ],
   "source": [
    "x.select_dtypes(object)"
   ]
  },
  {
   "cell_type": "code",
   "execution_count": 61,
   "id": "7ebe9303",
   "metadata": {},
   "outputs": [],
   "source": [
    "from sklearn.preprocessing import OrdinalEncoder\n",
    "oe = OrdinalEncoder()\n",
    "x[[\"Bacteria\",\"Hypertension\",\"Diabetes\",\"Coronary_Artery_Disease\",\"Appetite\",\"Anemia\"]]=oe.fit_transform(x[[\"Bacteria\",\"Hypertension\",\"Diabetes\",\"Coronary_Artery_Disease\",\"Appetite\",\"Anemia\"]])"
   ]
  },
  {
   "cell_type": "markdown",
   "id": "3b88047d",
   "metadata": {},
   "source": [
    "# SPLITING DATA INTO TRAINING AND TESTING "
   ]
  },
  {
   "cell_type": "code",
   "execution_count": 62,
   "id": "fa768d0f",
   "metadata": {},
   "outputs": [],
   "source": [
    "from sklearn.model_selection import train_test_split\n",
    "\n",
    "xtrain,xtest,ytrain,ytest = train_test_split(x,y,test_size=0.3,random_state=1,stratify=y)"
   ]
  },
  {
   "cell_type": "markdown",
   "id": "4cc80b31",
   "metadata": {},
   "source": [
    "# IMPORTED CLASSIFICATION ALGORITHM"
   ]
  },
  {
   "cell_type": "code",
   "execution_count": 63,
   "id": "ea45a986",
   "metadata": {},
   "outputs": [
    {
     "data": {
      "text/html": [
       "<div>\n",
       "<style scoped>\n",
       "    .dataframe tbody tr th:only-of-type {\n",
       "        vertical-align: middle;\n",
       "    }\n",
       "\n",
       "    .dataframe tbody tr th {\n",
       "        vertical-align: top;\n",
       "    }\n",
       "\n",
       "    .dataframe thead th {\n",
       "        text-align: right;\n",
       "    }\n",
       "</style>\n",
       "<table border=\"1\" class=\"dataframe\">\n",
       "  <thead>\n",
       "    <tr style=\"text-align: right;\">\n",
       "      <th></th>\n",
       "      <th>Age</th>\n",
       "      <th>Blood_Pressure</th>\n",
       "      <th>Sugar</th>\n",
       "      <th>Bacteria</th>\n",
       "      <th>Hemoglobin</th>\n",
       "      <th>White_Blood_Cell_Count</th>\n",
       "      <th>Red_Blood_Cell_Count</th>\n",
       "      <th>Hypertension</th>\n",
       "      <th>Diabetes</th>\n",
       "      <th>Coronary_Artery_Disease</th>\n",
       "      <th>Appetite</th>\n",
       "      <th>Anemia</th>\n",
       "    </tr>\n",
       "  </thead>\n",
       "  <tbody>\n",
       "    <tr>\n",
       "      <th>0</th>\n",
       "      <td>48.0</td>\n",
       "      <td>80.0</td>\n",
       "      <td>0.0</td>\n",
       "      <td>0.0</td>\n",
       "      <td>15.4</td>\n",
       "      <td>7800.0</td>\n",
       "      <td>5.200000</td>\n",
       "      <td>1.0</td>\n",
       "      <td>1.0</td>\n",
       "      <td>0.0</td>\n",
       "      <td>0.0</td>\n",
       "      <td>0.0</td>\n",
       "    </tr>\n",
       "    <tr>\n",
       "      <th>1</th>\n",
       "      <td>7.0</td>\n",
       "      <td>50.0</td>\n",
       "      <td>0.0</td>\n",
       "      <td>0.0</td>\n",
       "      <td>11.3</td>\n",
       "      <td>6000.0</td>\n",
       "      <td>4.707435</td>\n",
       "      <td>0.0</td>\n",
       "      <td>0.0</td>\n",
       "      <td>0.0</td>\n",
       "      <td>0.0</td>\n",
       "      <td>0.0</td>\n",
       "    </tr>\n",
       "    <tr>\n",
       "      <th>2</th>\n",
       "      <td>62.0</td>\n",
       "      <td>80.0</td>\n",
       "      <td>3.0</td>\n",
       "      <td>0.0</td>\n",
       "      <td>9.6</td>\n",
       "      <td>7500.0</td>\n",
       "      <td>4.707435</td>\n",
       "      <td>0.0</td>\n",
       "      <td>1.0</td>\n",
       "      <td>0.0</td>\n",
       "      <td>1.0</td>\n",
       "      <td>1.0</td>\n",
       "    </tr>\n",
       "    <tr>\n",
       "      <th>3</th>\n",
       "      <td>48.0</td>\n",
       "      <td>70.0</td>\n",
       "      <td>0.0</td>\n",
       "      <td>0.0</td>\n",
       "      <td>11.2</td>\n",
       "      <td>6700.0</td>\n",
       "      <td>3.900000</td>\n",
       "      <td>1.0</td>\n",
       "      <td>0.0</td>\n",
       "      <td>0.0</td>\n",
       "      <td>1.0</td>\n",
       "      <td>1.0</td>\n",
       "    </tr>\n",
       "    <tr>\n",
       "      <th>4</th>\n",
       "      <td>51.0</td>\n",
       "      <td>80.0</td>\n",
       "      <td>0.0</td>\n",
       "      <td>0.0</td>\n",
       "      <td>11.6</td>\n",
       "      <td>7300.0</td>\n",
       "      <td>4.600000</td>\n",
       "      <td>0.0</td>\n",
       "      <td>0.0</td>\n",
       "      <td>0.0</td>\n",
       "      <td>0.0</td>\n",
       "      <td>0.0</td>\n",
       "    </tr>\n",
       "    <tr>\n",
       "      <th>...</th>\n",
       "      <td>...</td>\n",
       "      <td>...</td>\n",
       "      <td>...</td>\n",
       "      <td>...</td>\n",
       "      <td>...</td>\n",
       "      <td>...</td>\n",
       "      <td>...</td>\n",
       "      <td>...</td>\n",
       "      <td>...</td>\n",
       "      <td>...</td>\n",
       "      <td>...</td>\n",
       "      <td>...</td>\n",
       "    </tr>\n",
       "    <tr>\n",
       "      <th>395</th>\n",
       "      <td>55.0</td>\n",
       "      <td>80.0</td>\n",
       "      <td>0.0</td>\n",
       "      <td>0.0</td>\n",
       "      <td>15.7</td>\n",
       "      <td>6700.0</td>\n",
       "      <td>4.900000</td>\n",
       "      <td>0.0</td>\n",
       "      <td>0.0</td>\n",
       "      <td>0.0</td>\n",
       "      <td>0.0</td>\n",
       "      <td>0.0</td>\n",
       "    </tr>\n",
       "    <tr>\n",
       "      <th>396</th>\n",
       "      <td>42.0</td>\n",
       "      <td>70.0</td>\n",
       "      <td>0.0</td>\n",
       "      <td>0.0</td>\n",
       "      <td>16.5</td>\n",
       "      <td>7800.0</td>\n",
       "      <td>6.200000</td>\n",
       "      <td>0.0</td>\n",
       "      <td>0.0</td>\n",
       "      <td>0.0</td>\n",
       "      <td>0.0</td>\n",
       "      <td>0.0</td>\n",
       "    </tr>\n",
       "    <tr>\n",
       "      <th>397</th>\n",
       "      <td>12.0</td>\n",
       "      <td>80.0</td>\n",
       "      <td>0.0</td>\n",
       "      <td>0.0</td>\n",
       "      <td>15.8</td>\n",
       "      <td>6600.0</td>\n",
       "      <td>5.400000</td>\n",
       "      <td>0.0</td>\n",
       "      <td>0.0</td>\n",
       "      <td>0.0</td>\n",
       "      <td>0.0</td>\n",
       "      <td>0.0</td>\n",
       "    </tr>\n",
       "    <tr>\n",
       "      <th>398</th>\n",
       "      <td>17.0</td>\n",
       "      <td>60.0</td>\n",
       "      <td>0.0</td>\n",
       "      <td>0.0</td>\n",
       "      <td>14.2</td>\n",
       "      <td>7200.0</td>\n",
       "      <td>5.900000</td>\n",
       "      <td>0.0</td>\n",
       "      <td>0.0</td>\n",
       "      <td>0.0</td>\n",
       "      <td>0.0</td>\n",
       "      <td>0.0</td>\n",
       "    </tr>\n",
       "    <tr>\n",
       "      <th>399</th>\n",
       "      <td>58.0</td>\n",
       "      <td>80.0</td>\n",
       "      <td>0.0</td>\n",
       "      <td>0.0</td>\n",
       "      <td>15.8</td>\n",
       "      <td>6800.0</td>\n",
       "      <td>6.100000</td>\n",
       "      <td>0.0</td>\n",
       "      <td>0.0</td>\n",
       "      <td>0.0</td>\n",
       "      <td>0.0</td>\n",
       "      <td>0.0</td>\n",
       "    </tr>\n",
       "  </tbody>\n",
       "</table>\n",
       "<p>400 rows × 12 columns</p>\n",
       "</div>"
      ],
      "text/plain": [
       "      Age  Blood_Pressure  Sugar  Bacteria  Hemoglobin  \\\n",
       "0    48.0            80.0    0.0       0.0        15.4   \n",
       "1     7.0            50.0    0.0       0.0        11.3   \n",
       "2    62.0            80.0    3.0       0.0         9.6   \n",
       "3    48.0            70.0    0.0       0.0        11.2   \n",
       "4    51.0            80.0    0.0       0.0        11.6   \n",
       "..    ...             ...    ...       ...         ...   \n",
       "395  55.0            80.0    0.0       0.0        15.7   \n",
       "396  42.0            70.0    0.0       0.0        16.5   \n",
       "397  12.0            80.0    0.0       0.0        15.8   \n",
       "398  17.0            60.0    0.0       0.0        14.2   \n",
       "399  58.0            80.0    0.0       0.0        15.8   \n",
       "\n",
       "     White_Blood_Cell_Count  Red_Blood_Cell_Count  Hypertension  Diabetes  \\\n",
       "0                    7800.0              5.200000           1.0       1.0   \n",
       "1                    6000.0              4.707435           0.0       0.0   \n",
       "2                    7500.0              4.707435           0.0       1.0   \n",
       "3                    6700.0              3.900000           1.0       0.0   \n",
       "4                    7300.0              4.600000           0.0       0.0   \n",
       "..                      ...                   ...           ...       ...   \n",
       "395                  6700.0              4.900000           0.0       0.0   \n",
       "396                  7800.0              6.200000           0.0       0.0   \n",
       "397                  6600.0              5.400000           0.0       0.0   \n",
       "398                  7200.0              5.900000           0.0       0.0   \n",
       "399                  6800.0              6.100000           0.0       0.0   \n",
       "\n",
       "     Coronary_Artery_Disease  Appetite  Anemia  \n",
       "0                        0.0       0.0     0.0  \n",
       "1                        0.0       0.0     0.0  \n",
       "2                        0.0       1.0     1.0  \n",
       "3                        0.0       1.0     1.0  \n",
       "4                        0.0       0.0     0.0  \n",
       "..                       ...       ...     ...  \n",
       "395                      0.0       0.0     0.0  \n",
       "396                      0.0       0.0     0.0  \n",
       "397                      0.0       0.0     0.0  \n",
       "398                      0.0       0.0     0.0  \n",
       "399                      0.0       0.0     0.0  \n",
       "\n",
       "[400 rows x 12 columns]"
      ]
     },
     "execution_count": 63,
     "metadata": {},
     "output_type": "execute_result"
    }
   ],
   "source": [
    "x"
   ]
  },
  {
   "cell_type": "code",
   "execution_count": 64,
   "id": "9e9c3537",
   "metadata": {},
   "outputs": [],
   "source": [
    "from sklearn.linear_model import LogisticRegression\n",
    "from sklearn.neighbors import KNeighborsClassifier\n",
    "from sklearn.svm import SVC\n",
    "from sklearn.tree import DecisionTreeClassifier\n",
    "from sklearn.ensemble import RandomForestClassifier"
   ]
  },
  {
   "cell_type": "code",
   "execution_count": 65,
   "id": "9630783f",
   "metadata": {},
   "outputs": [],
   "source": [
    "from sklearn.metrics import confusion_matrix,classification_report"
   ]
  },
  {
   "cell_type": "code",
   "execution_count": 66,
   "id": "fd540d87",
   "metadata": {},
   "outputs": [],
   "source": [
    "def mymodel(model):\n",
    "    model.fit(xtrain,ytrain)\n",
    "    ypred = model.predict(xtest)\n",
    "    \n",
    "    train = model.score(xtrain,ytrain)\n",
    "    test = model.score(xtest,ytest)\n",
    "    \n",
    "    cr = classification_report(ytest,ypred)\n",
    "    cm = confusion_matrix(ytest,ypred)\n",
    "    \n",
    "    print(f\"Training Score:{train}\\nTesting Score:{test}\\nClassification Report:\\n{cr}\\n{cm}\")"
   ]
  },
  {
   "cell_type": "code",
   "execution_count": 67,
   "id": "d89b72f3",
   "metadata": {},
   "outputs": [
    {
     "name": "stdout",
     "output_type": "stream",
     "text": [
      "Training Score:0.9321428571428572\n",
      "Testing Score:0.925\n",
      "Classification Report:\n",
      "              precision    recall  f1-score   support\n",
      "\n",
      "         ckd       0.93      0.95      0.94        75\n",
      "      notckd       0.91      0.89      0.90        45\n",
      "\n",
      "    accuracy                           0.93       120\n",
      "   macro avg       0.92      0.92      0.92       120\n",
      "weighted avg       0.92      0.93      0.92       120\n",
      "\n",
      "[[71  4]\n",
      " [ 5 40]]\n"
     ]
    }
   ],
   "source": [
    "lr = mymodel(LogisticRegression())"
   ]
  },
  {
   "cell_type": "markdown",
   "id": "13c03073",
   "metadata": {},
   "source": [
    "# SCALING ON FEATURES"
   ]
  },
  {
   "cell_type": "code",
   "execution_count": 68,
   "id": "f929371e",
   "metadata": {},
   "outputs": [],
   "source": [
    "from sklearn.preprocessing import StandardScaler\n",
    "sc = StandardScaler()\n",
    "x = sc.fit_transform(x)"
   ]
  },
  {
   "cell_type": "code",
   "execution_count": 69,
   "id": "07b574f3",
   "metadata": {},
   "outputs": [
    {
     "data": {
      "text/plain": [
       "array([[-0.21366972,  0.26233836, -0.4377969 , ..., -0.30478874,\n",
       "        -0.50780078, -0.42008403],\n",
       "       [-2.63664137, -1.96658024, -0.4377969 , ..., -0.30478874,\n",
       "        -0.50780078, -0.42008403],\n",
       "       [ 0.61368645,  0.26233836,  2.47992547, ..., -0.30478874,\n",
       "         1.96927621,  2.38047614],\n",
       "       ...,\n",
       "       [-2.34115702,  0.26233836, -0.4377969 , ..., -0.30478874,\n",
       "        -0.50780078, -0.42008403],\n",
       "       [-2.04567267, -1.22360737, -0.4377969 , ..., -0.30478874,\n",
       "        -0.50780078, -0.42008403],\n",
       "       [ 0.37729897,  0.26233836, -0.4377969 , ..., -0.30478874,\n",
       "        -0.50780078, -0.42008403]])"
      ]
     },
     "execution_count": 69,
     "metadata": {},
     "output_type": "execute_result"
    }
   ],
   "source": [
    "x"
   ]
  },
  {
   "cell_type": "code",
   "execution_count": 70,
   "id": "f032787c",
   "metadata": {
    "scrolled": true
   },
   "outputs": [
    {
     "name": "stdout",
     "output_type": "stream",
     "text": [
      "Training Score:0.625\n",
      "Testing Score:0.625\n",
      "Classification Report:\n",
      "              precision    recall  f1-score   support\n",
      "\n",
      "         ckd       0.62      1.00      0.77        75\n",
      "      notckd       0.00      0.00      0.00        45\n",
      "\n",
      "    accuracy                           0.62       120\n",
      "   macro avg       0.31      0.50      0.38       120\n",
      "weighted avg       0.39      0.62      0.48       120\n",
      "\n",
      "[[75  0]\n",
      " [45  0]]\n"
     ]
    }
   ],
   "source": [
    "sv = mymodel(SVC())"
   ]
  },
  {
   "cell_type": "code",
   "execution_count": 71,
   "id": "d24e5270",
   "metadata": {},
   "outputs": [
    {
     "name": "stdout",
     "output_type": "stream",
     "text": [
      "Training Score:0.7928571428571428\n",
      "Testing Score:0.6833333333333333\n",
      "Classification Report:\n",
      "              precision    recall  f1-score   support\n",
      "\n",
      "         ckd       0.76      0.72      0.74        75\n",
      "      notckd       0.57      0.62      0.60        45\n",
      "\n",
      "    accuracy                           0.68       120\n",
      "   macro avg       0.67      0.67      0.67       120\n",
      "weighted avg       0.69      0.68      0.69       120\n",
      "\n",
      "[[54 21]\n",
      " [17 28]]\n"
     ]
    }
   ],
   "source": [
    "knn = mymodel(KNeighborsClassifier())"
   ]
  },
  {
   "cell_type": "code",
   "execution_count": 72,
   "id": "205748d6",
   "metadata": {
    "scrolled": true
   },
   "outputs": [
    {
     "name": "stdout",
     "output_type": "stream",
     "text": [
      "Training Score:1.0\n",
      "Testing Score:0.925\n",
      "Classification Report:\n",
      "              precision    recall  f1-score   support\n",
      "\n",
      "         ckd       0.93      0.95      0.94        75\n",
      "      notckd       0.91      0.89      0.90        45\n",
      "\n",
      "    accuracy                           0.93       120\n",
      "   macro avg       0.92      0.92      0.92       120\n",
      "weighted avg       0.92      0.93      0.92       120\n",
      "\n",
      "[[71  4]\n",
      " [ 5 40]]\n"
     ]
    }
   ],
   "source": [
    "dt = mymodel(DecisionTreeClassifier())"
   ]
  },
  {
   "cell_type": "code",
   "execution_count": 73,
   "id": "e3f96e10",
   "metadata": {},
   "outputs": [
    {
     "name": "stdout",
     "output_type": "stream",
     "text": [
      "Training Score:1.0\n",
      "Testing Score:0.9833333333333333\n",
      "Classification Report:\n",
      "              precision    recall  f1-score   support\n",
      "\n",
      "         ckd       0.97      1.00      0.99        75\n",
      "      notckd       1.00      0.96      0.98        45\n",
      "\n",
      "    accuracy                           0.98       120\n",
      "   macro avg       0.99      0.98      0.98       120\n",
      "weighted avg       0.98      0.98      0.98       120\n",
      "\n",
      "[[75  0]\n",
      " [ 2 43]]\n"
     ]
    }
   ],
   "source": [
    "rf = mymodel(RandomForestClassifier())"
   ]
  },
  {
   "cell_type": "markdown",
   "id": "f6fdfc43",
   "metadata": {},
   "source": [
    "# HYPERPARAMATER TUNNING"
   ]
  },
  {
   "cell_type": "code",
   "execution_count": 74,
   "id": "8c6067a0",
   "metadata": {},
   "outputs": [],
   "source": [
    "parameters = {\n",
    "    \"criterion\" : [\"gini\",\"entropy\"],\n",
    "    \"max_depth\" : list(range(1,10)),\n",
    "    \"min_samples_leaf\" : list(range(1,10))\n",
    "}"
   ]
  },
  {
   "cell_type": "code",
   "execution_count": 75,
   "id": "32ba1c95",
   "metadata": {},
   "outputs": [],
   "source": [
    "from sklearn.model_selection import GridSearchCV"
   ]
  },
  {
   "cell_type": "code",
   "execution_count": 76,
   "id": "63b3514e",
   "metadata": {},
   "outputs": [],
   "source": [
    "grid = GridSearchCV(RandomForestClassifier(),parameters,verbose=2,cv=5,scoring=\"accuracy\")"
   ]
  },
  {
   "cell_type": "code",
   "execution_count": 77,
   "id": "255f5096",
   "metadata": {},
   "outputs": [
    {
     "name": "stdout",
     "output_type": "stream",
     "text": [
      "Fitting 5 folds for each of 162 candidates, totalling 810 fits\n",
      "[CV] END ....criterion=gini, max_depth=1, min_samples_leaf=1; total time=   0.0s\n",
      "[CV] END ....criterion=gini, max_depth=1, min_samples_leaf=1; total time=   0.1s\n",
      "[CV] END ....criterion=gini, max_depth=1, min_samples_leaf=1; total time=   0.0s\n",
      "[CV] END ....criterion=gini, max_depth=1, min_samples_leaf=1; total time=   0.0s\n",
      "[CV] END ....criterion=gini, max_depth=1, min_samples_leaf=1; total time=   0.1s\n",
      "[CV] END ....criterion=gini, max_depth=1, min_samples_leaf=2; total time=   0.1s\n",
      "[CV] END ....criterion=gini, max_depth=1, min_samples_leaf=2; total time=   0.0s\n",
      "[CV] END ....criterion=gini, max_depth=1, min_samples_leaf=2; total time=   0.0s\n",
      "[CV] END ....criterion=gini, max_depth=1, min_samples_leaf=2; total time=   0.0s\n",
      "[CV] END ....criterion=gini, max_depth=1, min_samples_leaf=2; total time=   0.0s\n",
      "[CV] END ....criterion=gini, max_depth=1, min_samples_leaf=3; total time=   0.0s\n",
      "[CV] END ....criterion=gini, max_depth=1, min_samples_leaf=3; total time=   0.0s\n",
      "[CV] END ....criterion=gini, max_depth=1, min_samples_leaf=3; total time=   0.1s\n",
      "[CV] END ....criterion=gini, max_depth=1, min_samples_leaf=3; total time=   0.0s\n",
      "[CV] END ....criterion=gini, max_depth=1, min_samples_leaf=3; total time=   0.0s\n",
      "[CV] END ....criterion=gini, max_depth=1, min_samples_leaf=4; total time=   0.0s\n",
      "[CV] END ....criterion=gini, max_depth=1, min_samples_leaf=4; total time=   0.1s\n",
      "[CV] END ....criterion=gini, max_depth=1, min_samples_leaf=4; total time=   0.0s\n",
      "[CV] END ....criterion=gini, max_depth=1, min_samples_leaf=4; total time=   0.0s\n",
      "[CV] END ....criterion=gini, max_depth=1, min_samples_leaf=4; total time=   0.0s\n",
      "[CV] END ....criterion=gini, max_depth=1, min_samples_leaf=5; total time=   0.0s\n",
      "[CV] END ....criterion=gini, max_depth=1, min_samples_leaf=5; total time=   0.0s\n",
      "[CV] END ....criterion=gini, max_depth=1, min_samples_leaf=5; total time=   0.0s\n",
      "[CV] END ....criterion=gini, max_depth=1, min_samples_leaf=5; total time=   0.0s\n",
      "[CV] END ....criterion=gini, max_depth=1, min_samples_leaf=5; total time=   0.0s\n",
      "[CV] END ....criterion=gini, max_depth=1, min_samples_leaf=6; total time=   0.0s\n",
      "[CV] END ....criterion=gini, max_depth=1, min_samples_leaf=6; total time=   0.0s\n",
      "[CV] END ....criterion=gini, max_depth=1, min_samples_leaf=6; total time=   0.0s\n",
      "[CV] END ....criterion=gini, max_depth=1, min_samples_leaf=6; total time=   0.0s\n",
      "[CV] END ....criterion=gini, max_depth=1, min_samples_leaf=6; total time=   0.0s\n",
      "[CV] END ....criterion=gini, max_depth=1, min_samples_leaf=7; total time=   0.1s\n",
      "[CV] END ....criterion=gini, max_depth=1, min_samples_leaf=7; total time=   0.0s\n",
      "[CV] END ....criterion=gini, max_depth=1, min_samples_leaf=7; total time=   0.0s\n",
      "[CV] END ....criterion=gini, max_depth=1, min_samples_leaf=7; total time=   0.0s\n",
      "[CV] END ....criterion=gini, max_depth=1, min_samples_leaf=7; total time=   0.0s\n",
      "[CV] END ....criterion=gini, max_depth=1, min_samples_leaf=8; total time=   0.0s\n",
      "[CV] END ....criterion=gini, max_depth=1, min_samples_leaf=8; total time=   0.0s\n",
      "[CV] END ....criterion=gini, max_depth=1, min_samples_leaf=8; total time=   0.0s\n",
      "[CV] END ....criterion=gini, max_depth=1, min_samples_leaf=8; total time=   0.0s\n",
      "[CV] END ....criterion=gini, max_depth=1, min_samples_leaf=8; total time=   0.0s\n",
      "[CV] END ....criterion=gini, max_depth=1, min_samples_leaf=9; total time=   0.1s\n",
      "[CV] END ....criterion=gini, max_depth=1, min_samples_leaf=9; total time=   0.0s\n",
      "[CV] END ....criterion=gini, max_depth=1, min_samples_leaf=9; total time=   0.0s\n",
      "[CV] END ....criterion=gini, max_depth=1, min_samples_leaf=9; total time=   0.1s\n",
      "[CV] END ....criterion=gini, max_depth=1, min_samples_leaf=9; total time=   0.0s\n",
      "[CV] END ....criterion=gini, max_depth=2, min_samples_leaf=1; total time=   0.0s\n",
      "[CV] END ....criterion=gini, max_depth=2, min_samples_leaf=1; total time=   0.0s\n",
      "[CV] END ....criterion=gini, max_depth=2, min_samples_leaf=1; total time=   0.0s\n",
      "[CV] END ....criterion=gini, max_depth=2, min_samples_leaf=1; total time=   0.0s\n",
      "[CV] END ....criterion=gini, max_depth=2, min_samples_leaf=1; total time=   0.0s\n",
      "[CV] END ....criterion=gini, max_depth=2, min_samples_leaf=2; total time=   0.1s\n",
      "[CV] END ....criterion=gini, max_depth=2, min_samples_leaf=2; total time=   0.0s\n",
      "[CV] END ....criterion=gini, max_depth=2, min_samples_leaf=2; total time=   0.0s\n",
      "[CV] END ....criterion=gini, max_depth=2, min_samples_leaf=2; total time=   0.0s\n",
      "[CV] END ....criterion=gini, max_depth=2, min_samples_leaf=2; total time=   0.0s\n",
      "[CV] END ....criterion=gini, max_depth=2, min_samples_leaf=3; total time=   0.0s\n",
      "[CV] END ....criterion=gini, max_depth=2, min_samples_leaf=3; total time=   0.0s\n",
      "[CV] END ....criterion=gini, max_depth=2, min_samples_leaf=3; total time=   0.0s\n",
      "[CV] END ....criterion=gini, max_depth=2, min_samples_leaf=3; total time=   0.0s\n",
      "[CV] END ....criterion=gini, max_depth=2, min_samples_leaf=3; total time=   0.1s\n",
      "[CV] END ....criterion=gini, max_depth=2, min_samples_leaf=4; total time=   0.0s\n",
      "[CV] END ....criterion=gini, max_depth=2, min_samples_leaf=4; total time=   0.0s\n",
      "[CV] END ....criterion=gini, max_depth=2, min_samples_leaf=4; total time=   0.0s\n",
      "[CV] END ....criterion=gini, max_depth=2, min_samples_leaf=4; total time=   0.1s\n",
      "[CV] END ....criterion=gini, max_depth=2, min_samples_leaf=4; total time=   0.0s\n",
      "[CV] END ....criterion=gini, max_depth=2, min_samples_leaf=5; total time=   0.0s\n",
      "[CV] END ....criterion=gini, max_depth=2, min_samples_leaf=5; total time=   0.0s\n",
      "[CV] END ....criterion=gini, max_depth=2, min_samples_leaf=5; total time=   0.0s\n",
      "[CV] END ....criterion=gini, max_depth=2, min_samples_leaf=5; total time=   0.0s\n",
      "[CV] END ....criterion=gini, max_depth=2, min_samples_leaf=5; total time=   0.1s\n",
      "[CV] END ....criterion=gini, max_depth=2, min_samples_leaf=6; total time=   0.1s\n",
      "[CV] END ....criterion=gini, max_depth=2, min_samples_leaf=6; total time=   0.0s\n",
      "[CV] END ....criterion=gini, max_depth=2, min_samples_leaf=6; total time=   0.0s\n",
      "[CV] END ....criterion=gini, max_depth=2, min_samples_leaf=6; total time=   0.0s\n",
      "[CV] END ....criterion=gini, max_depth=2, min_samples_leaf=6; total time=   0.0s\n",
      "[CV] END ....criterion=gini, max_depth=2, min_samples_leaf=7; total time=   0.0s\n",
      "[CV] END ....criterion=gini, max_depth=2, min_samples_leaf=7; total time=   0.0s\n",
      "[CV] END ....criterion=gini, max_depth=2, min_samples_leaf=7; total time=   0.0s\n",
      "[CV] END ....criterion=gini, max_depth=2, min_samples_leaf=7; total time=   0.1s\n",
      "[CV] END ....criterion=gini, max_depth=2, min_samples_leaf=7; total time=   0.0s\n",
      "[CV] END ....criterion=gini, max_depth=2, min_samples_leaf=8; total time=   0.1s\n",
      "[CV] END ....criterion=gini, max_depth=2, min_samples_leaf=8; total time=   0.0s\n",
      "[CV] END ....criterion=gini, max_depth=2, min_samples_leaf=8; total time=   0.0s\n",
      "[CV] END ....criterion=gini, max_depth=2, min_samples_leaf=8; total time=   0.0s\n",
      "[CV] END ....criterion=gini, max_depth=2, min_samples_leaf=8; total time=   0.0s\n",
      "[CV] END ....criterion=gini, max_depth=2, min_samples_leaf=9; total time=   0.0s\n",
      "[CV] END ....criterion=gini, max_depth=2, min_samples_leaf=9; total time=   0.0s\n",
      "[CV] END ....criterion=gini, max_depth=2, min_samples_leaf=9; total time=   0.0s\n",
      "[CV] END ....criterion=gini, max_depth=2, min_samples_leaf=9; total time=   0.0s\n",
      "[CV] END ....criterion=gini, max_depth=2, min_samples_leaf=9; total time=   0.0s\n",
      "[CV] END ....criterion=gini, max_depth=3, min_samples_leaf=1; total time=   0.0s\n",
      "[CV] END ....criterion=gini, max_depth=3, min_samples_leaf=1; total time=   0.0s\n",
      "[CV] END ....criterion=gini, max_depth=3, min_samples_leaf=1; total time=   0.0s\n",
      "[CV] END ....criterion=gini, max_depth=3, min_samples_leaf=1; total time=   0.1s\n",
      "[CV] END ....criterion=gini, max_depth=3, min_samples_leaf=1; total time=   0.1s\n",
      "[CV] END ....criterion=gini, max_depth=3, min_samples_leaf=2; total time=   0.0s\n",
      "[CV] END ....criterion=gini, max_depth=3, min_samples_leaf=2; total time=   0.0s\n",
      "[CV] END ....criterion=gini, max_depth=3, min_samples_leaf=2; total time=   0.0s\n",
      "[CV] END ....criterion=gini, max_depth=3, min_samples_leaf=2; total time=   0.0s\n",
      "[CV] END ....criterion=gini, max_depth=3, min_samples_leaf=2; total time=   0.0s\n",
      "[CV] END ....criterion=gini, max_depth=3, min_samples_leaf=3; total time=   0.0s\n",
      "[CV] END ....criterion=gini, max_depth=3, min_samples_leaf=3; total time=   0.0s\n"
     ]
    },
    {
     "name": "stdout",
     "output_type": "stream",
     "text": [
      "[CV] END ....criterion=gini, max_depth=3, min_samples_leaf=3; total time=   0.0s\n",
      "[CV] END ....criterion=gini, max_depth=3, min_samples_leaf=3; total time=   0.1s\n",
      "[CV] END ....criterion=gini, max_depth=3, min_samples_leaf=3; total time=   0.0s\n",
      "[CV] END ....criterion=gini, max_depth=3, min_samples_leaf=4; total time=   0.0s\n",
      "[CV] END ....criterion=gini, max_depth=3, min_samples_leaf=4; total time=   0.0s\n",
      "[CV] END ....criterion=gini, max_depth=3, min_samples_leaf=4; total time=   0.0s\n",
      "[CV] END ....criterion=gini, max_depth=3, min_samples_leaf=4; total time=   0.1s\n",
      "[CV] END ....criterion=gini, max_depth=3, min_samples_leaf=4; total time=   0.0s\n",
      "[CV] END ....criterion=gini, max_depth=3, min_samples_leaf=5; total time=   0.0s\n",
      "[CV] END ....criterion=gini, max_depth=3, min_samples_leaf=5; total time=   0.0s\n",
      "[CV] END ....criterion=gini, max_depth=3, min_samples_leaf=5; total time=   0.0s\n",
      "[CV] END ....criterion=gini, max_depth=3, min_samples_leaf=5; total time=   0.1s\n",
      "[CV] END ....criterion=gini, max_depth=3, min_samples_leaf=5; total time=   0.0s\n",
      "[CV] END ....criterion=gini, max_depth=3, min_samples_leaf=6; total time=   0.0s\n",
      "[CV] END ....criterion=gini, max_depth=3, min_samples_leaf=6; total time=   0.0s\n",
      "[CV] END ....criterion=gini, max_depth=3, min_samples_leaf=6; total time=   0.0s\n",
      "[CV] END ....criterion=gini, max_depth=3, min_samples_leaf=6; total time=   0.0s\n",
      "[CV] END ....criterion=gini, max_depth=3, min_samples_leaf=6; total time=   0.0s\n",
      "[CV] END ....criterion=gini, max_depth=3, min_samples_leaf=7; total time=   0.0s\n",
      "[CV] END ....criterion=gini, max_depth=3, min_samples_leaf=7; total time=   0.0s\n",
      "[CV] END ....criterion=gini, max_depth=3, min_samples_leaf=7; total time=   0.0s\n",
      "[CV] END ....criterion=gini, max_depth=3, min_samples_leaf=7; total time=   0.0s\n",
      "[CV] END ....criterion=gini, max_depth=3, min_samples_leaf=7; total time=   0.0s\n",
      "[CV] END ....criterion=gini, max_depth=3, min_samples_leaf=8; total time=   0.0s\n",
      "[CV] END ....criterion=gini, max_depth=3, min_samples_leaf=8; total time=   0.0s\n",
      "[CV] END ....criterion=gini, max_depth=3, min_samples_leaf=8; total time=   0.0s\n",
      "[CV] END ....criterion=gini, max_depth=3, min_samples_leaf=8; total time=   0.0s\n",
      "[CV] END ....criterion=gini, max_depth=3, min_samples_leaf=8; total time=   0.1s\n",
      "[CV] END ....criterion=gini, max_depth=3, min_samples_leaf=9; total time=   0.0s\n",
      "[CV] END ....criterion=gini, max_depth=3, min_samples_leaf=9; total time=   0.0s\n",
      "[CV] END ....criterion=gini, max_depth=3, min_samples_leaf=9; total time=   0.0s\n",
      "[CV] END ....criterion=gini, max_depth=3, min_samples_leaf=9; total time=   0.0s\n",
      "[CV] END ....criterion=gini, max_depth=3, min_samples_leaf=9; total time=   0.0s\n",
      "[CV] END ....criterion=gini, max_depth=4, min_samples_leaf=1; total time=   0.0s\n",
      "[CV] END ....criterion=gini, max_depth=4, min_samples_leaf=1; total time=   0.0s\n",
      "[CV] END ....criterion=gini, max_depth=4, min_samples_leaf=1; total time=   0.0s\n",
      "[CV] END ....criterion=gini, max_depth=4, min_samples_leaf=1; total time=   0.0s\n",
      "[CV] END ....criterion=gini, max_depth=4, min_samples_leaf=1; total time=   0.0s\n",
      "[CV] END ....criterion=gini, max_depth=4, min_samples_leaf=2; total time=   0.0s\n",
      "[CV] END ....criterion=gini, max_depth=4, min_samples_leaf=2; total time=   0.1s\n",
      "[CV] END ....criterion=gini, max_depth=4, min_samples_leaf=2; total time=   0.1s\n",
      "[CV] END ....criterion=gini, max_depth=4, min_samples_leaf=2; total time=   0.0s\n",
      "[CV] END ....criterion=gini, max_depth=4, min_samples_leaf=2; total time=   0.0s\n",
      "[CV] END ....criterion=gini, max_depth=4, min_samples_leaf=3; total time=   0.0s\n",
      "[CV] END ....criterion=gini, max_depth=4, min_samples_leaf=3; total time=   0.0s\n",
      "[CV] END ....criterion=gini, max_depth=4, min_samples_leaf=3; total time=   0.0s\n",
      "[CV] END ....criterion=gini, max_depth=4, min_samples_leaf=3; total time=   0.0s\n",
      "[CV] END ....criterion=gini, max_depth=4, min_samples_leaf=3; total time=   0.0s\n",
      "[CV] END ....criterion=gini, max_depth=4, min_samples_leaf=4; total time=   0.0s\n",
      "[CV] END ....criterion=gini, max_depth=4, min_samples_leaf=4; total time=   0.0s\n",
      "[CV] END ....criterion=gini, max_depth=4, min_samples_leaf=4; total time=   0.0s\n",
      "[CV] END ....criterion=gini, max_depth=4, min_samples_leaf=4; total time=   0.0s\n",
      "[CV] END ....criterion=gini, max_depth=4, min_samples_leaf=4; total time=   0.0s\n",
      "[CV] END ....criterion=gini, max_depth=4, min_samples_leaf=5; total time=   0.0s\n",
      "[CV] END ....criterion=gini, max_depth=4, min_samples_leaf=5; total time=   0.1s\n",
      "[CV] END ....criterion=gini, max_depth=4, min_samples_leaf=5; total time=   0.0s\n",
      "[CV] END ....criterion=gini, max_depth=4, min_samples_leaf=5; total time=   0.0s\n",
      "[CV] END ....criterion=gini, max_depth=4, min_samples_leaf=5; total time=   0.0s\n",
      "[CV] END ....criterion=gini, max_depth=4, min_samples_leaf=6; total time=   0.0s\n",
      "[CV] END ....criterion=gini, max_depth=4, min_samples_leaf=6; total time=   0.1s\n",
      "[CV] END ....criterion=gini, max_depth=4, min_samples_leaf=6; total time=   0.0s\n",
      "[CV] END ....criterion=gini, max_depth=4, min_samples_leaf=6; total time=   0.0s\n",
      "[CV] END ....criterion=gini, max_depth=4, min_samples_leaf=6; total time=   0.0s\n",
      "[CV] END ....criterion=gini, max_depth=4, min_samples_leaf=7; total time=   0.0s\n",
      "[CV] END ....criterion=gini, max_depth=4, min_samples_leaf=7; total time=   0.0s\n",
      "[CV] END ....criterion=gini, max_depth=4, min_samples_leaf=7; total time=   0.0s\n",
      "[CV] END ....criterion=gini, max_depth=4, min_samples_leaf=7; total time=   0.1s\n",
      "[CV] END ....criterion=gini, max_depth=4, min_samples_leaf=7; total time=   0.1s\n",
      "[CV] END ....criterion=gini, max_depth=4, min_samples_leaf=8; total time=   0.0s\n",
      "[CV] END ....criterion=gini, max_depth=4, min_samples_leaf=8; total time=   0.0s\n",
      "[CV] END ....criterion=gini, max_depth=4, min_samples_leaf=8; total time=   0.0s\n",
      "[CV] END ....criterion=gini, max_depth=4, min_samples_leaf=8; total time=   0.0s\n",
      "[CV] END ....criterion=gini, max_depth=4, min_samples_leaf=8; total time=   0.0s\n",
      "[CV] END ....criterion=gini, max_depth=4, min_samples_leaf=9; total time=   0.0s\n",
      "[CV] END ....criterion=gini, max_depth=4, min_samples_leaf=9; total time=   0.0s\n",
      "[CV] END ....criterion=gini, max_depth=4, min_samples_leaf=9; total time=   0.0s\n",
      "[CV] END ....criterion=gini, max_depth=4, min_samples_leaf=9; total time=   0.0s\n",
      "[CV] END ....criterion=gini, max_depth=4, min_samples_leaf=9; total time=   0.0s\n",
      "[CV] END ....criterion=gini, max_depth=5, min_samples_leaf=1; total time=   0.0s\n",
      "[CV] END ....criterion=gini, max_depth=5, min_samples_leaf=1; total time=   0.1s\n",
      "[CV] END ....criterion=gini, max_depth=5, min_samples_leaf=1; total time=   0.0s\n",
      "[CV] END ....criterion=gini, max_depth=5, min_samples_leaf=1; total time=   0.0s\n",
      "[CV] END ....criterion=gini, max_depth=5, min_samples_leaf=1; total time=   0.0s\n",
      "[CV] END ....criterion=gini, max_depth=5, min_samples_leaf=2; total time=   0.1s\n",
      "[CV] END ....criterion=gini, max_depth=5, min_samples_leaf=2; total time=   0.0s\n",
      "[CV] END ....criterion=gini, max_depth=5, min_samples_leaf=2; total time=   0.0s\n",
      "[CV] END ....criterion=gini, max_depth=5, min_samples_leaf=2; total time=   0.0s\n",
      "[CV] END ....criterion=gini, max_depth=5, min_samples_leaf=2; total time=   0.0s\n",
      "[CV] END ....criterion=gini, max_depth=5, min_samples_leaf=3; total time=   0.0s\n",
      "[CV] END ....criterion=gini, max_depth=5, min_samples_leaf=3; total time=   0.0s\n",
      "[CV] END ....criterion=gini, max_depth=5, min_samples_leaf=3; total time=   0.0s\n",
      "[CV] END ....criterion=gini, max_depth=5, min_samples_leaf=3; total time=   0.0s\n",
      "[CV] END ....criterion=gini, max_depth=5, min_samples_leaf=3; total time=   0.0s\n",
      "[CV] END ....criterion=gini, max_depth=5, min_samples_leaf=4; total time=   0.1s\n",
      "[CV] END ....criterion=gini, max_depth=5, min_samples_leaf=4; total time=   0.0s\n",
      "[CV] END ....criterion=gini, max_depth=5, min_samples_leaf=4; total time=   0.1s\n",
      "[CV] END ....criterion=gini, max_depth=5, min_samples_leaf=4; total time=   0.0s\n",
      "[CV] END ....criterion=gini, max_depth=5, min_samples_leaf=4; total time=   0.0s\n",
      "[CV] END ....criterion=gini, max_depth=5, min_samples_leaf=5; total time=   0.0s\n",
      "[CV] END ....criterion=gini, max_depth=5, min_samples_leaf=5; total time=   0.0s\n",
      "[CV] END ....criterion=gini, max_depth=5, min_samples_leaf=5; total time=   0.0s\n",
      "[CV] END ....criterion=gini, max_depth=5, min_samples_leaf=5; total time=   0.0s\n",
      "[CV] END ....criterion=gini, max_depth=5, min_samples_leaf=5; total time=   0.0s\n"
     ]
    },
    {
     "name": "stdout",
     "output_type": "stream",
     "text": [
      "[CV] END ....criterion=gini, max_depth=5, min_samples_leaf=6; total time=   0.0s\n",
      "[CV] END ....criterion=gini, max_depth=5, min_samples_leaf=6; total time=   0.0s\n",
      "[CV] END ....criterion=gini, max_depth=5, min_samples_leaf=6; total time=   0.0s\n",
      "[CV] END ....criterion=gini, max_depth=5, min_samples_leaf=6; total time=   0.1s\n",
      "[CV] END ....criterion=gini, max_depth=5, min_samples_leaf=6; total time=   0.1s\n",
      "[CV] END ....criterion=gini, max_depth=5, min_samples_leaf=7; total time=   0.0s\n",
      "[CV] END ....criterion=gini, max_depth=5, min_samples_leaf=7; total time=   0.0s\n",
      "[CV] END ....criterion=gini, max_depth=5, min_samples_leaf=7; total time=   0.0s\n",
      "[CV] END ....criterion=gini, max_depth=5, min_samples_leaf=7; total time=   0.1s\n",
      "[CV] END ....criterion=gini, max_depth=5, min_samples_leaf=7; total time=   0.1s\n",
      "[CV] END ....criterion=gini, max_depth=5, min_samples_leaf=8; total time=   0.0s\n",
      "[CV] END ....criterion=gini, max_depth=5, min_samples_leaf=8; total time=   0.0s\n",
      "[CV] END ....criterion=gini, max_depth=5, min_samples_leaf=8; total time=   0.0s\n",
      "[CV] END ....criterion=gini, max_depth=5, min_samples_leaf=8; total time=   0.0s\n",
      "[CV] END ....criterion=gini, max_depth=5, min_samples_leaf=8; total time=   0.0s\n",
      "[CV] END ....criterion=gini, max_depth=5, min_samples_leaf=9; total time=   0.1s\n",
      "[CV] END ....criterion=gini, max_depth=5, min_samples_leaf=9; total time=   0.0s\n",
      "[CV] END ....criterion=gini, max_depth=5, min_samples_leaf=9; total time=   0.1s\n",
      "[CV] END ....criterion=gini, max_depth=5, min_samples_leaf=9; total time=   0.0s\n",
      "[CV] END ....criterion=gini, max_depth=5, min_samples_leaf=9; total time=   0.0s\n",
      "[CV] END ....criterion=gini, max_depth=6, min_samples_leaf=1; total time=   0.0s\n",
      "[CV] END ....criterion=gini, max_depth=6, min_samples_leaf=1; total time=   0.0s\n",
      "[CV] END ....criterion=gini, max_depth=6, min_samples_leaf=1; total time=   0.0s\n",
      "[CV] END ....criterion=gini, max_depth=6, min_samples_leaf=1; total time=   0.0s\n",
      "[CV] END ....criterion=gini, max_depth=6, min_samples_leaf=1; total time=   0.0s\n",
      "[CV] END ....criterion=gini, max_depth=6, min_samples_leaf=2; total time=   0.0s\n",
      "[CV] END ....criterion=gini, max_depth=6, min_samples_leaf=2; total time=   0.0s\n",
      "[CV] END ....criterion=gini, max_depth=6, min_samples_leaf=2; total time=   0.1s\n",
      "[CV] END ....criterion=gini, max_depth=6, min_samples_leaf=2; total time=   0.0s\n",
      "[CV] END ....criterion=gini, max_depth=6, min_samples_leaf=2; total time=   0.0s\n",
      "[CV] END ....criterion=gini, max_depth=6, min_samples_leaf=3; total time=   0.0s\n",
      "[CV] END ....criterion=gini, max_depth=6, min_samples_leaf=3; total time=   0.0s\n",
      "[CV] END ....criterion=gini, max_depth=6, min_samples_leaf=3; total time=   0.0s\n",
      "[CV] END ....criterion=gini, max_depth=6, min_samples_leaf=3; total time=   0.0s\n",
      "[CV] END ....criterion=gini, max_depth=6, min_samples_leaf=3; total time=   0.0s\n",
      "[CV] END ....criterion=gini, max_depth=6, min_samples_leaf=4; total time=   0.1s\n",
      "[CV] END ....criterion=gini, max_depth=6, min_samples_leaf=4; total time=   0.0s\n",
      "[CV] END ....criterion=gini, max_depth=6, min_samples_leaf=4; total time=   0.1s\n",
      "[CV] END ....criterion=gini, max_depth=6, min_samples_leaf=4; total time=   0.1s\n",
      "[CV] END ....criterion=gini, max_depth=6, min_samples_leaf=4; total time=   0.0s\n",
      "[CV] END ....criterion=gini, max_depth=6, min_samples_leaf=5; total time=   0.0s\n",
      "[CV] END ....criterion=gini, max_depth=6, min_samples_leaf=5; total time=   0.0s\n",
      "[CV] END ....criterion=gini, max_depth=6, min_samples_leaf=5; total time=   0.1s\n",
      "[CV] END ....criterion=gini, max_depth=6, min_samples_leaf=5; total time=   0.0s\n",
      "[CV] END ....criterion=gini, max_depth=6, min_samples_leaf=5; total time=   0.0s\n",
      "[CV] END ....criterion=gini, max_depth=6, min_samples_leaf=6; total time=   0.1s\n",
      "[CV] END ....criterion=gini, max_depth=6, min_samples_leaf=6; total time=   0.0s\n",
      "[CV] END ....criterion=gini, max_depth=6, min_samples_leaf=6; total time=   0.0s\n",
      "[CV] END ....criterion=gini, max_depth=6, min_samples_leaf=6; total time=   0.0s\n",
      "[CV] END ....criterion=gini, max_depth=6, min_samples_leaf=6; total time=   0.0s\n",
      "[CV] END ....criterion=gini, max_depth=6, min_samples_leaf=7; total time=   0.0s\n",
      "[CV] END ....criterion=gini, max_depth=6, min_samples_leaf=7; total time=   0.1s\n",
      "[CV] END ....criterion=gini, max_depth=6, min_samples_leaf=7; total time=   0.0s\n",
      "[CV] END ....criterion=gini, max_depth=6, min_samples_leaf=7; total time=   0.0s\n",
      "[CV] END ....criterion=gini, max_depth=6, min_samples_leaf=7; total time=   0.0s\n",
      "[CV] END ....criterion=gini, max_depth=6, min_samples_leaf=8; total time=   0.0s\n",
      "[CV] END ....criterion=gini, max_depth=6, min_samples_leaf=8; total time=   0.0s\n",
      "[CV] END ....criterion=gini, max_depth=6, min_samples_leaf=8; total time=   0.0s\n",
      "[CV] END ....criterion=gini, max_depth=6, min_samples_leaf=8; total time=   0.0s\n",
      "[CV] END ....criterion=gini, max_depth=6, min_samples_leaf=8; total time=   0.0s\n",
      "[CV] END ....criterion=gini, max_depth=6, min_samples_leaf=9; total time=   0.0s\n",
      "[CV] END ....criterion=gini, max_depth=6, min_samples_leaf=9; total time=   0.0s\n",
      "[CV] END ....criterion=gini, max_depth=6, min_samples_leaf=9; total time=   0.0s\n",
      "[CV] END ....criterion=gini, max_depth=6, min_samples_leaf=9; total time=   0.0s\n",
      "[CV] END ....criterion=gini, max_depth=6, min_samples_leaf=9; total time=   0.1s\n",
      "[CV] END ....criterion=gini, max_depth=7, min_samples_leaf=1; total time=   0.0s\n",
      "[CV] END ....criterion=gini, max_depth=7, min_samples_leaf=1; total time=   0.1s\n",
      "[CV] END ....criterion=gini, max_depth=7, min_samples_leaf=1; total time=   0.0s\n",
      "[CV] END ....criterion=gini, max_depth=7, min_samples_leaf=1; total time=   0.0s\n",
      "[CV] END ....criterion=gini, max_depth=7, min_samples_leaf=1; total time=   0.0s\n",
      "[CV] END ....criterion=gini, max_depth=7, min_samples_leaf=2; total time=   0.0s\n",
      "[CV] END ....criterion=gini, max_depth=7, min_samples_leaf=2; total time=   0.1s\n",
      "[CV] END ....criterion=gini, max_depth=7, min_samples_leaf=2; total time=   0.0s\n",
      "[CV] END ....criterion=gini, max_depth=7, min_samples_leaf=2; total time=   0.0s\n",
      "[CV] END ....criterion=gini, max_depth=7, min_samples_leaf=2; total time=   0.1s\n",
      "[CV] END ....criterion=gini, max_depth=7, min_samples_leaf=3; total time=   0.0s\n",
      "[CV] END ....criterion=gini, max_depth=7, min_samples_leaf=3; total time=   0.0s\n",
      "[CV] END ....criterion=gini, max_depth=7, min_samples_leaf=3; total time=   0.0s\n",
      "[CV] END ....criterion=gini, max_depth=7, min_samples_leaf=3; total time=   0.0s\n",
      "[CV] END ....criterion=gini, max_depth=7, min_samples_leaf=3; total time=   0.0s\n",
      "[CV] END ....criterion=gini, max_depth=7, min_samples_leaf=4; total time=   0.1s\n",
      "[CV] END ....criterion=gini, max_depth=7, min_samples_leaf=4; total time=   0.0s\n",
      "[CV] END ....criterion=gini, max_depth=7, min_samples_leaf=4; total time=   0.0s\n",
      "[CV] END ....criterion=gini, max_depth=7, min_samples_leaf=4; total time=   0.0s\n",
      "[CV] END ....criterion=gini, max_depth=7, min_samples_leaf=4; total time=   0.0s\n",
      "[CV] END ....criterion=gini, max_depth=7, min_samples_leaf=5; total time=   0.1s\n",
      "[CV] END ....criterion=gini, max_depth=7, min_samples_leaf=5; total time=   0.1s\n",
      "[CV] END ....criterion=gini, max_depth=7, min_samples_leaf=5; total time=   0.0s\n",
      "[CV] END ....criterion=gini, max_depth=7, min_samples_leaf=5; total time=   0.0s\n",
      "[CV] END ....criterion=gini, max_depth=7, min_samples_leaf=5; total time=   0.0s\n",
      "[CV] END ....criterion=gini, max_depth=7, min_samples_leaf=6; total time=   0.0s\n",
      "[CV] END ....criterion=gini, max_depth=7, min_samples_leaf=6; total time=   0.0s\n",
      "[CV] END ....criterion=gini, max_depth=7, min_samples_leaf=6; total time=   0.0s\n",
      "[CV] END ....criterion=gini, max_depth=7, min_samples_leaf=6; total time=   0.0s\n",
      "[CV] END ....criterion=gini, max_depth=7, min_samples_leaf=6; total time=   0.1s\n",
      "[CV] END ....criterion=gini, max_depth=7, min_samples_leaf=7; total time=   0.0s\n",
      "[CV] END ....criterion=gini, max_depth=7, min_samples_leaf=7; total time=   0.0s\n",
      "[CV] END ....criterion=gini, max_depth=7, min_samples_leaf=7; total time=   0.1s\n",
      "[CV] END ....criterion=gini, max_depth=7, min_samples_leaf=7; total time=   0.0s\n",
      "[CV] END ....criterion=gini, max_depth=7, min_samples_leaf=7; total time=   0.0s\n",
      "[CV] END ....criterion=gini, max_depth=7, min_samples_leaf=8; total time=   0.0s\n",
      "[CV] END ....criterion=gini, max_depth=7, min_samples_leaf=8; total time=   0.0s\n"
     ]
    },
    {
     "name": "stdout",
     "output_type": "stream",
     "text": [
      "[CV] END ....criterion=gini, max_depth=7, min_samples_leaf=8; total time=   0.0s\n",
      "[CV] END ....criterion=gini, max_depth=7, min_samples_leaf=8; total time=   0.0s\n",
      "[CV] END ....criterion=gini, max_depth=7, min_samples_leaf=8; total time=   0.0s\n",
      "[CV] END ....criterion=gini, max_depth=7, min_samples_leaf=9; total time=   0.0s\n",
      "[CV] END ....criterion=gini, max_depth=7, min_samples_leaf=9; total time=   0.1s\n",
      "[CV] END ....criterion=gini, max_depth=7, min_samples_leaf=9; total time=   0.0s\n",
      "[CV] END ....criterion=gini, max_depth=7, min_samples_leaf=9; total time=   0.0s\n",
      "[CV] END ....criterion=gini, max_depth=7, min_samples_leaf=9; total time=   0.1s\n",
      "[CV] END ....criterion=gini, max_depth=8, min_samples_leaf=1; total time=   0.0s\n",
      "[CV] END ....criterion=gini, max_depth=8, min_samples_leaf=1; total time=   0.0s\n",
      "[CV] END ....criterion=gini, max_depth=8, min_samples_leaf=1; total time=   0.0s\n",
      "[CV] END ....criterion=gini, max_depth=8, min_samples_leaf=1; total time=   0.0s\n",
      "[CV] END ....criterion=gini, max_depth=8, min_samples_leaf=1; total time=   0.0s\n",
      "[CV] END ....criterion=gini, max_depth=8, min_samples_leaf=2; total time=   0.0s\n",
      "[CV] END ....criterion=gini, max_depth=8, min_samples_leaf=2; total time=   0.0s\n",
      "[CV] END ....criterion=gini, max_depth=8, min_samples_leaf=2; total time=   0.0s\n",
      "[CV] END ....criterion=gini, max_depth=8, min_samples_leaf=2; total time=   0.0s\n",
      "[CV] END ....criterion=gini, max_depth=8, min_samples_leaf=2; total time=   0.0s\n",
      "[CV] END ....criterion=gini, max_depth=8, min_samples_leaf=3; total time=   0.1s\n",
      "[CV] END ....criterion=gini, max_depth=8, min_samples_leaf=3; total time=   0.0s\n",
      "[CV] END ....criterion=gini, max_depth=8, min_samples_leaf=3; total time=   0.0s\n",
      "[CV] END ....criterion=gini, max_depth=8, min_samples_leaf=3; total time=   0.0s\n",
      "[CV] END ....criterion=gini, max_depth=8, min_samples_leaf=3; total time=   0.1s\n",
      "[CV] END ....criterion=gini, max_depth=8, min_samples_leaf=4; total time=   0.1s\n",
      "[CV] END ....criterion=gini, max_depth=8, min_samples_leaf=4; total time=   0.1s\n",
      "[CV] END ....criterion=gini, max_depth=8, min_samples_leaf=4; total time=   0.0s\n",
      "[CV] END ....criterion=gini, max_depth=8, min_samples_leaf=4; total time=   0.1s\n",
      "[CV] END ....criterion=gini, max_depth=8, min_samples_leaf=4; total time=   0.0s\n",
      "[CV] END ....criterion=gini, max_depth=8, min_samples_leaf=5; total time=   0.1s\n",
      "[CV] END ....criterion=gini, max_depth=8, min_samples_leaf=5; total time=   0.0s\n",
      "[CV] END ....criterion=gini, max_depth=8, min_samples_leaf=5; total time=   0.0s\n",
      "[CV] END ....criterion=gini, max_depth=8, min_samples_leaf=5; total time=   0.1s\n",
      "[CV] END ....criterion=gini, max_depth=8, min_samples_leaf=5; total time=   0.1s\n",
      "[CV] END ....criterion=gini, max_depth=8, min_samples_leaf=6; total time=   0.0s\n",
      "[CV] END ....criterion=gini, max_depth=8, min_samples_leaf=6; total time=   0.0s\n",
      "[CV] END ....criterion=gini, max_depth=8, min_samples_leaf=6; total time=   0.0s\n",
      "[CV] END ....criterion=gini, max_depth=8, min_samples_leaf=6; total time=   0.1s\n",
      "[CV] END ....criterion=gini, max_depth=8, min_samples_leaf=6; total time=   0.0s\n",
      "[CV] END ....criterion=gini, max_depth=8, min_samples_leaf=7; total time=   0.0s\n",
      "[CV] END ....criterion=gini, max_depth=8, min_samples_leaf=7; total time=   0.0s\n",
      "[CV] END ....criterion=gini, max_depth=8, min_samples_leaf=7; total time=   0.0s\n",
      "[CV] END ....criterion=gini, max_depth=8, min_samples_leaf=7; total time=   0.1s\n",
      "[CV] END ....criterion=gini, max_depth=8, min_samples_leaf=7; total time=   0.0s\n",
      "[CV] END ....criterion=gini, max_depth=8, min_samples_leaf=8; total time=   0.0s\n",
      "[CV] END ....criterion=gini, max_depth=8, min_samples_leaf=8; total time=   0.1s\n",
      "[CV] END ....criterion=gini, max_depth=8, min_samples_leaf=8; total time=   0.0s\n",
      "[CV] END ....criterion=gini, max_depth=8, min_samples_leaf=8; total time=   0.0s\n",
      "[CV] END ....criterion=gini, max_depth=8, min_samples_leaf=8; total time=   0.1s\n",
      "[CV] END ....criterion=gini, max_depth=8, min_samples_leaf=9; total time=   0.1s\n",
      "[CV] END ....criterion=gini, max_depth=8, min_samples_leaf=9; total time=   0.1s\n",
      "[CV] END ....criterion=gini, max_depth=8, min_samples_leaf=9; total time=   0.0s\n",
      "[CV] END ....criterion=gini, max_depth=8, min_samples_leaf=9; total time=   0.0s\n",
      "[CV] END ....criterion=gini, max_depth=8, min_samples_leaf=9; total time=   0.1s\n",
      "[CV] END ....criterion=gini, max_depth=9, min_samples_leaf=1; total time=   0.0s\n",
      "[CV] END ....criterion=gini, max_depth=9, min_samples_leaf=1; total time=   0.1s\n",
      "[CV] END ....criterion=gini, max_depth=9, min_samples_leaf=1; total time=   0.1s\n",
      "[CV] END ....criterion=gini, max_depth=9, min_samples_leaf=1; total time=   0.1s\n",
      "[CV] END ....criterion=gini, max_depth=9, min_samples_leaf=1; total time=   0.0s\n",
      "[CV] END ....criterion=gini, max_depth=9, min_samples_leaf=2; total time=   0.0s\n",
      "[CV] END ....criterion=gini, max_depth=9, min_samples_leaf=2; total time=   0.0s\n",
      "[CV] END ....criterion=gini, max_depth=9, min_samples_leaf=2; total time=   0.1s\n",
      "[CV] END ....criterion=gini, max_depth=9, min_samples_leaf=2; total time=   0.0s\n",
      "[CV] END ....criterion=gini, max_depth=9, min_samples_leaf=2; total time=   0.0s\n",
      "[CV] END ....criterion=gini, max_depth=9, min_samples_leaf=3; total time=   0.0s\n",
      "[CV] END ....criterion=gini, max_depth=9, min_samples_leaf=3; total time=   0.0s\n",
      "[CV] END ....criterion=gini, max_depth=9, min_samples_leaf=3; total time=   0.1s\n",
      "[CV] END ....criterion=gini, max_depth=9, min_samples_leaf=3; total time=   0.1s\n",
      "[CV] END ....criterion=gini, max_depth=9, min_samples_leaf=3; total time=   0.0s\n",
      "[CV] END ....criterion=gini, max_depth=9, min_samples_leaf=4; total time=   0.0s\n",
      "[CV] END ....criterion=gini, max_depth=9, min_samples_leaf=4; total time=   0.0s\n",
      "[CV] END ....criterion=gini, max_depth=9, min_samples_leaf=4; total time=   0.0s\n",
      "[CV] END ....criterion=gini, max_depth=9, min_samples_leaf=4; total time=   0.0s\n",
      "[CV] END ....criterion=gini, max_depth=9, min_samples_leaf=4; total time=   0.1s\n",
      "[CV] END ....criterion=gini, max_depth=9, min_samples_leaf=5; total time=   0.0s\n",
      "[CV] END ....criterion=gini, max_depth=9, min_samples_leaf=5; total time=   0.0s\n",
      "[CV] END ....criterion=gini, max_depth=9, min_samples_leaf=5; total time=   0.0s\n",
      "[CV] END ....criterion=gini, max_depth=9, min_samples_leaf=5; total time=   0.0s\n",
      "[CV] END ....criterion=gini, max_depth=9, min_samples_leaf=5; total time=   0.0s\n",
      "[CV] END ....criterion=gini, max_depth=9, min_samples_leaf=6; total time=   0.0s\n",
      "[CV] END ....criterion=gini, max_depth=9, min_samples_leaf=6; total time=   0.1s\n",
      "[CV] END ....criterion=gini, max_depth=9, min_samples_leaf=6; total time=   0.0s\n",
      "[CV] END ....criterion=gini, max_depth=9, min_samples_leaf=6; total time=   0.0s\n",
      "[CV] END ....criterion=gini, max_depth=9, min_samples_leaf=6; total time=   0.0s\n",
      "[CV] END ....criterion=gini, max_depth=9, min_samples_leaf=7; total time=   0.0s\n",
      "[CV] END ....criterion=gini, max_depth=9, min_samples_leaf=7; total time=   0.0s\n",
      "[CV] END ....criterion=gini, max_depth=9, min_samples_leaf=7; total time=   0.0s\n",
      "[CV] END ....criterion=gini, max_depth=9, min_samples_leaf=7; total time=   0.0s\n",
      "[CV] END ....criterion=gini, max_depth=9, min_samples_leaf=7; total time=   0.0s\n",
      "[CV] END ....criterion=gini, max_depth=9, min_samples_leaf=8; total time=   0.1s\n",
      "[CV] END ....criterion=gini, max_depth=9, min_samples_leaf=8; total time=   0.1s\n",
      "[CV] END ....criterion=gini, max_depth=9, min_samples_leaf=8; total time=   0.1s\n",
      "[CV] END ....criterion=gini, max_depth=9, min_samples_leaf=8; total time=   0.1s\n",
      "[CV] END ....criterion=gini, max_depth=9, min_samples_leaf=8; total time=   0.1s\n",
      "[CV] END ....criterion=gini, max_depth=9, min_samples_leaf=9; total time=   0.0s\n",
      "[CV] END ....criterion=gini, max_depth=9, min_samples_leaf=9; total time=   0.0s\n",
      "[CV] END ....criterion=gini, max_depth=9, min_samples_leaf=9; total time=   0.0s\n",
      "[CV] END ....criterion=gini, max_depth=9, min_samples_leaf=9; total time=   0.0s\n",
      "[CV] END ....criterion=gini, max_depth=9, min_samples_leaf=9; total time=   0.0s\n",
      "[CV] END .criterion=entropy, max_depth=1, min_samples_leaf=1; total time=   0.0s\n",
      "[CV] END .criterion=entropy, max_depth=1, min_samples_leaf=1; total time=   0.0s\n",
      "[CV] END .criterion=entropy, max_depth=1, min_samples_leaf=1; total time=   0.0s\n",
      "[CV] END .criterion=entropy, max_depth=1, min_samples_leaf=1; total time=   0.0s\n",
      "[CV] END .criterion=entropy, max_depth=1, min_samples_leaf=1; total time=   0.0s\n"
     ]
    },
    {
     "name": "stdout",
     "output_type": "stream",
     "text": [
      "[CV] END .criterion=entropy, max_depth=1, min_samples_leaf=2; total time=   0.0s\n",
      "[CV] END .criterion=entropy, max_depth=1, min_samples_leaf=2; total time=   0.0s\n",
      "[CV] END .criterion=entropy, max_depth=1, min_samples_leaf=2; total time=   0.0s\n",
      "[CV] END .criterion=entropy, max_depth=1, min_samples_leaf=2; total time=   0.0s\n",
      "[CV] END .criterion=entropy, max_depth=1, min_samples_leaf=2; total time=   0.0s\n",
      "[CV] END .criterion=entropy, max_depth=1, min_samples_leaf=3; total time=   0.0s\n",
      "[CV] END .criterion=entropy, max_depth=1, min_samples_leaf=3; total time=   0.0s\n",
      "[CV] END .criterion=entropy, max_depth=1, min_samples_leaf=3; total time=   0.0s\n",
      "[CV] END .criterion=entropy, max_depth=1, min_samples_leaf=3; total time=   0.0s\n",
      "[CV] END .criterion=entropy, max_depth=1, min_samples_leaf=3; total time=   0.0s\n",
      "[CV] END .criterion=entropy, max_depth=1, min_samples_leaf=4; total time=   0.0s\n",
      "[CV] END .criterion=entropy, max_depth=1, min_samples_leaf=4; total time=   0.0s\n",
      "[CV] END .criterion=entropy, max_depth=1, min_samples_leaf=4; total time=   0.0s\n",
      "[CV] END .criterion=entropy, max_depth=1, min_samples_leaf=4; total time=   0.0s\n",
      "[CV] END .criterion=entropy, max_depth=1, min_samples_leaf=4; total time=   0.0s\n",
      "[CV] END .criterion=entropy, max_depth=1, min_samples_leaf=5; total time=   0.0s\n",
      "[CV] END .criterion=entropy, max_depth=1, min_samples_leaf=5; total time=   0.1s\n",
      "[CV] END .criterion=entropy, max_depth=1, min_samples_leaf=5; total time=   0.0s\n",
      "[CV] END .criterion=entropy, max_depth=1, min_samples_leaf=5; total time=   0.0s\n",
      "[CV] END .criterion=entropy, max_depth=1, min_samples_leaf=5; total time=   0.0s\n",
      "[CV] END .criterion=entropy, max_depth=1, min_samples_leaf=6; total time=   0.1s\n",
      "[CV] END .criterion=entropy, max_depth=1, min_samples_leaf=6; total time=   0.0s\n",
      "[CV] END .criterion=entropy, max_depth=1, min_samples_leaf=6; total time=   0.0s\n",
      "[CV] END .criterion=entropy, max_depth=1, min_samples_leaf=6; total time=   0.0s\n",
      "[CV] END .criterion=entropy, max_depth=1, min_samples_leaf=6; total time=   0.0s\n",
      "[CV] END .criterion=entropy, max_depth=1, min_samples_leaf=7; total time=   0.0s\n",
      "[CV] END .criterion=entropy, max_depth=1, min_samples_leaf=7; total time=   0.0s\n",
      "[CV] END .criterion=entropy, max_depth=1, min_samples_leaf=7; total time=   0.1s\n",
      "[CV] END .criterion=entropy, max_depth=1, min_samples_leaf=7; total time=   0.0s\n",
      "[CV] END .criterion=entropy, max_depth=1, min_samples_leaf=7; total time=   0.0s\n",
      "[CV] END .criterion=entropy, max_depth=1, min_samples_leaf=8; total time=   0.0s\n",
      "[CV] END .criterion=entropy, max_depth=1, min_samples_leaf=8; total time=   0.1s\n",
      "[CV] END .criterion=entropy, max_depth=1, min_samples_leaf=8; total time=   0.0s\n",
      "[CV] END .criterion=entropy, max_depth=1, min_samples_leaf=8; total time=   0.0s\n",
      "[CV] END .criterion=entropy, max_depth=1, min_samples_leaf=8; total time=   0.0s\n",
      "[CV] END .criterion=entropy, max_depth=1, min_samples_leaf=9; total time=   0.0s\n",
      "[CV] END .criterion=entropy, max_depth=1, min_samples_leaf=9; total time=   0.0s\n",
      "[CV] END .criterion=entropy, max_depth=1, min_samples_leaf=9; total time=   0.0s\n",
      "[CV] END .criterion=entropy, max_depth=1, min_samples_leaf=9; total time=   0.1s\n",
      "[CV] END .criterion=entropy, max_depth=1, min_samples_leaf=9; total time=   0.1s\n",
      "[CV] END .criterion=entropy, max_depth=2, min_samples_leaf=1; total time=   0.1s\n",
      "[CV] END .criterion=entropy, max_depth=2, min_samples_leaf=1; total time=   0.0s\n",
      "[CV] END .criterion=entropy, max_depth=2, min_samples_leaf=1; total time=   0.1s\n",
      "[CV] END .criterion=entropy, max_depth=2, min_samples_leaf=1; total time=   0.1s\n",
      "[CV] END .criterion=entropy, max_depth=2, min_samples_leaf=1; total time=   0.1s\n",
      "[CV] END .criterion=entropy, max_depth=2, min_samples_leaf=2; total time=   0.1s\n",
      "[CV] END .criterion=entropy, max_depth=2, min_samples_leaf=2; total time=   0.0s\n",
      "[CV] END .criterion=entropy, max_depth=2, min_samples_leaf=2; total time=   0.0s\n",
      "[CV] END .criterion=entropy, max_depth=2, min_samples_leaf=2; total time=   0.0s\n",
      "[CV] END .criterion=entropy, max_depth=2, min_samples_leaf=2; total time=   0.0s\n",
      "[CV] END .criterion=entropy, max_depth=2, min_samples_leaf=3; total time=   0.0s\n",
      "[CV] END .criterion=entropy, max_depth=2, min_samples_leaf=3; total time=   0.1s\n",
      "[CV] END .criterion=entropy, max_depth=2, min_samples_leaf=3; total time=   0.0s\n",
      "[CV] END .criterion=entropy, max_depth=2, min_samples_leaf=3; total time=   0.0s\n",
      "[CV] END .criterion=entropy, max_depth=2, min_samples_leaf=3; total time=   0.0s\n",
      "[CV] END .criterion=entropy, max_depth=2, min_samples_leaf=4; total time=   0.0s\n",
      "[CV] END .criterion=entropy, max_depth=2, min_samples_leaf=4; total time=   0.1s\n",
      "[CV] END .criterion=entropy, max_depth=2, min_samples_leaf=4; total time=   0.0s\n",
      "[CV] END .criterion=entropy, max_depth=2, min_samples_leaf=4; total time=   0.0s\n",
      "[CV] END .criterion=entropy, max_depth=2, min_samples_leaf=4; total time=   0.0s\n",
      "[CV] END .criterion=entropy, max_depth=2, min_samples_leaf=5; total time=   0.0s\n",
      "[CV] END .criterion=entropy, max_depth=2, min_samples_leaf=5; total time=   0.1s\n",
      "[CV] END .criterion=entropy, max_depth=2, min_samples_leaf=5; total time=   0.0s\n",
      "[CV] END .criterion=entropy, max_depth=2, min_samples_leaf=5; total time=   0.1s\n",
      "[CV] END .criterion=entropy, max_depth=2, min_samples_leaf=5; total time=   0.1s\n",
      "[CV] END .criterion=entropy, max_depth=2, min_samples_leaf=6; total time=   0.1s\n",
      "[CV] END .criterion=entropy, max_depth=2, min_samples_leaf=6; total time=   0.1s\n",
      "[CV] END .criterion=entropy, max_depth=2, min_samples_leaf=6; total time=   0.0s\n",
      "[CV] END .criterion=entropy, max_depth=2, min_samples_leaf=6; total time=   0.0s\n",
      "[CV] END .criterion=entropy, max_depth=2, min_samples_leaf=6; total time=   0.0s\n",
      "[CV] END .criterion=entropy, max_depth=2, min_samples_leaf=7; total time=   0.0s\n",
      "[CV] END .criterion=entropy, max_depth=2, min_samples_leaf=7; total time=   0.0s\n",
      "[CV] END .criterion=entropy, max_depth=2, min_samples_leaf=7; total time=   0.0s\n",
      "[CV] END .criterion=entropy, max_depth=2, min_samples_leaf=7; total time=   0.0s\n",
      "[CV] END .criterion=entropy, max_depth=2, min_samples_leaf=7; total time=   0.1s\n",
      "[CV] END .criterion=entropy, max_depth=2, min_samples_leaf=8; total time=   0.1s\n",
      "[CV] END .criterion=entropy, max_depth=2, min_samples_leaf=8; total time=   0.1s\n",
      "[CV] END .criterion=entropy, max_depth=2, min_samples_leaf=8; total time=   0.0s\n",
      "[CV] END .criterion=entropy, max_depth=2, min_samples_leaf=8; total time=   0.0s\n",
      "[CV] END .criterion=entropy, max_depth=2, min_samples_leaf=8; total time=   0.1s\n",
      "[CV] END .criterion=entropy, max_depth=2, min_samples_leaf=9; total time=   0.0s\n",
      "[CV] END .criterion=entropy, max_depth=2, min_samples_leaf=9; total time=   0.0s\n",
      "[CV] END .criterion=entropy, max_depth=2, min_samples_leaf=9; total time=   0.0s\n",
      "[CV] END .criterion=entropy, max_depth=2, min_samples_leaf=9; total time=   0.0s\n",
      "[CV] END .criterion=entropy, max_depth=2, min_samples_leaf=9; total time=   0.1s\n",
      "[CV] END .criterion=entropy, max_depth=3, min_samples_leaf=1; total time=   0.1s\n",
      "[CV] END .criterion=entropy, max_depth=3, min_samples_leaf=1; total time=   0.1s\n",
      "[CV] END .criterion=entropy, max_depth=3, min_samples_leaf=1; total time=   0.1s\n",
      "[CV] END .criterion=entropy, max_depth=3, min_samples_leaf=1; total time=   0.0s\n",
      "[CV] END .criterion=entropy, max_depth=3, min_samples_leaf=1; total time=   0.1s\n",
      "[CV] END .criterion=entropy, max_depth=3, min_samples_leaf=2; total time=   0.0s\n",
      "[CV] END .criterion=entropy, max_depth=3, min_samples_leaf=2; total time=   0.0s\n",
      "[CV] END .criterion=entropy, max_depth=3, min_samples_leaf=2; total time=   0.1s\n",
      "[CV] END .criterion=entropy, max_depth=3, min_samples_leaf=2; total time=   0.0s\n",
      "[CV] END .criterion=entropy, max_depth=3, min_samples_leaf=2; total time=   0.1s\n",
      "[CV] END .criterion=entropy, max_depth=3, min_samples_leaf=3; total time=   0.0s\n",
      "[CV] END .criterion=entropy, max_depth=3, min_samples_leaf=3; total time=   0.0s\n",
      "[CV] END .criterion=entropy, max_depth=3, min_samples_leaf=3; total time=   0.1s\n",
      "[CV] END .criterion=entropy, max_depth=3, min_samples_leaf=3; total time=   0.1s\n",
      "[CV] END .criterion=entropy, max_depth=3, min_samples_leaf=3; total time=   0.1s\n",
      "[CV] END .criterion=entropy, max_depth=3, min_samples_leaf=4; total time=   0.0s\n",
      "[CV] END .criterion=entropy, max_depth=3, min_samples_leaf=4; total time=   0.0s\n",
      "[CV] END .criterion=entropy, max_depth=3, min_samples_leaf=4; total time=   0.1s\n"
     ]
    },
    {
     "name": "stdout",
     "output_type": "stream",
     "text": [
      "[CV] END .criterion=entropy, max_depth=3, min_samples_leaf=4; total time=   0.0s\n",
      "[CV] END .criterion=entropy, max_depth=3, min_samples_leaf=4; total time=   0.1s\n",
      "[CV] END .criterion=entropy, max_depth=3, min_samples_leaf=5; total time=   0.1s\n",
      "[CV] END .criterion=entropy, max_depth=3, min_samples_leaf=5; total time=   0.1s\n",
      "[CV] END .criterion=entropy, max_depth=3, min_samples_leaf=5; total time=   0.1s\n",
      "[CV] END .criterion=entropy, max_depth=3, min_samples_leaf=5; total time=   0.0s\n",
      "[CV] END .criterion=entropy, max_depth=3, min_samples_leaf=5; total time=   0.0s\n",
      "[CV] END .criterion=entropy, max_depth=3, min_samples_leaf=6; total time=   0.0s\n",
      "[CV] END .criterion=entropy, max_depth=3, min_samples_leaf=6; total time=   0.1s\n",
      "[CV] END .criterion=entropy, max_depth=3, min_samples_leaf=6; total time=   0.1s\n",
      "[CV] END .criterion=entropy, max_depth=3, min_samples_leaf=6; total time=   0.1s\n",
      "[CV] END .criterion=entropy, max_depth=3, min_samples_leaf=6; total time=   0.1s\n",
      "[CV] END .criterion=entropy, max_depth=3, min_samples_leaf=7; total time=   0.0s\n",
      "[CV] END .criterion=entropy, max_depth=3, min_samples_leaf=7; total time=   0.0s\n",
      "[CV] END .criterion=entropy, max_depth=3, min_samples_leaf=7; total time=   0.0s\n",
      "[CV] END .criterion=entropy, max_depth=3, min_samples_leaf=7; total time=   0.1s\n",
      "[CV] END .criterion=entropy, max_depth=3, min_samples_leaf=7; total time=   0.0s\n",
      "[CV] END .criterion=entropy, max_depth=3, min_samples_leaf=8; total time=   0.0s\n",
      "[CV] END .criterion=entropy, max_depth=3, min_samples_leaf=8; total time=   0.0s\n",
      "[CV] END .criterion=entropy, max_depth=3, min_samples_leaf=8; total time=   0.0s\n",
      "[CV] END .criterion=entropy, max_depth=3, min_samples_leaf=8; total time=   0.0s\n",
      "[CV] END .criterion=entropy, max_depth=3, min_samples_leaf=8; total time=   0.0s\n",
      "[CV] END .criterion=entropy, max_depth=3, min_samples_leaf=9; total time=   0.0s\n",
      "[CV] END .criterion=entropy, max_depth=3, min_samples_leaf=9; total time=   0.0s\n",
      "[CV] END .criterion=entropy, max_depth=3, min_samples_leaf=9; total time=   0.0s\n",
      "[CV] END .criterion=entropy, max_depth=3, min_samples_leaf=9; total time=   0.0s\n",
      "[CV] END .criterion=entropy, max_depth=3, min_samples_leaf=9; total time=   0.0s\n",
      "[CV] END .criterion=entropy, max_depth=4, min_samples_leaf=1; total time=   0.0s\n",
      "[CV] END .criterion=entropy, max_depth=4, min_samples_leaf=1; total time=   0.0s\n",
      "[CV] END .criterion=entropy, max_depth=4, min_samples_leaf=1; total time=   0.0s\n",
      "[CV] END .criterion=entropy, max_depth=4, min_samples_leaf=1; total time=   0.0s\n",
      "[CV] END .criterion=entropy, max_depth=4, min_samples_leaf=1; total time=   0.1s\n",
      "[CV] END .criterion=entropy, max_depth=4, min_samples_leaf=2; total time=   0.1s\n",
      "[CV] END .criterion=entropy, max_depth=4, min_samples_leaf=2; total time=   0.0s\n",
      "[CV] END .criterion=entropy, max_depth=4, min_samples_leaf=2; total time=   0.0s\n",
      "[CV] END .criterion=entropy, max_depth=4, min_samples_leaf=2; total time=   0.0s\n",
      "[CV] END .criterion=entropy, max_depth=4, min_samples_leaf=2; total time=   0.0s\n",
      "[CV] END .criterion=entropy, max_depth=4, min_samples_leaf=3; total time=   0.1s\n",
      "[CV] END .criterion=entropy, max_depth=4, min_samples_leaf=3; total time=   0.0s\n",
      "[CV] END .criterion=entropy, max_depth=4, min_samples_leaf=3; total time=   0.0s\n",
      "[CV] END .criterion=entropy, max_depth=4, min_samples_leaf=3; total time=   0.1s\n",
      "[CV] END .criterion=entropy, max_depth=4, min_samples_leaf=3; total time=   0.0s\n",
      "[CV] END .criterion=entropy, max_depth=4, min_samples_leaf=4; total time=   0.0s\n",
      "[CV] END .criterion=entropy, max_depth=4, min_samples_leaf=4; total time=   0.0s\n",
      "[CV] END .criterion=entropy, max_depth=4, min_samples_leaf=4; total time=   0.1s\n",
      "[CV] END .criterion=entropy, max_depth=4, min_samples_leaf=4; total time=   0.0s\n",
      "[CV] END .criterion=entropy, max_depth=4, min_samples_leaf=4; total time=   0.1s\n",
      "[CV] END .criterion=entropy, max_depth=4, min_samples_leaf=5; total time=   0.1s\n",
      "[CV] END .criterion=entropy, max_depth=4, min_samples_leaf=5; total time=   0.0s\n",
      "[CV] END .criterion=entropy, max_depth=4, min_samples_leaf=5; total time=   0.1s\n",
      "[CV] END .criterion=entropy, max_depth=4, min_samples_leaf=5; total time=   0.0s\n",
      "[CV] END .criterion=entropy, max_depth=4, min_samples_leaf=5; total time=   0.0s\n",
      "[CV] END .criterion=entropy, max_depth=4, min_samples_leaf=6; total time=   0.0s\n",
      "[CV] END .criterion=entropy, max_depth=4, min_samples_leaf=6; total time=   0.1s\n",
      "[CV] END .criterion=entropy, max_depth=4, min_samples_leaf=6; total time=   0.0s\n",
      "[CV] END .criterion=entropy, max_depth=4, min_samples_leaf=6; total time=   0.1s\n",
      "[CV] END .criterion=entropy, max_depth=4, min_samples_leaf=6; total time=   0.0s\n",
      "[CV] END .criterion=entropy, max_depth=4, min_samples_leaf=7; total time=   0.0s\n",
      "[CV] END .criterion=entropy, max_depth=4, min_samples_leaf=7; total time=   0.0s\n",
      "[CV] END .criterion=entropy, max_depth=4, min_samples_leaf=7; total time=   0.0s\n",
      "[CV] END .criterion=entropy, max_depth=4, min_samples_leaf=7; total time=   0.1s\n",
      "[CV] END .criterion=entropy, max_depth=4, min_samples_leaf=7; total time=   0.1s\n",
      "[CV] END .criterion=entropy, max_depth=4, min_samples_leaf=8; total time=   0.0s\n",
      "[CV] END .criterion=entropy, max_depth=4, min_samples_leaf=8; total time=   0.0s\n",
      "[CV] END .criterion=entropy, max_depth=4, min_samples_leaf=8; total time=   0.0s\n",
      "[CV] END .criterion=entropy, max_depth=4, min_samples_leaf=8; total time=   0.0s\n",
      "[CV] END .criterion=entropy, max_depth=4, min_samples_leaf=8; total time=   0.0s\n",
      "[CV] END .criterion=entropy, max_depth=4, min_samples_leaf=9; total time=   0.0s\n",
      "[CV] END .criterion=entropy, max_depth=4, min_samples_leaf=9; total time=   0.0s\n",
      "[CV] END .criterion=entropy, max_depth=4, min_samples_leaf=9; total time=   0.0s\n",
      "[CV] END .criterion=entropy, max_depth=4, min_samples_leaf=9; total time=   0.0s\n",
      "[CV] END .criterion=entropy, max_depth=4, min_samples_leaf=9; total time=   0.0s\n",
      "[CV] END .criterion=entropy, max_depth=5, min_samples_leaf=1; total time=   0.1s\n",
      "[CV] END .criterion=entropy, max_depth=5, min_samples_leaf=1; total time=   0.1s\n",
      "[CV] END .criterion=entropy, max_depth=5, min_samples_leaf=1; total time=   0.0s\n",
      "[CV] END .criterion=entropy, max_depth=5, min_samples_leaf=1; total time=   0.0s\n",
      "[CV] END .criterion=entropy, max_depth=5, min_samples_leaf=1; total time=   0.0s\n",
      "[CV] END .criterion=entropy, max_depth=5, min_samples_leaf=2; total time=   0.0s\n",
      "[CV] END .criterion=entropy, max_depth=5, min_samples_leaf=2; total time=   0.0s\n",
      "[CV] END .criterion=entropy, max_depth=5, min_samples_leaf=2; total time=   0.0s\n",
      "[CV] END .criterion=entropy, max_depth=5, min_samples_leaf=2; total time=   0.0s\n",
      "[CV] END .criterion=entropy, max_depth=5, min_samples_leaf=2; total time=   0.0s\n",
      "[CV] END .criterion=entropy, max_depth=5, min_samples_leaf=3; total time=   0.0s\n",
      "[CV] END .criterion=entropy, max_depth=5, min_samples_leaf=3; total time=   0.0s\n",
      "[CV] END .criterion=entropy, max_depth=5, min_samples_leaf=3; total time=   0.0s\n",
      "[CV] END .criterion=entropy, max_depth=5, min_samples_leaf=3; total time=   0.0s\n",
      "[CV] END .criterion=entropy, max_depth=5, min_samples_leaf=3; total time=   0.0s\n",
      "[CV] END .criterion=entropy, max_depth=5, min_samples_leaf=4; total time=   0.0s\n",
      "[CV] END .criterion=entropy, max_depth=5, min_samples_leaf=4; total time=   0.0s\n",
      "[CV] END .criterion=entropy, max_depth=5, min_samples_leaf=4; total time=   0.0s\n",
      "[CV] END .criterion=entropy, max_depth=5, min_samples_leaf=4; total time=   0.0s\n",
      "[CV] END .criterion=entropy, max_depth=5, min_samples_leaf=4; total time=   0.0s\n",
      "[CV] END .criterion=entropy, max_depth=5, min_samples_leaf=5; total time=   0.0s\n",
      "[CV] END .criterion=entropy, max_depth=5, min_samples_leaf=5; total time=   0.1s\n",
      "[CV] END .criterion=entropy, max_depth=5, min_samples_leaf=5; total time=   0.0s\n",
      "[CV] END .criterion=entropy, max_depth=5, min_samples_leaf=5; total time=   0.0s\n",
      "[CV] END .criterion=entropy, max_depth=5, min_samples_leaf=5; total time=   0.0s\n",
      "[CV] END .criterion=entropy, max_depth=5, min_samples_leaf=6; total time=   0.0s\n",
      "[CV] END .criterion=entropy, max_depth=5, min_samples_leaf=6; total time=   0.0s\n",
      "[CV] END .criterion=entropy, max_depth=5, min_samples_leaf=6; total time=   0.0s\n",
      "[CV] END .criterion=entropy, max_depth=5, min_samples_leaf=6; total time=   0.1s\n",
      "[CV] END .criterion=entropy, max_depth=5, min_samples_leaf=6; total time=   0.0s\n"
     ]
    },
    {
     "name": "stdout",
     "output_type": "stream",
     "text": [
      "[CV] END .criterion=entropy, max_depth=5, min_samples_leaf=7; total time=   0.0s\n",
      "[CV] END .criterion=entropy, max_depth=5, min_samples_leaf=7; total time=   0.0s\n",
      "[CV] END .criterion=entropy, max_depth=5, min_samples_leaf=7; total time=   0.0s\n",
      "[CV] END .criterion=entropy, max_depth=5, min_samples_leaf=7; total time=   0.0s\n",
      "[CV] END .criterion=entropy, max_depth=5, min_samples_leaf=7; total time=   0.0s\n",
      "[CV] END .criterion=entropy, max_depth=5, min_samples_leaf=8; total time=   0.0s\n",
      "[CV] END .criterion=entropy, max_depth=5, min_samples_leaf=8; total time=   0.0s\n",
      "[CV] END .criterion=entropy, max_depth=5, min_samples_leaf=8; total time=   0.0s\n",
      "[CV] END .criterion=entropy, max_depth=5, min_samples_leaf=8; total time=   0.0s\n",
      "[CV] END .criterion=entropy, max_depth=5, min_samples_leaf=8; total time=   0.1s\n",
      "[CV] END .criterion=entropy, max_depth=5, min_samples_leaf=9; total time=   0.0s\n",
      "[CV] END .criterion=entropy, max_depth=5, min_samples_leaf=9; total time=   0.1s\n",
      "[CV] END .criterion=entropy, max_depth=5, min_samples_leaf=9; total time=   0.0s\n",
      "[CV] END .criterion=entropy, max_depth=5, min_samples_leaf=9; total time=   0.0s\n",
      "[CV] END .criterion=entropy, max_depth=5, min_samples_leaf=9; total time=   0.0s\n",
      "[CV] END .criterion=entropy, max_depth=6, min_samples_leaf=1; total time=   0.0s\n",
      "[CV] END .criterion=entropy, max_depth=6, min_samples_leaf=1; total time=   0.0s\n",
      "[CV] END .criterion=entropy, max_depth=6, min_samples_leaf=1; total time=   0.0s\n",
      "[CV] END .criterion=entropy, max_depth=6, min_samples_leaf=1; total time=   0.1s\n",
      "[CV] END .criterion=entropy, max_depth=6, min_samples_leaf=1; total time=   0.0s\n",
      "[CV] END .criterion=entropy, max_depth=6, min_samples_leaf=2; total time=   0.0s\n",
      "[CV] END .criterion=entropy, max_depth=6, min_samples_leaf=2; total time=   0.0s\n",
      "[CV] END .criterion=entropy, max_depth=6, min_samples_leaf=2; total time=   0.1s\n",
      "[CV] END .criterion=entropy, max_depth=6, min_samples_leaf=2; total time=   0.0s\n",
      "[CV] END .criterion=entropy, max_depth=6, min_samples_leaf=2; total time=   0.0s\n",
      "[CV] END .criterion=entropy, max_depth=6, min_samples_leaf=3; total time=   0.0s\n",
      "[CV] END .criterion=entropy, max_depth=6, min_samples_leaf=3; total time=   0.0s\n",
      "[CV] END .criterion=entropy, max_depth=6, min_samples_leaf=3; total time=   0.0s\n",
      "[CV] END .criterion=entropy, max_depth=6, min_samples_leaf=3; total time=   0.0s\n",
      "[CV] END .criterion=entropy, max_depth=6, min_samples_leaf=3; total time=   0.0s\n",
      "[CV] END .criterion=entropy, max_depth=6, min_samples_leaf=4; total time=   0.0s\n",
      "[CV] END .criterion=entropy, max_depth=6, min_samples_leaf=4; total time=   0.0s\n",
      "[CV] END .criterion=entropy, max_depth=6, min_samples_leaf=4; total time=   0.1s\n",
      "[CV] END .criterion=entropy, max_depth=6, min_samples_leaf=4; total time=   0.0s\n",
      "[CV] END .criterion=entropy, max_depth=6, min_samples_leaf=4; total time=   0.0s\n",
      "[CV] END .criterion=entropy, max_depth=6, min_samples_leaf=5; total time=   0.0s\n",
      "[CV] END .criterion=entropy, max_depth=6, min_samples_leaf=5; total time=   0.0s\n",
      "[CV] END .criterion=entropy, max_depth=6, min_samples_leaf=5; total time=   0.0s\n",
      "[CV] END .criterion=entropy, max_depth=6, min_samples_leaf=5; total time=   0.0s\n",
      "[CV] END .criterion=entropy, max_depth=6, min_samples_leaf=5; total time=   0.0s\n",
      "[CV] END .criterion=entropy, max_depth=6, min_samples_leaf=6; total time=   0.0s\n",
      "[CV] END .criterion=entropy, max_depth=6, min_samples_leaf=6; total time=   0.0s\n",
      "[CV] END .criterion=entropy, max_depth=6, min_samples_leaf=6; total time=   0.0s\n",
      "[CV] END .criterion=entropy, max_depth=6, min_samples_leaf=6; total time=   0.0s\n",
      "[CV] END .criterion=entropy, max_depth=6, min_samples_leaf=6; total time=   0.0s\n",
      "[CV] END .criterion=entropy, max_depth=6, min_samples_leaf=7; total time=   0.0s\n",
      "[CV] END .criterion=entropy, max_depth=6, min_samples_leaf=7; total time=   0.0s\n",
      "[CV] END .criterion=entropy, max_depth=6, min_samples_leaf=7; total time=   0.0s\n",
      "[CV] END .criterion=entropy, max_depth=6, min_samples_leaf=7; total time=   0.0s\n",
      "[CV] END .criterion=entropy, max_depth=6, min_samples_leaf=7; total time=   0.0s\n",
      "[CV] END .criterion=entropy, max_depth=6, min_samples_leaf=8; total time=   0.0s\n",
      "[CV] END .criterion=entropy, max_depth=6, min_samples_leaf=8; total time=   0.0s\n",
      "[CV] END .criterion=entropy, max_depth=6, min_samples_leaf=8; total time=   0.0s\n",
      "[CV] END .criterion=entropy, max_depth=6, min_samples_leaf=8; total time=   0.0s\n",
      "[CV] END .criterion=entropy, max_depth=6, min_samples_leaf=8; total time=   0.0s\n",
      "[CV] END .criterion=entropy, max_depth=6, min_samples_leaf=9; total time=   0.0s\n",
      "[CV] END .criterion=entropy, max_depth=6, min_samples_leaf=9; total time=   0.0s\n",
      "[CV] END .criterion=entropy, max_depth=6, min_samples_leaf=9; total time=   0.0s\n",
      "[CV] END .criterion=entropy, max_depth=6, min_samples_leaf=9; total time=   0.0s\n",
      "[CV] END .criterion=entropy, max_depth=6, min_samples_leaf=9; total time=   0.0s\n",
      "[CV] END .criterion=entropy, max_depth=7, min_samples_leaf=1; total time=   0.0s\n",
      "[CV] END .criterion=entropy, max_depth=7, min_samples_leaf=1; total time=   0.0s\n",
      "[CV] END .criterion=entropy, max_depth=7, min_samples_leaf=1; total time=   0.0s\n",
      "[CV] END .criterion=entropy, max_depth=7, min_samples_leaf=1; total time=   0.1s\n",
      "[CV] END .criterion=entropy, max_depth=7, min_samples_leaf=1; total time=   0.0s\n",
      "[CV] END .criterion=entropy, max_depth=7, min_samples_leaf=2; total time=   0.1s\n",
      "[CV] END .criterion=entropy, max_depth=7, min_samples_leaf=2; total time=   0.0s\n",
      "[CV] END .criterion=entropy, max_depth=7, min_samples_leaf=2; total time=   0.0s\n",
      "[CV] END .criterion=entropy, max_depth=7, min_samples_leaf=2; total time=   0.0s\n",
      "[CV] END .criterion=entropy, max_depth=7, min_samples_leaf=2; total time=   0.0s\n",
      "[CV] END .criterion=entropy, max_depth=7, min_samples_leaf=3; total time=   0.0s\n",
      "[CV] END .criterion=entropy, max_depth=7, min_samples_leaf=3; total time=   0.0s\n",
      "[CV] END .criterion=entropy, max_depth=7, min_samples_leaf=3; total time=   0.0s\n",
      "[CV] END .criterion=entropy, max_depth=7, min_samples_leaf=3; total time=   0.0s\n",
      "[CV] END .criterion=entropy, max_depth=7, min_samples_leaf=3; total time=   0.1s\n",
      "[CV] END .criterion=entropy, max_depth=7, min_samples_leaf=4; total time=   0.0s\n",
      "[CV] END .criterion=entropy, max_depth=7, min_samples_leaf=4; total time=   0.0s\n",
      "[CV] END .criterion=entropy, max_depth=7, min_samples_leaf=4; total time=   0.0s\n",
      "[CV] END .criterion=entropy, max_depth=7, min_samples_leaf=4; total time=   0.0s\n",
      "[CV] END .criterion=entropy, max_depth=7, min_samples_leaf=4; total time=   0.1s\n",
      "[CV] END .criterion=entropy, max_depth=7, min_samples_leaf=5; total time=   0.0s\n",
      "[CV] END .criterion=entropy, max_depth=7, min_samples_leaf=5; total time=   0.0s\n",
      "[CV] END .criterion=entropy, max_depth=7, min_samples_leaf=5; total time=   0.0s\n",
      "[CV] END .criterion=entropy, max_depth=7, min_samples_leaf=5; total time=   0.0s\n",
      "[CV] END .criterion=entropy, max_depth=7, min_samples_leaf=5; total time=   0.0s\n",
      "[CV] END .criterion=entropy, max_depth=7, min_samples_leaf=6; total time=   0.0s\n",
      "[CV] END .criterion=entropy, max_depth=7, min_samples_leaf=6; total time=   0.0s\n",
      "[CV] END .criterion=entropy, max_depth=7, min_samples_leaf=6; total time=   0.0s\n",
      "[CV] END .criterion=entropy, max_depth=7, min_samples_leaf=6; total time=   0.0s\n",
      "[CV] END .criterion=entropy, max_depth=7, min_samples_leaf=6; total time=   0.0s\n",
      "[CV] END .criterion=entropy, max_depth=7, min_samples_leaf=7; total time=   0.1s\n",
      "[CV] END .criterion=entropy, max_depth=7, min_samples_leaf=7; total time=   0.0s\n",
      "[CV] END .criterion=entropy, max_depth=7, min_samples_leaf=7; total time=   0.0s\n",
      "[CV] END .criterion=entropy, max_depth=7, min_samples_leaf=7; total time=   0.0s\n",
      "[CV] END .criterion=entropy, max_depth=7, min_samples_leaf=7; total time=   0.1s\n",
      "[CV] END .criterion=entropy, max_depth=7, min_samples_leaf=8; total time=   0.0s\n",
      "[CV] END .criterion=entropy, max_depth=7, min_samples_leaf=8; total time=   0.0s\n",
      "[CV] END .criterion=entropy, max_depth=7, min_samples_leaf=8; total time=   0.0s\n",
      "[CV] END .criterion=entropy, max_depth=7, min_samples_leaf=8; total time=   0.0s\n",
      "[CV] END .criterion=entropy, max_depth=7, min_samples_leaf=8; total time=   0.0s\n",
      "[CV] END .criterion=entropy, max_depth=7, min_samples_leaf=9; total time=   0.1s\n",
      "[CV] END .criterion=entropy, max_depth=7, min_samples_leaf=9; total time=   0.0s\n"
     ]
    },
    {
     "name": "stdout",
     "output_type": "stream",
     "text": [
      "[CV] END .criterion=entropy, max_depth=7, min_samples_leaf=9; total time=   0.0s\n",
      "[CV] END .criterion=entropy, max_depth=7, min_samples_leaf=9; total time=   0.0s\n",
      "[CV] END .criterion=entropy, max_depth=7, min_samples_leaf=9; total time=   0.0s\n",
      "[CV] END .criterion=entropy, max_depth=8, min_samples_leaf=1; total time=   0.1s\n",
      "[CV] END .criterion=entropy, max_depth=8, min_samples_leaf=1; total time=   0.1s\n",
      "[CV] END .criterion=entropy, max_depth=8, min_samples_leaf=1; total time=   0.0s\n",
      "[CV] END .criterion=entropy, max_depth=8, min_samples_leaf=1; total time=   0.1s\n",
      "[CV] END .criterion=entropy, max_depth=8, min_samples_leaf=1; total time=   0.0s\n",
      "[CV] END .criterion=entropy, max_depth=8, min_samples_leaf=2; total time=   0.1s\n",
      "[CV] END .criterion=entropy, max_depth=8, min_samples_leaf=2; total time=   0.0s\n",
      "[CV] END .criterion=entropy, max_depth=8, min_samples_leaf=2; total time=   0.1s\n",
      "[CV] END .criterion=entropy, max_depth=8, min_samples_leaf=2; total time=   0.0s\n",
      "[CV] END .criterion=entropy, max_depth=8, min_samples_leaf=2; total time=   0.0s\n",
      "[CV] END .criterion=entropy, max_depth=8, min_samples_leaf=3; total time=   0.0s\n",
      "[CV] END .criterion=entropy, max_depth=8, min_samples_leaf=3; total time=   0.0s\n",
      "[CV] END .criterion=entropy, max_depth=8, min_samples_leaf=3; total time=   0.0s\n",
      "[CV] END .criterion=entropy, max_depth=8, min_samples_leaf=3; total time=   0.0s\n",
      "[CV] END .criterion=entropy, max_depth=8, min_samples_leaf=3; total time=   0.0s\n",
      "[CV] END .criterion=entropy, max_depth=8, min_samples_leaf=4; total time=   0.0s\n",
      "[CV] END .criterion=entropy, max_depth=8, min_samples_leaf=4; total time=   0.1s\n",
      "[CV] END .criterion=entropy, max_depth=8, min_samples_leaf=4; total time=   0.1s\n",
      "[CV] END .criterion=entropy, max_depth=8, min_samples_leaf=4; total time=   0.0s\n",
      "[CV] END .criterion=entropy, max_depth=8, min_samples_leaf=4; total time=   0.1s\n",
      "[CV] END .criterion=entropy, max_depth=8, min_samples_leaf=5; total time=   0.0s\n",
      "[CV] END .criterion=entropy, max_depth=8, min_samples_leaf=5; total time=   0.0s\n",
      "[CV] END .criterion=entropy, max_depth=8, min_samples_leaf=5; total time=   0.0s\n",
      "[CV] END .criterion=entropy, max_depth=8, min_samples_leaf=5; total time=   0.1s\n",
      "[CV] END .criterion=entropy, max_depth=8, min_samples_leaf=5; total time=   0.0s\n",
      "[CV] END .criterion=entropy, max_depth=8, min_samples_leaf=6; total time=   0.1s\n",
      "[CV] END .criterion=entropy, max_depth=8, min_samples_leaf=6; total time=   0.0s\n",
      "[CV] END .criterion=entropy, max_depth=8, min_samples_leaf=6; total time=   0.0s\n",
      "[CV] END .criterion=entropy, max_depth=8, min_samples_leaf=6; total time=   0.0s\n",
      "[CV] END .criterion=entropy, max_depth=8, min_samples_leaf=6; total time=   0.1s\n",
      "[CV] END .criterion=entropy, max_depth=8, min_samples_leaf=7; total time=   0.0s\n",
      "[CV] END .criterion=entropy, max_depth=8, min_samples_leaf=7; total time=   0.0s\n",
      "[CV] END .criterion=entropy, max_depth=8, min_samples_leaf=7; total time=   0.0s\n",
      "[CV] END .criterion=entropy, max_depth=8, min_samples_leaf=7; total time=   0.1s\n",
      "[CV] END .criterion=entropy, max_depth=8, min_samples_leaf=7; total time=   0.0s\n",
      "[CV] END .criterion=entropy, max_depth=8, min_samples_leaf=8; total time=   0.0s\n",
      "[CV] END .criterion=entropy, max_depth=8, min_samples_leaf=8; total time=   0.0s\n",
      "[CV] END .criterion=entropy, max_depth=8, min_samples_leaf=8; total time=   0.1s\n",
      "[CV] END .criterion=entropy, max_depth=8, min_samples_leaf=8; total time=   0.0s\n",
      "[CV] END .criterion=entropy, max_depth=8, min_samples_leaf=8; total time=   0.0s\n",
      "[CV] END .criterion=entropy, max_depth=8, min_samples_leaf=9; total time=   0.0s\n",
      "[CV] END .criterion=entropy, max_depth=8, min_samples_leaf=9; total time=   0.0s\n",
      "[CV] END .criterion=entropy, max_depth=8, min_samples_leaf=9; total time=   0.0s\n",
      "[CV] END .criterion=entropy, max_depth=8, min_samples_leaf=9; total time=   0.0s\n",
      "[CV] END .criterion=entropy, max_depth=8, min_samples_leaf=9; total time=   0.0s\n",
      "[CV] END .criterion=entropy, max_depth=9, min_samples_leaf=1; total time=   0.0s\n",
      "[CV] END .criterion=entropy, max_depth=9, min_samples_leaf=1; total time=   0.1s\n",
      "[CV] END .criterion=entropy, max_depth=9, min_samples_leaf=1; total time=   0.1s\n",
      "[CV] END .criterion=entropy, max_depth=9, min_samples_leaf=1; total time=   0.0s\n",
      "[CV] END .criterion=entropy, max_depth=9, min_samples_leaf=1; total time=   0.0s\n",
      "[CV] END .criterion=entropy, max_depth=9, min_samples_leaf=2; total time=   0.0s\n",
      "[CV] END .criterion=entropy, max_depth=9, min_samples_leaf=2; total time=   0.1s\n",
      "[CV] END .criterion=entropy, max_depth=9, min_samples_leaf=2; total time=   0.0s\n",
      "[CV] END .criterion=entropy, max_depth=9, min_samples_leaf=2; total time=   0.1s\n",
      "[CV] END .criterion=entropy, max_depth=9, min_samples_leaf=2; total time=   0.0s\n",
      "[CV] END .criterion=entropy, max_depth=9, min_samples_leaf=3; total time=   0.0s\n",
      "[CV] END .criterion=entropy, max_depth=9, min_samples_leaf=3; total time=   0.0s\n",
      "[CV] END .criterion=entropy, max_depth=9, min_samples_leaf=3; total time=   0.0s\n",
      "[CV] END .criterion=entropy, max_depth=9, min_samples_leaf=3; total time=   0.0s\n",
      "[CV] END .criterion=entropy, max_depth=9, min_samples_leaf=3; total time=   0.0s\n",
      "[CV] END .criterion=entropy, max_depth=9, min_samples_leaf=4; total time=   0.0s\n",
      "[CV] END .criterion=entropy, max_depth=9, min_samples_leaf=4; total time=   0.0s\n",
      "[CV] END .criterion=entropy, max_depth=9, min_samples_leaf=4; total time=   0.0s\n",
      "[CV] END .criterion=entropy, max_depth=9, min_samples_leaf=4; total time=   0.0s\n",
      "[CV] END .criterion=entropy, max_depth=9, min_samples_leaf=4; total time=   0.0s\n",
      "[CV] END .criterion=entropy, max_depth=9, min_samples_leaf=5; total time=   0.1s\n",
      "[CV] END .criterion=entropy, max_depth=9, min_samples_leaf=5; total time=   0.0s\n",
      "[CV] END .criterion=entropy, max_depth=9, min_samples_leaf=5; total time=   0.0s\n",
      "[CV] END .criterion=entropy, max_depth=9, min_samples_leaf=5; total time=   0.1s\n",
      "[CV] END .criterion=entropy, max_depth=9, min_samples_leaf=5; total time=   0.0s\n",
      "[CV] END .criterion=entropy, max_depth=9, min_samples_leaf=6; total time=   0.0s\n",
      "[CV] END .criterion=entropy, max_depth=9, min_samples_leaf=6; total time=   0.0s\n",
      "[CV] END .criterion=entropy, max_depth=9, min_samples_leaf=6; total time=   0.1s\n",
      "[CV] END .criterion=entropy, max_depth=9, min_samples_leaf=6; total time=   0.0s\n",
      "[CV] END .criterion=entropy, max_depth=9, min_samples_leaf=6; total time=   0.0s\n",
      "[CV] END .criterion=entropy, max_depth=9, min_samples_leaf=7; total time=   0.0s\n",
      "[CV] END .criterion=entropy, max_depth=9, min_samples_leaf=7; total time=   0.0s\n",
      "[CV] END .criterion=entropy, max_depth=9, min_samples_leaf=7; total time=   0.1s\n",
      "[CV] END .criterion=entropy, max_depth=9, min_samples_leaf=7; total time=   0.1s\n",
      "[CV] END .criterion=entropy, max_depth=9, min_samples_leaf=7; total time=   0.0s\n",
      "[CV] END .criterion=entropy, max_depth=9, min_samples_leaf=8; total time=   0.0s\n",
      "[CV] END .criterion=entropy, max_depth=9, min_samples_leaf=8; total time=   0.0s\n",
      "[CV] END .criterion=entropy, max_depth=9, min_samples_leaf=8; total time=   0.0s\n",
      "[CV] END .criterion=entropy, max_depth=9, min_samples_leaf=8; total time=   0.0s\n",
      "[CV] END .criterion=entropy, max_depth=9, min_samples_leaf=8; total time=   0.0s\n",
      "[CV] END .criterion=entropy, max_depth=9, min_samples_leaf=9; total time=   0.0s\n",
      "[CV] END .criterion=entropy, max_depth=9, min_samples_leaf=9; total time=   0.0s\n",
      "[CV] END .criterion=entropy, max_depth=9, min_samples_leaf=9; total time=   0.1s\n",
      "[CV] END .criterion=entropy, max_depth=9, min_samples_leaf=9; total time=   0.1s\n",
      "[CV] END .criterion=entropy, max_depth=9, min_samples_leaf=9; total time=   0.0s\n"
     ]
    },
    {
     "data": {
      "text/plain": [
       "GridSearchCV(cv=5, estimator=RandomForestClassifier(),\n",
       "             param_grid={'criterion': ['gini', 'entropy'],\n",
       "                         'max_depth': [1, 2, 3, 4, 5, 6, 7, 8, 9],\n",
       "                         'min_samples_leaf': [1, 2, 3, 4, 5, 6, 7, 8, 9]},\n",
       "             scoring='accuracy', verbose=2)"
      ]
     },
     "execution_count": 77,
     "metadata": {},
     "output_type": "execute_result"
    }
   ],
   "source": [
    "grid.fit(xtrain,ytrain)"
   ]
  },
  {
   "cell_type": "code",
   "execution_count": 78,
   "id": "a623db58",
   "metadata": {},
   "outputs": [
    {
     "data": {
      "text/plain": [
       "{'criterion': 'gini', 'max_depth': 4, 'min_samples_leaf': 1}"
      ]
     },
     "execution_count": 78,
     "metadata": {},
     "output_type": "execute_result"
    }
   ],
   "source": [
    "grid.best_params_"
   ]
  },
  {
   "cell_type": "code",
   "execution_count": 79,
   "id": "000094c7",
   "metadata": {},
   "outputs": [
    {
     "data": {
      "text/plain": [
       "0.975"
      ]
     },
     "execution_count": 79,
     "metadata": {},
     "output_type": "execute_result"
    }
   ],
   "source": [
    "grid.best_score_"
   ]
  },
  {
   "cell_type": "code",
   "execution_count": 80,
   "id": "e72d295f",
   "metadata": {},
   "outputs": [
    {
     "data": {
      "text/plain": [
       "RandomForestClassifier(max_depth=4)"
      ]
     },
     "execution_count": 80,
     "metadata": {},
     "output_type": "execute_result"
    }
   ],
   "source": [
    "grid.best_estimator_"
   ]
  },
  {
   "cell_type": "code",
   "execution_count": 81,
   "id": "e7c5271a",
   "metadata": {},
   "outputs": [
    {
     "name": "stdout",
     "output_type": "stream",
     "text": [
      "Training Score:0.9821428571428571\n",
      "Testing Score:0.975\n",
      "Classification Report:\n",
      "              precision    recall  f1-score   support\n",
      "\n",
      "         ckd       0.96      1.00      0.98        75\n",
      "      notckd       1.00      0.93      0.97        45\n",
      "\n",
      "    accuracy                           0.97       120\n",
      "   macro avg       0.98      0.97      0.97       120\n",
      "weighted avg       0.98      0.97      0.97       120\n",
      "\n",
      "[[75  0]\n",
      " [ 3 42]]\n"
     ]
    }
   ],
   "source": [
    "rf1 = mymodel(grid.best_estimator_)"
   ]
  },
  {
   "cell_type": "markdown",
   "id": "52300e77",
   "metadata": {},
   "source": [
    "# NEW OBSERVATION"
   ]
  },
  {
   "cell_type": "code",
   "execution_count": 82,
   "id": "8aafb649",
   "metadata": {},
   "outputs": [],
   "source": [
    "def predictckd():\n",
    "    age = float(input('Enter your age:-'))\n",
    "    bp = float(input('Enter your blood pressure:-'))\n",
    "    sugar = float(input('Enter sugar range(0-5):-'))\n",
    "    bac = input('Enter input in present  or notpresent if you have bacteria:-')\n",
    "    hemo = float(input('Enter hemoglobin:-'))\n",
    "    wbcc = float(input('Enter wbc count:-'))\n",
    "    rbcc = float(input('Enter rbc count:-'))\n",
    "    hypert = input('Do you have hypertension??')\n",
    "    diab = input('Do tou have diabetes??')\n",
    "    cad = input('Do you have coronary artery disease??')\n",
    "    apet = input('How is your appetite good or poor??')\n",
    "    anemia = input('Do you have anemia problem')\n",
    "    \n",
    "    rf1 = RandomForestClassifier()\n",
    "    rf1.fit(xtrain,ytrain)\n",
    "    ypred = rf1.predict(xtest)\n",
    "    \n",
    "    train = rf1.score(xtrain,ytrain)\n",
    "    test = rf1.score(xtest,ytest)\n",
    "    \n",
    " \n",
    "    newob=[age,bp,sugar,bac,hemo,wbcc,rbcc,hypert,diab,cad,apet,anemia]\n",
    "    newob[3],newob[7],newob[8],newob[9],newob[10],newob[11]=oe.transform([[newob[3],newob[7],newob[8],newob[9],newob[10],newob[11]]])[0]\n",
    "    p=rf1.predict([newob])[0]\n",
    "    \n",
    "    if p==1:\n",
    "        print(f'You do not have chronic kidney disease')\n",
    "        return p\n",
    "    else:\n",
    "        print(f'You have chronic kidney disease')\n",
    "        return p"
   ]
  },
  {
   "cell_type": "code",
   "execution_count": 83,
   "id": "b48f455b",
   "metadata": {
    "scrolled": true
   },
   "outputs": [
    {
     "data": {
      "text/html": [
       "<div>\n",
       "<style scoped>\n",
       "    .dataframe tbody tr th:only-of-type {\n",
       "        vertical-align: middle;\n",
       "    }\n",
       "\n",
       "    .dataframe tbody tr th {\n",
       "        vertical-align: top;\n",
       "    }\n",
       "\n",
       "    .dataframe thead th {\n",
       "        text-align: right;\n",
       "    }\n",
       "</style>\n",
       "<table border=\"1\" class=\"dataframe\">\n",
       "  <thead>\n",
       "    <tr style=\"text-align: right;\">\n",
       "      <th></th>\n",
       "      <th>Age</th>\n",
       "      <th>Blood_Pressure</th>\n",
       "      <th>Sugar</th>\n",
       "      <th>Bacteria</th>\n",
       "      <th>Hemoglobin</th>\n",
       "      <th>White_Blood_Cell_Count</th>\n",
       "      <th>Red_Blood_Cell_Count</th>\n",
       "      <th>Hypertension</th>\n",
       "      <th>Diabetes</th>\n",
       "      <th>Coronary_Artery_Disease</th>\n",
       "      <th>Appetite</th>\n",
       "      <th>Anemia</th>\n",
       "    </tr>\n",
       "  </thead>\n",
       "  <tbody>\n",
       "    <tr>\n",
       "      <th>229</th>\n",
       "      <td>59.0</td>\n",
       "      <td>50.0</td>\n",
       "      <td>0.000000</td>\n",
       "      <td>0.0</td>\n",
       "      <td>9.600000</td>\n",
       "      <td>15700.000000</td>\n",
       "      <td>3.800000</td>\n",
       "      <td>0.0</td>\n",
       "      <td>1.0</td>\n",
       "      <td>0.0</td>\n",
       "      <td>0.0</td>\n",
       "      <td>0.0</td>\n",
       "    </tr>\n",
       "    <tr>\n",
       "      <th>228</th>\n",
       "      <td>60.0</td>\n",
       "      <td>70.0</td>\n",
       "      <td>0.450142</td>\n",
       "      <td>0.0</td>\n",
       "      <td>12.526437</td>\n",
       "      <td>8444.912281</td>\n",
       "      <td>4.707435</td>\n",
       "      <td>1.0</td>\n",
       "      <td>0.0</td>\n",
       "      <td>0.0</td>\n",
       "      <td>0.0</td>\n",
       "      <td>0.0</td>\n",
       "    </tr>\n",
       "    <tr>\n",
       "      <th>176</th>\n",
       "      <td>21.0</td>\n",
       "      <td>90.0</td>\n",
       "      <td>0.000000</td>\n",
       "      <td>1.0</td>\n",
       "      <td>8.300000</td>\n",
       "      <td>12400.000000</td>\n",
       "      <td>3.900000</td>\n",
       "      <td>0.0</td>\n",
       "      <td>0.0</td>\n",
       "      <td>0.0</td>\n",
       "      <td>0.0</td>\n",
       "      <td>1.0</td>\n",
       "    </tr>\n",
       "    <tr>\n",
       "      <th>173</th>\n",
       "      <td>17.0</td>\n",
       "      <td>70.0</td>\n",
       "      <td>0.000000</td>\n",
       "      <td>0.0</td>\n",
       "      <td>13.100000</td>\n",
       "      <td>11200.000000</td>\n",
       "      <td>4.707435</td>\n",
       "      <td>0.0</td>\n",
       "      <td>0.0</td>\n",
       "      <td>0.0</td>\n",
       "      <td>0.0</td>\n",
       "      <td>0.0</td>\n",
       "    </tr>\n",
       "    <tr>\n",
       "      <th>352</th>\n",
       "      <td>37.0</td>\n",
       "      <td>60.0</td>\n",
       "      <td>0.000000</td>\n",
       "      <td>0.0</td>\n",
       "      <td>15.000000</td>\n",
       "      <td>7000.000000</td>\n",
       "      <td>5.200000</td>\n",
       "      <td>0.0</td>\n",
       "      <td>0.0</td>\n",
       "      <td>0.0</td>\n",
       "      <td>0.0</td>\n",
       "      <td>0.0</td>\n",
       "    </tr>\n",
       "    <tr>\n",
       "      <th>...</th>\n",
       "      <td>...</td>\n",
       "      <td>...</td>\n",
       "      <td>...</td>\n",
       "      <td>...</td>\n",
       "      <td>...</td>\n",
       "      <td>...</td>\n",
       "      <td>...</td>\n",
       "      <td>...</td>\n",
       "      <td>...</td>\n",
       "      <td>...</td>\n",
       "      <td>...</td>\n",
       "      <td>...</td>\n",
       "    </tr>\n",
       "    <tr>\n",
       "      <th>201</th>\n",
       "      <td>64.0</td>\n",
       "      <td>70.0</td>\n",
       "      <td>0.450142</td>\n",
       "      <td>0.0</td>\n",
       "      <td>7.900000</td>\n",
       "      <td>8444.912281</td>\n",
       "      <td>4.707435</td>\n",
       "      <td>1.0</td>\n",
       "      <td>1.0</td>\n",
       "      <td>1.0</td>\n",
       "      <td>0.0</td>\n",
       "      <td>1.0</td>\n",
       "    </tr>\n",
       "    <tr>\n",
       "      <th>231</th>\n",
       "      <td>60.0</td>\n",
       "      <td>90.0</td>\n",
       "      <td>0.450142</td>\n",
       "      <td>0.0</td>\n",
       "      <td>11.500000</td>\n",
       "      <td>8444.912281</td>\n",
       "      <td>4.707435</td>\n",
       "      <td>1.0</td>\n",
       "      <td>1.0</td>\n",
       "      <td>1.0</td>\n",
       "      <td>0.0</td>\n",
       "      <td>0.0</td>\n",
       "    </tr>\n",
       "    <tr>\n",
       "      <th>5</th>\n",
       "      <td>60.0</td>\n",
       "      <td>90.0</td>\n",
       "      <td>0.000000</td>\n",
       "      <td>0.0</td>\n",
       "      <td>12.200000</td>\n",
       "      <td>7800.000000</td>\n",
       "      <td>4.400000</td>\n",
       "      <td>1.0</td>\n",
       "      <td>1.0</td>\n",
       "      <td>0.0</td>\n",
       "      <td>0.0</td>\n",
       "      <td>0.0</td>\n",
       "    </tr>\n",
       "    <tr>\n",
       "      <th>58</th>\n",
       "      <td>73.0</td>\n",
       "      <td>80.0</td>\n",
       "      <td>0.000000</td>\n",
       "      <td>0.0</td>\n",
       "      <td>10.500000</td>\n",
       "      <td>7200.000000</td>\n",
       "      <td>4.300000</td>\n",
       "      <td>1.0</td>\n",
       "      <td>1.0</td>\n",
       "      <td>1.0</td>\n",
       "      <td>0.0</td>\n",
       "      <td>0.0</td>\n",
       "    </tr>\n",
       "    <tr>\n",
       "      <th>289</th>\n",
       "      <td>42.0</td>\n",
       "      <td>70.0</td>\n",
       "      <td>0.000000</td>\n",
       "      <td>0.0</td>\n",
       "      <td>16.600000</td>\n",
       "      <td>7100.000000</td>\n",
       "      <td>5.300000</td>\n",
       "      <td>0.0</td>\n",
       "      <td>0.0</td>\n",
       "      <td>0.0</td>\n",
       "      <td>0.0</td>\n",
       "      <td>0.0</td>\n",
       "    </tr>\n",
       "  </tbody>\n",
       "</table>\n",
       "<p>280 rows × 12 columns</p>\n",
       "</div>"
      ],
      "text/plain": [
       "      Age  Blood_Pressure     Sugar  Bacteria  Hemoglobin  \\\n",
       "229  59.0            50.0  0.000000       0.0    9.600000   \n",
       "228  60.0            70.0  0.450142       0.0   12.526437   \n",
       "176  21.0            90.0  0.000000       1.0    8.300000   \n",
       "173  17.0            70.0  0.000000       0.0   13.100000   \n",
       "352  37.0            60.0  0.000000       0.0   15.000000   \n",
       "..    ...             ...       ...       ...         ...   \n",
       "201  64.0            70.0  0.450142       0.0    7.900000   \n",
       "231  60.0            90.0  0.450142       0.0   11.500000   \n",
       "5    60.0            90.0  0.000000       0.0   12.200000   \n",
       "58   73.0            80.0  0.000000       0.0   10.500000   \n",
       "289  42.0            70.0  0.000000       0.0   16.600000   \n",
       "\n",
       "     White_Blood_Cell_Count  Red_Blood_Cell_Count  Hypertension  Diabetes  \\\n",
       "229            15700.000000              3.800000           0.0       1.0   \n",
       "228             8444.912281              4.707435           1.0       0.0   \n",
       "176            12400.000000              3.900000           0.0       0.0   \n",
       "173            11200.000000              4.707435           0.0       0.0   \n",
       "352             7000.000000              5.200000           0.0       0.0   \n",
       "..                      ...                   ...           ...       ...   \n",
       "201             8444.912281              4.707435           1.0       1.0   \n",
       "231             8444.912281              4.707435           1.0       1.0   \n",
       "5               7800.000000              4.400000           1.0       1.0   \n",
       "58              7200.000000              4.300000           1.0       1.0   \n",
       "289             7100.000000              5.300000           0.0       0.0   \n",
       "\n",
       "     Coronary_Artery_Disease  Appetite  Anemia  \n",
       "229                      0.0       0.0     0.0  \n",
       "228                      0.0       0.0     0.0  \n",
       "176                      0.0       0.0     1.0  \n",
       "173                      0.0       0.0     0.0  \n",
       "352                      0.0       0.0     0.0  \n",
       "..                       ...       ...     ...  \n",
       "201                      1.0       0.0     1.0  \n",
       "231                      1.0       0.0     0.0  \n",
       "5                        0.0       0.0     0.0  \n",
       "58                       1.0       0.0     0.0  \n",
       "289                      0.0       0.0     0.0  \n",
       "\n",
       "[280 rows x 12 columns]"
      ]
     },
     "execution_count": 83,
     "metadata": {},
     "output_type": "execute_result"
    }
   ],
   "source": [
    "xtrain"
   ]
  },
  {
   "cell_type": "code",
   "execution_count": 85,
   "id": "1f2e47f8",
   "metadata": {
    "scrolled": false
   },
   "outputs": [
    {
     "name": "stdout",
     "output_type": "stream",
     "text": [
      "Enter your age:-60\n",
      "Enter your blood pressure:-90\n",
      "Enter sugar range(0-5):-0\n",
      "Enter input in present  or notpresent if you have bacteria:-present\n",
      "Enter hemoglobin:-12.200000\n",
      "Enter wbc count:-7800.000000\n",
      "Enter rbc count:-4.400000\n",
      "Do you have hypertension??no\n",
      "Do tou have diabetes??no\n",
      "Do you have coronary artery disease??yes\n",
      "How is your appetite good or poor??good\n",
      "Do you have anemia problemyes\n",
      "You have chronic kidney disease\n"
     ]
    },
    {
     "data": {
      "text/plain": [
       "'ckd'"
      ]
     },
     "execution_count": 85,
     "metadata": {},
     "output_type": "execute_result"
    }
   ],
   "source": [
    "predictckd()"
   ]
  }
 ],
 "metadata": {
  "kernelspec": {
   "display_name": "Python 3 (ipykernel)",
   "language": "python",
   "name": "python3"
  },
  "language_info": {
   "codemirror_mode": {
    "name": "ipython",
    "version": 3
   },
   "file_extension": ".py",
   "mimetype": "text/x-python",
   "name": "python",
   "nbconvert_exporter": "python",
   "pygments_lexer": "ipython3",
   "version": "3.9.12"
  }
 },
 "nbformat": 4,
 "nbformat_minor": 5
}
